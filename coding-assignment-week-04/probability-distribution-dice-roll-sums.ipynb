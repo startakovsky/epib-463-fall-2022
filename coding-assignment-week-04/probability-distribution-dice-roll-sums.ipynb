{
 "cells": [
  {
   "cell_type": "markdown",
   "id": "f2219f94",
   "metadata": {},
   "source": [
    "# The Probability Distribution of Dice Roll Sums\n",
    "\n",
    "_Like always, please read through my words carefully. I expect you to understand what they mean. If they don't, it is your responsibility to figure it out. You have support resources in this course that have been described previously, and it is on you to take advantage of them._\n",
    "\n",
    "**Notebook Rules:** I will type either **Markdown Exercise** or **Coding Exercise**. For _markdown_, create a new markdown cell, and for _coding_ create a new code cell. Do so underneath the cell where the question is asked. If you are unclear on these directions, you have many choices of what you can do (e.g., ask in Slack)."
   ]
  },
  {
   "cell_type": "markdown",
   "id": "dc47de6e",
   "metadata": {},
   "source": [
    "## 1. Warm up exercises with the `print` function.\n",
    "\n",
    "Let's warm up."
   ]
  },
  {
   "cell_type": "markdown",
   "id": "e949ec0b",
   "metadata": {},
   "source": [
    "**1.1 Markdown Exercise**\n",
    "\n",
    "Why is it useful to have and to use the `print` function while learning python? "
   ]
  },
  {
   "cell_type": "markdown",
   "id": "aa28d46f",
   "metadata": {},
   "source": [
    "**1.2 Markdown Exercise**\n",
    "\n",
    "What is the difference between an _argument_ and a _keyword argument_?"
   ]
  },
  {
   "cell_type": "markdown",
   "id": "589352fa",
   "metadata": {},
   "source": [
    "**1.3 Markdown Exercise**\n",
    "\n",
    "What are the arguments and keyword arguments in the `print` function?"
   ]
  },
  {
   "cell_type": "markdown",
   "id": "cf29c85d",
   "metadata": {},
   "source": [
    "**1.4 Coding Exercise**\n",
    "\n",
    "Evaluate the expression `print(1, 2)`. Try to imagine what it will print out before evaluating the cell."
   ]
  },
  {
   "cell_type": "markdown",
   "id": "1e2de246",
   "metadata": {},
   "source": [
    "**1.5 Coding Exercise**\n",
    "\n",
    "Use the `print` function above to print `1, 2` instead of `1 2`."
   ]
  },
  {
   "cell_type": "markdown",
   "id": "7cd52345",
   "metadata": {},
   "source": [
    "**1.6 Coding Exercise**\n",
    "\n",
    "Evaluate the code block below.\n",
    "\n",
    "```python\n",
    "print(1)\n",
    "print(2)\n",
    "```"
   ]
  },
  {
   "cell_type": "markdown",
   "id": "7440cfae",
   "metadata": {},
   "source": [
    "**1.7 Coding Exercise**\n",
    "\n",
    "There is a way to print 1 and 2 side by side where you use the print statement twice in two separate lines such as in the previous exercise. Try to do that."
   ]
  },
  {
   "cell_type": "markdown",
   "id": "fc0ca6c1",
   "metadata": {},
   "source": [
    "**1.8 Coding Exercise**\n",
    "\n",
    "Print the numbers from 1 to 100, including 1 and 100, they should be separated by a comma and a space (i.e. `1, 2, 3, 4, ... , 99, 100`)."
   ]
  },
  {
   "cell_type": "markdown",
   "id": "a2896d7c",
   "metadata": {},
   "source": [
    "**1.9 Coding Exercise**\n",
    "\n",
    "Print the numbers from 1 to 400, including 1 and excluding 400. They should be separated by a `$` and a space."
   ]
  },
  {
   "cell_type": "markdown",
   "id": "9cbf55f3",
   "metadata": {},
   "source": [
    "**1.10 Coding Exercise**\n",
    "\n",
    "Print the numbers from 1 to 340, including 1 and 340. There should be 22 numbers in each row except for the last, which should have less than 22 numbers. Each number should have a comma and a space after it, except the number at the right end of the row."
   ]
  },
  {
   "cell_type": "markdown",
   "id": "2d51ab7a",
   "metadata": {},
   "source": [
    "**1.11 Coding Exercise**\n",
    "\n",
    "Write a function named `print_some_numbers` that takes in two keyword arguments `max_number` and `numbers_per_row`, and allows you to evaluate `print_some_numbers(max_number=340, numbers_per_row=22)`, and allows you to solve the previous exercise."
   ]
  },
  {
   "cell_type": "markdown",
   "id": "0c5858bd",
   "metadata": {},
   "source": [
    "**1.12 Coding Exercise**\n",
    "\n",
    "Print out the numbers from 1 to 100 in 5 rows, where each row has the same number of numbers. For those that understand what we're doing, this should be an easy question where you can do this by writing one line of code."
   ]
  },
  {
   "cell_type": "markdown",
   "id": "0c97ffac",
   "metadata": {},
   "source": [
    "## 2 Warm up exercises with `list` and `dict`."
   ]
  },
  {
   "cell_type": "markdown",
   "id": "ede420b6",
   "metadata": {},
   "source": [
    "**2.1 Markdown Exercise** \n",
    "\n",
    "What can you do with a list that you can't do with a tuple?"
   ]
  },
  {
   "cell_type": "markdown",
   "id": "4f01f50f",
   "metadata": {},
   "source": [
    "**2.2 Coding Exercise**\n",
    "\n",
    "Make a list `positive_even_numbers_less_than_100` that contain all even numbers between 0 and 100, excluding 0 and excluding 100."
   ]
  },
  {
   "cell_type": "markdown",
   "id": "66e109ca",
   "metadata": {},
   "source": [
    "**2.3 Coding Exercise**\n",
    "\n",
    "Print the number of items in `positive_even_numbers_less_than_100` that are divisible by 5."
   ]
  },
  {
   "cell_type": "markdown",
   "id": "972b277c",
   "metadata": {},
   "source": [
    "**2.4 Coding Exercise**\n",
    "\n",
    "Create a list named `nums_divisible_by_7` that is the intersection of all numbers divisible by 7 and `positive_even_numbers_less_than_100`.\n",
    "\n",
    "_Note `nums_divisible_by_7` is a suboptimal variable name. Ask me in class or slack to learn why._"
   ]
  },
  {
   "cell_type": "markdown",
   "id": "5e66144c",
   "metadata": {},
   "source": [
    "**2.5 Coding Exercise**\n",
    "\n",
    "Print the number of items in `nums_divisible_by_7`."
   ]
  },
  {
   "cell_type": "markdown",
   "id": "cd2b9c9b",
   "metadata": {},
   "source": [
    "**2.6 Coding Exercise**\n",
    "\n",
    "Create a list called `foo` which concatenates the list `nums_divisible_by_7` and `[6, 6, 6, 6, 7, 8, 9, 10, 11, 12, 13, 14]`."
   ]
  },
  {
   "cell_type": "markdown",
   "id": "709c0b6d",
   "metadata": {},
   "source": [
    "**2.7 Coding Exercise**\n",
    "\n",
    "Create and print a dictionary called `foo_map` where its keys are `foo` and values are whether the key is divisible by 5, 6, or 11. At the bottom of your code block type `foo_map` so that it will output the contents of `foo_map`."
   ]
  },
  {
   "cell_type": "markdown",
   "id": "c6ac58bc",
   "metadata": {},
   "source": [
    "**2.8 Markdown Exercise**\n",
    "\n",
    "What is the difference between when you type `print(foo_map)` and put `foo_map` on the bottom of a code cell and evaluate it."
   ]
  },
  {
   "cell_type": "markdown",
   "id": "540fb462",
   "metadata": {},
   "source": [
    "## 3 Coding Dice Rolls\n",
    "\n",
    "**Steps from class on Thursday, Week 4** \n",
    "\n",
    "1. Create all possible dice outcomes\n",
    "2. Create the random variable to map each roll to its sum\n",
    "3. Organize outcomes by the value of the random variable\n",
    "4. Compute the probability of each value the random variable takes. \n",
    "5. Graph the probability distribution.\n",
    "\n",
    "> _We started this on Thursday. My gut tells me that students are not practicing enough. One way to practice is to run through the material again. When you are learning how to do a move in karate, or learning how to play a musical instrument, doing the move one time is not how you learn the material. The way you learn is through repetition. Again and again. Even if it's the same problem. I encourage you to supplement your training with those sorts of exercises. For example, take the problems you were able to complete so far in this assignment. Maybe some of you could do half of them on your own - that's okay. Ask for help, try again. These are the wax ons and wax offs of learning to code. Trust me, it will get easier._\n",
    "\n",
    "> _One more thing, these assignments are intended to help you build a solid foundation for understanding statistics deeper and statistical programming. While we are not there yet, we will be, mostly after the first midterm, where your understanding will grow deeper._"
   ]
  },
  {
   "cell_type": "markdown",
   "id": "ebb87dea",
   "metadata": {},
   "source": [
    "### 3.1 Create all possible dice outcomes\n",
    "\n",
    "This is what we did in class. I will also ask some questions to check your understanding of probability terms and concepts. "
   ]
  },
  {
   "cell_type": "markdown",
   "id": "f0101dd7",
   "metadata": {},
   "source": [
    "**3.1.1 Coding Exercise**\n",
    "\n",
    "Print the numbers from 15 to 30 on the same line without using any of the following symbols: `<, >, =, +, -`."
   ]
  },
  {
   "cell_type": "markdown",
   "id": "8ed73b0d",
   "metadata": {},
   "source": [
    "**3.1.2 Coding Exercise**\n",
    "\n",
    "Create a list `die_roll_outcomes` and put the numbers from 1 to 6 in that list."
   ]
  },
  {
   "cell_type": "markdown",
   "id": "c39066b1",
   "metadata": {},
   "source": [
    "**3.1.3 Coding Exercise**\n",
    "\n",
    "Create all possible dice roll outcomes and put them in a list of tuples, where each tuple is of length two. Put them in a list named `dice_roll_outcomes`."
   ]
  },
  {
   "cell_type": "markdown",
   "id": "e58ee15a",
   "metadata": {},
   "source": [
    "**3.1.4 Coding Exercise**\n",
    "\n",
    "Print `dice_roll_outcomes`."
   ]
  },
  {
   "cell_type": "markdown",
   "id": "11f5cda6",
   "metadata": {},
   "source": [
    "**3.1.5 Coding Exercise**\n",
    "\n",
    "How many outcomes are in `dice_roll_outcomes`? (Since this is a coding exercise, use code to answer the question and print the answer.)"
   ]
  },
  {
   "cell_type": "markdown",
   "id": "b4ce71ee",
   "metadata": {},
   "source": [
    "**3.1.6 Coding Exercise**\n",
    "\n",
    "These outcomes make up your sample space for the random experiment of dice rolling. Hopefully you remember what a **random experiment** is. If you do not, I encourage you to look it up. Each dice roll outcome is equally likely, because for each die roll the 6 outcomes are equally likely. What is the probability of each outcome? Again, this is a coding question. Use code to compute and print the probability, in decimal form, of each outcome."
   ]
  },
  {
   "cell_type": "markdown",
   "id": "cae3de79",
   "metadata": {},
   "source": [
    "**3.1.7 Markdown Exercise**\n",
    "\n",
    "Summarize what you have learned in the previous questions, 3.1.1 to 3.1.7."
   ]
  },
  {
   "cell_type": "markdown",
   "id": "4936c169",
   "metadata": {},
   "source": [
    "### 3.2 Create the random variable to map each dice roll outcome to its sum\n",
    "\n",
    "We did this in class. I will also ask some questions to check for probability concept understanding."
   ]
  },
  {
   "cell_type": "markdown",
   "id": "23756fd4",
   "metadata": {},
   "source": [
    "**3.2.1 Markdown Exercise**\n",
    "\n",
    "What is a random variable?"
   ]
  },
  {
   "cell_type": "markdown",
   "id": "a76878eb",
   "metadata": {},
   "source": [
    "**3.2.2 Markdown Exercise**\n",
    "\n",
    "What is a function?"
   ]
  },
  {
   "cell_type": "markdown",
   "id": "89ab3732",
   "metadata": {},
   "source": [
    "**3.2.3 Coding Exercise**\n",
    "\n",
    "Above, you created a list that represents a sample space of outcomes of dice rolls. The name of this list is `dice_roll_outcomes`. In this problem, create a dictionary `dice_roll_to_sum` where the _keys_ of the dictionary are the outcomes and the _values_ of the dictionary are the sums of the dice rolls. At the bottom of your code cell, type `dice_roll_to_sum` so that it will show the dictionary for me to see.\n",
    "\n",
    "_Pro-tip: When I come up with the names of these variables, I think hard about appropriate naming so that it would make sense to the reader of my code in the future (even if the reader is my future self)._"
   ]
  },
  {
   "cell_type": "markdown",
   "id": "f92880b1",
   "metadata": {},
   "source": [
    "**3.2.4 Coding Exercise**\n",
    "\n",
    "Create a dictionary named `dice_roll_to_abs_diff` which will compute the absolute value of the difference between the numbers on each die in a given dice roll. Make sure the dictionary you created is displayed in the output of your code cell."
   ]
  },
  {
   "cell_type": "markdown",
   "id": "6dff3af5",
   "metadata": {},
   "source": [
    "**3.2.5 Coding Exercise**\n",
    "\n",
    "Create a dictionary named `dice_roll_to_max` which will compute the maximum number that shows up on each die."
   ]
  },
  {
   "cell_type": "markdown",
   "id": "2f7040a7",
   "metadata": {},
   "source": [
    "**3.2.6 Markdown Exercise**\n",
    "\n",
    "You have created 3 dictionaries in the above exercises. All three dictionaries represent a concept, or vocabulary term from probability. Which vocabulary term does it bring to mind? Explain."
   ]
  },
  {
   "cell_type": "markdown",
   "id": "9bee49e5",
   "metadata": {},
   "source": [
    "### 3.3 Organizing outcomes by the values the random variable takes"
   ]
  },
  {
   "cell_type": "markdown",
   "id": "f0b2ced9",
   "metadata": {},
   "source": [
    "**3.3.1 Coding Exercise**\n",
    "\n",
    "Imagine in your head, or use a piece of paper, to determine what the most common sum is when rolling 2 dice. Now, create a for loop and iterate through `dice_roll_outcomes` (e.g. `for outcome in dice_roll_outcomes:`), and selectively print out the outcomes that correspond to that most common sum."
   ]
  },
  {
   "cell_type": "markdown",
   "id": "04fc67bf",
   "metadata": {},
   "source": [
    "**3.3.2 Coding Exercise**\n",
    "\n",
    "Make a list of the first 50 numbers in one line, like this: `first_50_nums = list(range(1, 51))`."
   ]
  },
  {
   "cell_type": "markdown",
   "id": "3d88bf8a",
   "metadata": {},
   "source": [
    "**3.3.3 Coding Exercise**\n",
    "\n",
    "Now make a function named `is_it_in_the_list` that takes two arguments named `it` and `list_`. This function should return a boolean that checks whether `it` is in the list named `list_`.\n",
    "\n",
    "_Note that the reason I have chosen `list_` as the variable name is because `list` is a reserved word in Python. Any questions on this can be answered over slack or in class, time permitting. You are also encouraged to google such things._ "
   ]
  },
  {
   "cell_type": "markdown",
   "id": "276ed2f4",
   "metadata": {},
   "source": [
    "**3.3.4 Coding Exercise**\n",
    "\n",
    "Use `is_it_in_the_list` to determine whether `0` is in `first_50_nums`. This should be one line of code."
   ]
  },
  {
   "cell_type": "markdown",
   "id": "36f0fd0d",
   "metadata": {},
   "source": [
    "**3.3.5 Coding Exercise**\n",
    "\n",
    "Iterate through the _values_ of `dice_roll_to_sum` and put them in an appropriately named list."
   ]
  },
  {
   "cell_type": "markdown",
   "id": "e84bb111",
   "metadata": {},
   "source": [
    "**3.3.6 Coding Exercise**\n",
    "\n",
    "Now do the same thing you did above, but this time check to see, if the number already exists. If it does skip it, do not add it to a list. Of course, when picking a list name for this exercise, give it a name that is different from the previous exercise. This list should not have duplicates."
   ]
  },
  {
   "cell_type": "markdown",
   "id": "8846949d",
   "metadata": {},
   "source": [
    "**3.3.7 Coding Exercise**\n",
    "\n",
    "In the Python documentation, a `set` is another kind of object you may not have heard of before, or maybe you don't remember. The documentation states, roughtly, that \"A set object is an unordered collection of distinct objects.\" Try it out for yourself. Evaluate the following code in the next cell: `set(dice_roll_to_sum.values())`"
   ]
  },
  {
   "cell_type": "markdown",
   "id": "b3e4c33a",
   "metadata": {},
   "source": [
    "**3.3.8 Markdown Exercise**\n",
    "\n",
    "The outputs of the above two exercises (i.e. 3.3.6 and 3.3.7) should be similar. Are they? How are they similar and how are they different?"
   ]
  },
  {
   "cell_type": "markdown",
   "id": "c0e0f196",
   "metadata": {},
   "source": [
    "**3.3.9 Coding Exercise**\n",
    "\n",
    "Count how many outcomes are associated to a particular sum and organize your results in a dictionary. For example, there are exactly 2 ways to get the sum to equal 3; they are (1,2) and (2,1). So . . . in your dictionary the number 3 should be mapped to 2. Give your dictionary an appropriate naming (it is a little challenging to come up with appropriate variable names and this skill comes with practice)."
   ]
  },
  {
   "cell_type": "markdown",
   "id": "d0c326b8",
   "metadata": {},
   "source": [
    "**3.3.10 Coding Exercise**\n",
    "\n",
    "So . . . in the previous exercise you have a sequence of numbers (sums) and you made a dictionary which mapped each sum to the number times it appeared in the sequence. Didn't you do something like this in the previous homework assignment? (Rhetorical) In fact, I am pretty sure I demonstrated how you might do something like this with the `collections` module. You may not remember this module, but it is built into the standard Python library. In it, you can find `Counter`. Use `Counter` to produce the results you achieved in the previous exercise. Also, go back to your previous assignment to see how you used it, or look it up as needed. "
   ]
  },
  {
   "cell_type": "markdown",
   "id": "2cbe6bbc",
   "metadata": {},
   "source": [
    "**3.3.11 Coding Exercise** \n",
    "\n",
    "In this problem, create a dictionary `sum_to_outcomes` mapping every possible sum in a dice roll to the outcomes that result in that sum. You should only need `dice_roll_to_sum` to accomplish this goal. What we want to do is have a visual grouping. For example, one key-value pair in this dictionary would be `3 -> [(1,2), (2,1)]` (the `->` symbol is intended to be an arrow). The keys of your dictionary will be of the type `int` while the values will be of type `list`."
   ]
  },
  {
   "cell_type": "markdown",
   "id": "af429b9c",
   "metadata": {},
   "source": [
    "### 3.4 Compute the probability of each value the random variable takes\n",
    "\n",
    "This section should be straightforward. The bulk of the work is behind us now."
   ]
  },
  {
   "cell_type": "markdown",
   "id": "172f5ee9",
   "metadata": {},
   "source": [
    "**3.4.1 Markdown Exercise**\n",
    "\n",
    "Is each dice roll equally likely?"
   ]
  },
  {
   "cell_type": "markdown",
   "id": "bc80469e",
   "metadata": {},
   "source": [
    "**3.4.2 Coding Exercise**\n",
    "\n",
    "What is the probability of each of the possible 36 dice roll outcomes? This is a coding exercise. You can do it in one line, without typing the number 36."
   ]
  },
  {
   "cell_type": "markdown",
   "id": "dd491d7b",
   "metadata": {},
   "source": [
    "**3.4.3 Coding Exercise**\n",
    "\n",
    "If the dice rolls sum to 3, that can be thought of as an event. It is the event that is equal to the set A = {(1,2), (2,1)}. What is the probability of A? Or, without using \"A\", what is the probability that the sum of the dice is 3. Use code to solve this question. You may use any of the dictionaries created in the last few questions of the previous section."
   ]
  },
  {
   "cell_type": "markdown",
   "id": "8ab69a46",
   "metadata": {},
   "source": [
    "**3.4.4 Coding Exercise**\n",
    "\n",
    "What is the probability of rolling two fair dice where they sum up to 5?"
   ]
  },
  {
   "cell_type": "markdown",
   "id": "893d5b48",
   "metadata": {},
   "source": [
    "**3.4.5 Coding Exercise**\n",
    "\n",
    "What is the probability of rolling two fair dice where they sum up to 5 or 7?"
   ]
  },
  {
   "cell_type": "markdown",
   "id": "1d0407fb",
   "metadata": {},
   "source": [
    "**3.4.6 Coding Exercise**\n",
    "\n",
    "What is the probability of rolling at most a 10?"
   ]
  },
  {
   "cell_type": "markdown",
   "id": "d36c7249",
   "metadata": {},
   "source": [
    "**3.4.7 Coding Exercise**\n",
    "\n",
    "Make a dictionary that shows up in the coding output which maps each sum to its respective probability. Name the dictionary `sum_to_probability`. One way to construct this dictionary is to iterate through the keys and values of one of the dictionaries you created in the last few sections of the previous exercise."
   ]
  },
  {
   "cell_type": "markdown",
   "id": "a0e48f99",
   "metadata": {},
   "source": [
    "**3.4.8 Coding Exercise**\n",
    "\n",
    "I really hope that `sum_to_probability` is a construct that makes sense to you. In this construct you can look at the individual values in the range of the _sum_ random variable (remember that a random variable is a function). Notice how `sum_to_probability` doesn't even include the individual outcomes in the first place. What is the sum of all the values of the dictionary `sum_to_probability`? Before writing the code to this answer, what do you think it will be?"
   ]
  },
  {
   "cell_type": "markdown",
   "id": "cd6bc9bd",
   "metadata": {},
   "source": [
    "### 3.5 Graph the probability distribution\n",
    "\n",
    "The final bit of this homework assignment."
   ]
  },
  {
   "cell_type": "markdown",
   "id": "3d9ef64b",
   "metadata": {},
   "source": [
    "**3.5.1 Markdown Exercise**\n",
    "\n",
    "I may not have used this language before, but in exercise 3.4.7 above, you have created the _probability distribution_ associated to the random variable that computes the sum of dice rolls. Take a moment and reflect on everything you've done so far. Put your reflections in writing below."
   ]
  },
  {
   "cell_type": "markdown",
   "id": "add6af3c",
   "metadata": {},
   "source": [
    "**3.5.2 Coding Exercise**\n",
    "\n",
    "We are almost done. Plot the probability distribution. Put a title on it. Label your axes and create something you feel proud of, that is a good visual representation of the probability distribution of the _sum_ random variable.\n",
    "\n",
    "Hint: Use `matplotlib` unless you want to use some other graphing library we haven't discussed in class. I am going to leave the challenge of this last exercise to you, and not break it down into simpler blocks. Remember you can try as many different codes as you want. It's part of the learning process since this stuff computes quickly. So just try and see what works."
   ]
  }
 ],
 "metadata": {
  "kernelspec": {
   "display_name": "Python 3 (ipykernel)",
   "language": "python",
   "name": "python3"
  },
  "language_info": {
   "codemirror_mode": {
    "name": "ipython",
    "version": 3
   },
   "file_extension": ".py",
   "mimetype": "text/x-python",
   "name": "python",
   "nbconvert_exporter": "python",
   "pygments_lexer": "ipython3",
   "version": "3.7.13"
  }
 },
 "nbformat": 4,
 "nbformat_minor": 5
}
