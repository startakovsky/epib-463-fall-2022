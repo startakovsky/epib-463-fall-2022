{
 "cells": [
  {
   "cell_type": "markdown",
   "id": "f2219f94",
   "metadata": {},
   "source": [
    "# The Probability Distribution of Dice Roll Sums\n",
    "\n",
    "_Like always, please read through my words carefully. I expect you to understand what they mean. If they don't, it is your responsibility to figure it out. You have support resources in this course that have been described previously, and it is on you to take advantage of them._\n",
    "\n",
    "**Notebook Rules:** I will type either **Markdown Exercise** or **Coding Exercise**. For _markdown_, create a new markdown cell, and for _coding_ create a new code cell. Do so underneath the cell where the question is asked. If you are unclear on these directions, you have many choices of what you can do (e.g., ask in Slack)."
   ]
  },
  {
   "cell_type": "markdown",
   "id": "dc47de6e",
   "metadata": {},
   "source": [
    "## 1. Warm up exercises with the `print` function.\n",
    "\n",
    "Let's warm up."
   ]
  },
  {
   "cell_type": "markdown",
   "id": "e949ec0b",
   "metadata": {},
   "source": [
    "**1.1 Markdown Exercise**\n",
    "\n",
    "Why is it useful to have and to use the `print` function while learning python? "
   ]
  },
  {
   "cell_type": "markdown",
   "id": "cc6d4197",
   "metadata": {},
   "source": [
    "It is useful to express the state of the program. For example, if you have a for loop, and you want to know what the value is of a variable that is being modified throughout the for loop (eg. a dictionary), then the print statement enables you to do that."
   ]
  },
  {
   "cell_type": "markdown",
   "id": "aa28d46f",
   "metadata": {},
   "source": [
    "**1.2 Markdown Exercise**\n",
    "\n",
    "What is the difference between an _argument_ and a _keyword argument_?"
   ]
  },
  {
   "cell_type": "markdown",
   "id": "f5e4ee02",
   "metadata": {},
   "source": [
    "A [positional] argument is identified by its position and is required. A keyword arguement is optional and has a default value. Its position doesn't matter next to other keyword arguments, but the position of all keyword arguments must be after the arguments when calling or defining a function.\n",
    "\n",
    "In a Python function, there are two kinds of inputs. Arguments don't have a name, it is just order of entry that tells the program what is what. For example, consider this function:\n",
    "\n",
    "```python\n",
    "def foo(x, y):\n",
    "    return x/y\n",
    "```\n",
    "\n",
    "In this function, x is the numerator and y is the denominator.\n",
    "\n",
    "You can also add on keyword arguments. For example:\n",
    "\n",
    "```python\n",
    "def foo(x, y, scale=1, output_word='default'):\n",
    "    print(output_word)\n",
    "    return x/y*scale\n",
    "```"
   ]
  },
  {
   "cell_type": "markdown",
   "id": "d7c6ed42",
   "metadata": {},
   "source": [
    "**1.3 Markdown Exercise**\n",
    "\n",
    "What are the arguments and keyword arguments in the `print` function?"
   ]
  },
  {
   "cell_type": "markdown",
   "id": "21724961",
   "metadata": {},
   "source": [
    "The arguments are the values to be printed, and the keyword arguments are listed below:\n",
    "  - sep=' '\n",
    "  - end='\\n'\n",
    "  - file=sys.stdout\n",
    "  - flush=False"
   ]
  },
  {
   "cell_type": "markdown",
   "id": "cf29c85d",
   "metadata": {},
   "source": [
    "**1.4 Coding Exercise**\n",
    "\n",
    "Evaluate the expression `print(1, 2)`. Try to imagine what it will print out before evaluating the cell."
   ]
  },
  {
   "cell_type": "code",
   "execution_count": 1,
   "id": "0dea30a4",
   "metadata": {},
   "outputs": [
    {
     "name": "stdout",
     "output_type": "stream",
     "text": [
      "1 2\n"
     ]
    }
   ],
   "source": [
    "print(1, 2)"
   ]
  },
  {
   "cell_type": "markdown",
   "id": "1e2de246",
   "metadata": {},
   "source": [
    "**1.5 Coding Exercise**\n",
    "\n",
    "Use the `print` function above to print `1, 2` instead of `1 2`."
   ]
  },
  {
   "cell_type": "code",
   "execution_count": 2,
   "id": "da26f0c0",
   "metadata": {},
   "outputs": [
    {
     "name": "stdout",
     "output_type": "stream",
     "text": [
      "1, 2\n"
     ]
    }
   ],
   "source": [
    "print(1, 2, sep=', ')"
   ]
  },
  {
   "cell_type": "markdown",
   "id": "7cd52345",
   "metadata": {},
   "source": [
    "**1.6 Coding Exercise**\n",
    "\n",
    "Evaluate the code block below.\n",
    "\n",
    "```python\n",
    "print(1)\n",
    "print(2)\n",
    "```"
   ]
  },
  {
   "cell_type": "code",
   "execution_count": 3,
   "id": "896a2e3d",
   "metadata": {},
   "outputs": [
    {
     "name": "stdout",
     "output_type": "stream",
     "text": [
      "1\n",
      "2\n"
     ]
    }
   ],
   "source": [
    "print(1)\n",
    "print(2)"
   ]
  },
  {
   "cell_type": "markdown",
   "id": "7440cfae",
   "metadata": {},
   "source": [
    "**1.7 Coding Exercise**\n",
    "\n",
    "There is a way to print 1 and 2 side by side where you use the print statement twice in two separate lines such as in the previous exercise. Try to do that."
   ]
  },
  {
   "cell_type": "code",
   "execution_count": 4,
   "id": "a3e4d95f",
   "metadata": {},
   "outputs": [
    {
     "name": "stdout",
     "output_type": "stream",
     "text": [
      "1 2\n"
     ]
    }
   ],
   "source": [
    "print(1, end=' ')\n",
    "print(2)"
   ]
  },
  {
   "cell_type": "markdown",
   "id": "fc0ca6c1",
   "metadata": {},
   "source": [
    "**1.8 Coding Exercise**\n",
    "\n",
    "Print the numbers from 1 to 100, including 1 and 100, they should be separated by a comma and a space (i.e. `1, 2, 3, 4, ... , 99, 100`)."
   ]
  },
  {
   "cell_type": "code",
   "execution_count": 5,
   "id": "223e1b62",
   "metadata": {},
   "outputs": [
    {
     "name": "stdout",
     "output_type": "stream",
     "text": [
      "1, 2, 3, 4, 5, 6, 7, 8, 9, 10, 11, 12, 13, 14, 15, 16, 17, 18, 19, 20, 21, 22, 23, 24, 25, 26, 27, 28, 29, 30, 31, 32, 33, 34, 35, 36, 37, 38, 39, 40, 41, 42, 43, 44, 45, 46, 47, 48, 49, 50, 51, 52, 53, 54, 55, 56, 57, 58, 59, 60, 61, 62, 63, 64, 65, 66, 67, 68, 69, 70, 71, 72, 73, 74, 75, 76, 77, 78, 79, 80, 81, 82, 83, 84, 85, 86, 87, 88, 89, 90, 91, 92, 93, 94, 95, 96, 97, 98, 99, 100\n"
     ]
    }
   ],
   "source": [
    "for num in range(1, 100):\n",
    "    print(num, end=', ')\n",
    "print(100)"
   ]
  },
  {
   "cell_type": "markdown",
   "id": "a2896d7c",
   "metadata": {},
   "source": [
    "**1.9 Coding Exercise**\n",
    "\n",
    "Print the numbers from 1 to 400, including 1 and excluding 400. They should be separated by a `$` and a space."
   ]
  },
  {
   "cell_type": "code",
   "execution_count": 6,
   "id": "21ccaac7",
   "metadata": {},
   "outputs": [
    {
     "name": "stdout",
     "output_type": "stream",
     "text": [
      "1$ 2$ 3$ 4$ 5$ 6$ 7$ 8$ 9$ 10$ 11$ 12$ 13$ 14$ 15$ 16$ 17$ 18$ 19$ 20$ 21$ 22$ 23$ 24$ 25$ 26$ 27$ 28$ 29$ 30$ 31$ 32$ 33$ 34$ 35$ 36$ 37$ 38$ 39$ 40$ 41$ 42$ 43$ 44$ 45$ 46$ 47$ 48$ 49$ 50$ 51$ 52$ 53$ 54$ 55$ 56$ 57$ 58$ 59$ 60$ 61$ 62$ 63$ 64$ 65$ 66$ 67$ 68$ 69$ 70$ 71$ 72$ 73$ 74$ 75$ 76$ 77$ 78$ 79$ 80$ 81$ 82$ 83$ 84$ 85$ 86$ 87$ 88$ 89$ 90$ 91$ 92$ 93$ 94$ 95$ 96$ 97$ 98$ 99$ 100$ 101$ 102$ 103$ 104$ 105$ 106$ 107$ 108$ 109$ 110$ 111$ 112$ 113$ 114$ 115$ 116$ 117$ 118$ 119$ 120$ 121$ 122$ 123$ 124$ 125$ 126$ 127$ 128$ 129$ 130$ 131$ 132$ 133$ 134$ 135$ 136$ 137$ 138$ 139$ 140$ 141$ 142$ 143$ 144$ 145$ 146$ 147$ 148$ 149$ 150$ 151$ 152$ 153$ 154$ 155$ 156$ 157$ 158$ 159$ 160$ 161$ 162$ 163$ 164$ 165$ 166$ 167$ 168$ 169$ 170$ 171$ 172$ 173$ 174$ 175$ 176$ 177$ 178$ 179$ 180$ 181$ 182$ 183$ 184$ 185$ 186$ 187$ 188$ 189$ 190$ 191$ 192$ 193$ 194$ 195$ 196$ 197$ 198$ 199$ 200$ 201$ 202$ 203$ 204$ 205$ 206$ 207$ 208$ 209$ 210$ 211$ 212$ 213$ 214$ 215$ 216$ 217$ 218$ 219$ 220$ 221$ 222$ 223$ 224$ 225$ 226$ 227$ 228$ 229$ 230$ 231$ 232$ 233$ 234$ 235$ 236$ 237$ 238$ 239$ 240$ 241$ 242$ 243$ 244$ 245$ 246$ 247$ 248$ 249$ 250$ 251$ 252$ 253$ 254$ 255$ 256$ 257$ 258$ 259$ 260$ 261$ 262$ 263$ 264$ 265$ 266$ 267$ 268$ 269$ 270$ 271$ 272$ 273$ 274$ 275$ 276$ 277$ 278$ 279$ 280$ 281$ 282$ 283$ 284$ 285$ 286$ 287$ 288$ 289$ 290$ 291$ 292$ 293$ 294$ 295$ 296$ 297$ 298$ 299$ 300$ 301$ 302$ 303$ 304$ 305$ 306$ 307$ 308$ 309$ 310$ 311$ 312$ 313$ 314$ 315$ 316$ 317$ 318$ 319$ 320$ 321$ 322$ 323$ 324$ 325$ 326$ 327$ 328$ 329$ 330$ 331$ 332$ 333$ 334$ 335$ 336$ 337$ 338$ 339$ 340$ 341$ 342$ 343$ 344$ 345$ 346$ 347$ 348$ 349$ 350$ 351$ 352$ 353$ 354$ 355$ 356$ 357$ 358$ 359$ 360$ 361$ 362$ 363$ 364$ 365$ 366$ 367$ 368$ 369$ 370$ 371$ 372$ 373$ 374$ 375$ 376$ 377$ 378$ 379$ 380$ 381$ 382$ 383$ 384$ 385$ 386$ 387$ 388$ 389$ 390$ 391$ 392$ 393$ 394$ 395$ 396$ 397$ 398$ 399\n"
     ]
    }
   ],
   "source": [
    "for num in range(1, 399):\n",
    "    print(num, end='$ ')\n",
    "print(399)"
   ]
  },
  {
   "cell_type": "markdown",
   "id": "9cbf55f3",
   "metadata": {},
   "source": [
    "**1.10 Coding Exercise**\n",
    "\n",
    "Print the numbers from 1 to 340, including 1 and 340. There should be 22 numbers in each row except for the last, which should have less than 22 numbers. Each number should have a comma and a space after it, except the number at the right end of the row."
   ]
  },
  {
   "cell_type": "code",
   "execution_count": 7,
   "id": "f3e47d51",
   "metadata": {},
   "outputs": [
    {
     "name": "stdout",
     "output_type": "stream",
     "text": [
      "1, 2, 3, 4, 5, 6, 7, 8, 9, 10, 11, 12, 13, 14, 15, 16, 17, 18, 19, 20, 21, 22\n",
      "23, 24, 25, 26, 27, 28, 29, 30, 31, 32, 33, 34, 35, 36, 37, 38, 39, 40, 41, 42, 43, 44\n",
      "45, 46, 47, 48, 49, 50, 51, 52, 53, 54, 55, 56, 57, 58, 59, 60, 61, 62, 63, 64, 65, 66\n",
      "67, 68, 69, 70, 71, 72, 73, 74, 75, 76, 77, 78, 79, 80, 81, 82, 83, 84, 85, 86, 87, 88\n",
      "89, 90, 91, 92, 93, 94, 95, 96, 97, 98, 99, 100, 101, 102, 103, 104, 105, 106, 107, 108, 109, 110\n",
      "111, 112, 113, 114, 115, 116, 117, 118, 119, 120, 121, 122, 123, 124, 125, 126, 127, 128, 129, 130, 131, 132\n",
      "133, 134, 135, 136, 137, 138, 139, 140, 141, 142, 143, 144, 145, 146, 147, 148, 149, 150, 151, 152, 153, 154\n",
      "155, 156, 157, 158, 159, 160, 161, 162, 163, 164, 165, 166, 167, 168, 169, 170, 171, 172, 173, 174, 175, 176\n",
      "177, 178, 179, 180, 181, 182, 183, 184, 185, 186, 187, 188, 189, 190, 191, 192, 193, 194, 195, 196, 197, 198\n",
      "199, 200, 201, 202, 203, 204, 205, 206, 207, 208, 209, 210, 211, 212, 213, 214, 215, 216, 217, 218, 219, 220\n",
      "221, 222, 223, 224, 225, 226, 227, 228, 229, 230, 231, 232, 233, 234, 235, 236, 237, 238, 239, 240, 241, 242\n",
      "243, 244, 245, 246, 247, 248, 249, 250, 251, 252, 253, 254, 255, 256, 257, 258, 259, 260, 261, 262, 263, 264\n",
      "265, 266, 267, 268, 269, 270, 271, 272, 273, 274, 275, 276, 277, 278, 279, 280, 281, 282, 283, 284, 285, 286\n",
      "287, 288, 289, 290, 291, 292, 293, 294, 295, 296, 297, 298, 299, 300, 301, 302, 303, 304, 305, 306, 307, 308\n",
      "309, 310, 311, 312, 313, 314, 315, 316, 317, 318, 319, 320, 321, 322, 323, 324, 325, 326, 327, 328, 329, 330\n",
      "331, 332, 333, 334, 335, 336, 337, 338, 339, 340\n"
     ]
    }
   ],
   "source": [
    "for num in range(1, 340):\n",
    "    if num % 22 == 0:\n",
    "        print(num)\n",
    "    else:\n",
    "        print(num, end=', ')\n",
    "print(340)"
   ]
  },
  {
   "cell_type": "markdown",
   "id": "2d51ab7a",
   "metadata": {},
   "source": [
    "**1.11 Coding Exercise**\n",
    "\n",
    "Write a function named `print_some_numbers` that takes in two keyword arguments `max_number` and `numbers_per_row`, and allows you to evaluate `print_some_numbers(max_number=340, numbers_per_row=22)`, and allows you to solve the previous exercise."
   ]
  },
  {
   "cell_type": "code",
   "execution_count": 8,
   "id": "390784c1",
   "metadata": {},
   "outputs": [],
   "source": [
    "def print_some_numbers(max_number=340, numbers_per_row=22):\n",
    "    for num in range(1, max_number):\n",
    "        if num % numbers_per_row == 0:\n",
    "            print(num)\n",
    "        else:\n",
    "            print(num, end=', ')\n",
    "    print(max_number)"
   ]
  },
  {
   "cell_type": "code",
   "execution_count": 9,
   "id": "3786e39a",
   "metadata": {},
   "outputs": [
    {
     "name": "stdout",
     "output_type": "stream",
     "text": [
      "1, 2, 3, 4, 5, 6, 7, 8, 9, 10, 11, 12, 13, 14, 15, 16, 17, 18, 19, 20, 21, 22\n",
      "23, 24, 25, 26, 27, 28, 29, 30, 31, 32, 33, 34, 35, 36, 37, 38, 39, 40, 41, 42, 43, 44\n",
      "45, 46, 47, 48, 49, 50, 51, 52, 53, 54, 55, 56, 57, 58, 59, 60, 61, 62, 63, 64, 65, 66\n",
      "67, 68, 69, 70, 71, 72, 73, 74, 75, 76, 77, 78, 79, 80, 81, 82, 83, 84, 85, 86, 87, 88\n",
      "89, 90, 91, 92, 93, 94, 95, 96, 97, 98, 99, 100, 101, 102, 103, 104, 105, 106, 107, 108, 109, 110\n",
      "111, 112, 113, 114, 115, 116, 117, 118, 119, 120, 121, 122, 123, 124, 125, 126, 127, 128, 129, 130, 131, 132\n",
      "133, 134, 135, 136, 137, 138, 139, 140, 141, 142, 143, 144, 145, 146, 147, 148, 149, 150, 151, 152, 153, 154\n",
      "155, 156, 157, 158, 159, 160, 161, 162, 163, 164, 165, 166, 167, 168, 169, 170, 171, 172, 173, 174, 175, 176\n",
      "177, 178, 179, 180, 181, 182, 183, 184, 185, 186, 187, 188, 189, 190, 191, 192, 193, 194, 195, 196, 197, 198\n",
      "199, 200, 201, 202, 203, 204, 205, 206, 207, 208, 209, 210, 211, 212, 213, 214, 215, 216, 217, 218, 219, 220\n",
      "221, 222, 223, 224, 225, 226, 227, 228, 229, 230, 231, 232, 233, 234, 235, 236, 237, 238, 239, 240, 241, 242\n",
      "243, 244, 245, 246, 247, 248, 249, 250, 251, 252, 253, 254, 255, 256, 257, 258, 259, 260, 261, 262, 263, 264\n",
      "265, 266, 267, 268, 269, 270, 271, 272, 273, 274, 275, 276, 277, 278, 279, 280, 281, 282, 283, 284, 285, 286\n",
      "287, 288, 289, 290, 291, 292, 293, 294, 295, 296, 297, 298, 299, 300, 301, 302, 303, 304, 305, 306, 307, 308\n",
      "309, 310, 311, 312, 313, 314, 315, 316, 317, 318, 319, 320, 321, 322, 323, 324, 325, 326, 327, 328, 329, 330\n",
      "331, 332, 333, 334, 335, 336, 337, 338, 339, 340\n"
     ]
    }
   ],
   "source": [
    "print_some_numbers()"
   ]
  },
  {
   "cell_type": "markdown",
   "id": "0c5858bd",
   "metadata": {},
   "source": [
    "**1.12 Coding Exercise**\n",
    "\n",
    "Print out the numbers from 1 to 100 in 5 rows, where each row has the same number of numbers. For those that understand what we're doing, this should be an easy question where you can do this by writing one line of code."
   ]
  },
  {
   "cell_type": "code",
   "execution_count": 10,
   "id": "c51e2109",
   "metadata": {},
   "outputs": [
    {
     "name": "stdout",
     "output_type": "stream",
     "text": [
      "1, 2, 3, 4, 5, 6, 7, 8, 9, 10, 11, 12, 13, 14, 15, 16, 17, 18, 19, 20\n",
      "21, 22, 23, 24, 25, 26, 27, 28, 29, 30, 31, 32, 33, 34, 35, 36, 37, 38, 39, 40\n",
      "41, 42, 43, 44, 45, 46, 47, 48, 49, 50, 51, 52, 53, 54, 55, 56, 57, 58, 59, 60\n",
      "61, 62, 63, 64, 65, 66, 67, 68, 69, 70, 71, 72, 73, 74, 75, 76, 77, 78, 79, 80\n",
      "81, 82, 83, 84, 85, 86, 87, 88, 89, 90, 91, 92, 93, 94, 95, 96, 97, 98, 99, 100\n"
     ]
    }
   ],
   "source": [
    "print_some_numbers(max_number=100, numbers_per_row=20)"
   ]
  },
  {
   "cell_type": "markdown",
   "id": "0c97ffac",
   "metadata": {},
   "source": [
    "## 2 Warm up exercises with `list` and `dict`."
   ]
  },
  {
   "cell_type": "markdown",
   "id": "ede420b6",
   "metadata": {},
   "source": [
    "**2.1 Markdown Exercise** \n",
    "\n",
    "What can you do with a list that you can't do with a tuple?"
   ]
  },
  {
   "cell_type": "markdown",
   "id": "8b7a2474",
   "metadata": {},
   "source": [
    "With a list, you can change its length and even replace items in certain indexes. For example, if you have a list that is: [0, 1, 2] and you want to change one of the items, you can do it. [0, 1, 2] can become [0, 1], or it can become [\"Steven\", 1, 2]. "
   ]
  },
  {
   "cell_type": "markdown",
   "id": "4f01f50f",
   "metadata": {},
   "source": [
    "**2.2 Coding Exercise**\n",
    "\n",
    "Make a list `positive_even_numbers_less_than_100` that contain all even numbers between 0 and 100, excluding 0 and excluding 100."
   ]
  },
  {
   "cell_type": "code",
   "execution_count": 11,
   "id": "0c3b9906",
   "metadata": {},
   "outputs": [
    {
     "name": "stdout",
     "output_type": "stream",
     "text": [
      "[2, 4, 6, 8, 10, 12, 14, 16, 18, 20, 22, 24, 26, 28, 30, 32, 34, 36, 38, 40, 42, 44, 46, 48, 50, 52, 54, 56, 58, 60, 62, 64, 66, 68, 70, 72, 74, 76, 78, 80, 82, 84, 86, 88, 90, 92, 94, 96, 98]\n"
     ]
    }
   ],
   "source": [
    "positive_even_numbers_less_than_100 = []\n",
    "for num in range(200):\n",
    "    if num % 2 == 0 and num > 0 and num < 100:\n",
    "        positive_even_numbers_less_than_100.append(num)\n",
    "print(positive_even_numbers_less_than_100)"
   ]
  },
  {
   "cell_type": "markdown",
   "id": "66e109ca",
   "metadata": {},
   "source": [
    "**2.3 Coding Exercise**\n",
    "\n",
    "Print the number of items in `positive_even_numbers_less_than_100` that are divisible by 5."
   ]
  },
  {
   "cell_type": "code",
   "execution_count": 12,
   "id": "7a07ee6c",
   "metadata": {},
   "outputs": [
    {
     "name": "stdout",
     "output_type": "stream",
     "text": [
      "10, 20, 30, 40, 50, 60, 70, 80, 90\n"
     ]
    }
   ],
   "source": [
    "new_list_divisible_by_5 = []\n",
    "for num in positive_even_numbers_less_than_100:\n",
    "    if num % 5 == 0:\n",
    "        new_list_divisible_by_5.append(num)\n",
    "print(*new_list_divisible_by_5, sep=', ')"
   ]
  },
  {
   "cell_type": "markdown",
   "id": "972b277c",
   "metadata": {},
   "source": [
    "**2.4 Coding Exercise**\n",
    "\n",
    "Create a list named `nums_divisible_by_7` that is the intersection of all numbers divisible by 7 and `positive_even_numbers_less_than_100`.\n",
    "\n",
    "_Note `nums_divisible_by_7` is a suboptimal variable name. Ask me in class or slack to learn why._"
   ]
  },
  {
   "cell_type": "code",
   "execution_count": 13,
   "id": "b2e2c1a4",
   "metadata": {},
   "outputs": [
    {
     "name": "stdout",
     "output_type": "stream",
     "text": [
      "14 28 42 56 70 84 98\n"
     ]
    }
   ],
   "source": [
    "nums_divisible_by_7 = []\n",
    "for num in positive_even_numbers_less_than_100:\n",
    "    if num % 7 == 0:\n",
    "        nums_divisible_by_7.append(num)\n",
    "print(*nums_divisible_by_7)"
   ]
  },
  {
   "cell_type": "markdown",
   "id": "5e66144c",
   "metadata": {},
   "source": [
    "**2.5 Coding Exercise**\n",
    "\n",
    "Print the number of items in `nums_divisible_by_7`."
   ]
  },
  {
   "cell_type": "code",
   "execution_count": 14,
   "id": "0e82eb9d",
   "metadata": {},
   "outputs": [
    {
     "data": {
      "text/plain": [
       "7"
      ]
     },
     "execution_count": 14,
     "metadata": {},
     "output_type": "execute_result"
    }
   ],
   "source": [
    "len(nums_divisible_by_7)"
   ]
  },
  {
   "cell_type": "markdown",
   "id": "cd2b9c9b",
   "metadata": {},
   "source": [
    "**2.6 Coding Exercise**\n",
    "\n",
    "Create a list called `foo` which concatenates the list `nums_divisible_by_7` and `[6, 6, 6, 6, 7, 8, 9, 10, 11, 12, 13, 14]`."
   ]
  },
  {
   "cell_type": "code",
   "execution_count": 15,
   "id": "1bdabbf6",
   "metadata": {},
   "outputs": [
    {
     "data": {
      "text/plain": [
       "[14, 28, 42, 56, 70, 84, 98, 6, 6, 6, 6, 7, 8, 9, 10, 11, 12, 13, 14]"
      ]
     },
     "execution_count": 15,
     "metadata": {},
     "output_type": "execute_result"
    }
   ],
   "source": [
    "foo = nums_divisible_by_7 + [6, 6, 6, 6, 7, 8, 9, 10, 11, 12, 13, 14]\n",
    "foo"
   ]
  },
  {
   "cell_type": "markdown",
   "id": "709c0b6d",
   "metadata": {},
   "source": [
    "**2.7 Coding Exercise**\n",
    "\n",
    "Create and print a dictionary called `foo_map` where its keys are `foo` and values are whether the key is divisible by 5, 6, or 11. At the bottom of your code block type `foo_map` so that it will output the contents of `foo_map`."
   ]
  },
  {
   "cell_type": "code",
   "execution_count": 16,
   "id": "337060a2",
   "metadata": {},
   "outputs": [
    {
     "data": {
      "text/plain": [
       "{14: False,\n",
       " 28: False,\n",
       " 42: True,\n",
       " 56: False,\n",
       " 70: True,\n",
       " 84: True,\n",
       " 98: False,\n",
       " 6: True,\n",
       " 7: False,\n",
       " 8: False,\n",
       " 9: False,\n",
       " 10: True,\n",
       " 11: True,\n",
       " 12: True,\n",
       " 13: False}"
      ]
     },
     "execution_count": 16,
     "metadata": {},
     "output_type": "execute_result"
    }
   ],
   "source": [
    "foo_map = {}\n",
    "for num in foo:\n",
    "    if num % 5 == 0 or num % 6 == 0 or num % 11 == 0:\n",
    "        foo_map[num] = True\n",
    "    else:\n",
    "        foo_map[num] = False\n",
    "foo_map"
   ]
  },
  {
   "cell_type": "markdown",
   "id": "c6ac58bc",
   "metadata": {},
   "source": [
    "**2.8 Markdown Exercise**\n",
    "\n",
    "What is the difference between when you type `print(foo_map)` and put `foo_map` on the bottom of a code cell and evaluate it."
   ]
  },
  {
   "cell_type": "markdown",
   "id": "4347212f",
   "metadata": {},
   "source": [
    "The difference is that when printing foo_map, there is no \"Out[..]\" to the left of the output, and the other difference is that when printing a dictionary it outputs all key-value pairs side-by-side."
   ]
  },
  {
   "cell_type": "markdown",
   "id": "540fb462",
   "metadata": {},
   "source": [
    "## 3 Coding Dice Rolls\n",
    "\n",
    "**Steps from class on Thursday, Week 4** \n",
    "\n",
    "1. Create all possible dice outcomes\n",
    "2. Create the random variable to map each roll to its sum\n",
    "3. Organize outcomes by the value of the random variable\n",
    "4. Compute the probability of each value the random variable takes. \n",
    "5. Graph the probability distribution.\n",
    "\n",
    "> _We started this on Thursday. My gut tells me that students are not practicing enough. One way to practice is to run through the material again. When you are learning how to do a move in karate, or learning how to play a musical instrument, doing the move one time is not how you learn the material. The way you learn is through repetition. Again and again. Even if it's the same problem. I encourage you to supplement your training with those sorts of exercises. For example, take the problems you were able to complete so far in this assignment. Maybe some of you could do half of them on your own - that's okay. Ask for help, try again. These are the wax ons and wax offs of learning to code. Trust me, it will get easier._\n",
    "\n",
    "> _One more thing, these assignments are intended to help you build a solid foundation for understanding statistics deeper and statistical programming. While we are not there yet, we will be, mostly after the first midterm, where your understanding will grow deeper._"
   ]
  },
  {
   "cell_type": "markdown",
   "id": "ebb87dea",
   "metadata": {},
   "source": [
    "### 3.1 Create all possible dice outcomes\n",
    "\n",
    "This is what we did in class. I will also ask some questions to check your understanding of probability terms and concepts. "
   ]
  },
  {
   "cell_type": "markdown",
   "id": "f0101dd7",
   "metadata": {},
   "source": [
    "**3.1.1 Coding Exercise**\n",
    "\n",
    "Print the numbers from 15 to 30 on the same line without using any of the following symbols: `<, >, =, +, -`."
   ]
  },
  {
   "cell_type": "code",
   "execution_count": 17,
   "id": "0edb1f03",
   "metadata": {},
   "outputs": [
    {
     "name": "stdout",
     "output_type": "stream",
     "text": [
      "15 16 17 18 19 20 21 22 23 24 25 26 27 28 29 30 "
     ]
    }
   ],
   "source": [
    "for num in range(15, 31):\n",
    "    print(num, end=' ')"
   ]
  },
  {
   "cell_type": "markdown",
   "id": "8ed73b0d",
   "metadata": {},
   "source": [
    "**3.1.2 Coding Exercise**\n",
    "\n",
    "Create a list `die_roll_outcomes` and put the numbers from 1 to 6 in that list."
   ]
  },
  {
   "cell_type": "code",
   "execution_count": 18,
   "id": "5509fe83",
   "metadata": {},
   "outputs": [
    {
     "name": "stdout",
     "output_type": "stream",
     "text": [
      "[1, 2, 3, 4, 5, 6]\n"
     ]
    }
   ],
   "source": [
    "# Any of these is fine.\n",
    "# option 1 \n",
    "# a very standard and encouraged approach for this course\n",
    "die_roll_outcomes = []\n",
    "for num in range(6):\n",
    "    die_roll_outcomes.append(num + 1)\n",
    "print(die_roll_outcomes)"
   ]
  },
  {
   "cell_type": "code",
   "execution_count": 19,
   "id": "21ad53fc",
   "metadata": {},
   "outputs": [
    {
     "name": "stdout",
     "output_type": "stream",
     "text": [
      "[1, 2, 3, 4, 5, 6]\n"
     ]
    }
   ],
   "source": [
    "# option 2\n",
    "# a \"one-liner\"... \n",
    "# when I apply the list function to a range object, \n",
    "# the Python interpreter will instruct the algorithm through \n",
    "# all the numbers in range and construct a list of exactly \n",
    "# the same numbers in the same order\n",
    "die_roll_outcomes = list(range(1, 7))\n",
    "print(die_roll_outcomes)"
   ]
  },
  {
   "cell_type": "markdown",
   "id": "c39066b1",
   "metadata": {},
   "source": [
    "**3.1.3 Coding Exercise**\n",
    "\n",
    "Create all possible dice roll outcomes and put them in a list of tuples, where each tuple is of length two. Put them in a list named `dice_roll_outcomes`."
   ]
  },
  {
   "cell_type": "code",
   "execution_count": 20,
   "id": "e198b68b",
   "metadata": {},
   "outputs": [
    {
     "name": "stdout",
     "output_type": "stream",
     "text": [
      "[(1, 1), (1, 2), (1, 3), (1, 4), (1, 5), (1, 6), (2, 1), (2, 2), (2, 3), (2, 4), (2, 5), (2, 6), (3, 1), (3, 2), (3, 3), (3, 4), (3, 5), (3, 6), (4, 1), (4, 2), (4, 3), (4, 4), (4, 5), (4, 6), (5, 1), (5, 2), (5, 3), (5, 4), (5, 5), (5, 6), (6, 1), (6, 2), (6, 3), (6, 4), (6, 5), (6, 6)]\n"
     ]
    }
   ],
   "source": [
    "# option 1\n",
    "# a standard and encouraged approach\n",
    "dice_roll_outcomes = []\n",
    "for left_die in die_roll_outcomes:\n",
    "    for right_die in die_roll_outcomes:\n",
    "        outcome = (left_die, right_die)\n",
    "        dice_roll_outcomes.append(outcome)\n",
    "print(dice_roll_outcomes)"
   ]
  },
  {
   "cell_type": "markdown",
   "id": "e58ee15a",
   "metadata": {},
   "source": [
    "**3.1.4 Coding Exercise**\n",
    "\n",
    "Print `dice_roll_outcomes`."
   ]
  },
  {
   "cell_type": "code",
   "execution_count": 21,
   "id": "cde6bb22",
   "metadata": {},
   "outputs": [
    {
     "name": "stdout",
     "output_type": "stream",
     "text": [
      "[(1, 1), (1, 2), (1, 3), (1, 4), (1, 5), (1, 6), (2, 1), (2, 2), (2, 3), (2, 4), (2, 5), (2, 6), (3, 1), (3, 2), (3, 3), (3, 4), (3, 5), (3, 6), (4, 1), (4, 2), (4, 3), (4, 4), (4, 5), (4, 6), (5, 1), (5, 2), (5, 3), (5, 4), (5, 5), (5, 6), (6, 1), (6, 2), (6, 3), (6, 4), (6, 5), (6, 6)]\n"
     ]
    }
   ],
   "source": [
    "print(dice_roll_outcomes)"
   ]
  },
  {
   "cell_type": "markdown",
   "id": "11f5cda6",
   "metadata": {},
   "source": [
    "**3.1.5 Coding Exercise**\n",
    "\n",
    "How many outcomes are in `dice_roll_outcomes`? (Since this is a coding exercise, use code to answer the question and print the answer.)"
   ]
  },
  {
   "cell_type": "code",
   "execution_count": 22,
   "id": "5dde2f88",
   "metadata": {},
   "outputs": [
    {
     "data": {
      "text/plain": [
       "36"
      ]
     },
     "execution_count": 22,
     "metadata": {},
     "output_type": "execute_result"
    }
   ],
   "source": [
    "len(dice_roll_outcomes) # also print(len(dice_roll_outcomes)) works"
   ]
  },
  {
   "cell_type": "markdown",
   "id": "b4ce71ee",
   "metadata": {},
   "source": [
    "**3.1.6 Coding Exercise**\n",
    "\n",
    "These outcomes make up your sample space for the random experiment of dice rolling. Hopefully you remember what a **random experiment** is. If you do not, I encourage you to look it up. Each dice roll outcome is equally likely, because for each die roll the 6 outcomes are equally likely. What is the probability of each outcome? Again, this is a coding question. Use code to compute and print the probability, in decimal form, of each outcome."
   ]
  },
  {
   "cell_type": "code",
   "execution_count": 23,
   "id": "50da00f4",
   "metadata": {},
   "outputs": [
    {
     "data": {
      "text/plain": [
       "0.027777777777777776"
      ]
     },
     "execution_count": 23,
     "metadata": {},
     "output_type": "execute_result"
    }
   ],
   "source": [
    "# The probability of getting any one outcome is the same\n",
    "# The probability of the whole space is 1, as is with probability\n",
    "# So the below is the answer\n",
    "1 / len(dice_roll_outcomes)"
   ]
  },
  {
   "cell_type": "markdown",
   "id": "cae3de79",
   "metadata": {},
   "source": [
    "**3.1.7 Markdown Exercise**\n",
    "\n",
    "Summarize what you have learned in the previous questions, 3.1.1 to 3.1.7."
   ]
  },
  {
   "cell_type": "markdown",
   "id": "f60789da",
   "metadata": {},
   "source": [
    "The exercises covered a few areas:\n",
    " - printing and creating lists of consecutive numbers\n",
    " - creating dice_roll_outcomes by nesting your for loops\n",
    " - using len to determine the size of the sample space (i.e. all possible outcomes)\n",
    " - evaluating the probability of a dice_roll_outcomes "
   ]
  },
  {
   "cell_type": "markdown",
   "id": "4936c169",
   "metadata": {},
   "source": [
    "### 3.2 Create the random variable to map each dice roll outcome to its sum\n",
    "\n",
    "We did this in class. I will also ask some questions to check for probability concept understanding."
   ]
  },
  {
   "cell_type": "markdown",
   "id": "23756fd4",
   "metadata": {},
   "source": [
    "**3.2.1 Markdown Exercise**\n",
    "\n",
    "What is a random variable?"
   ]
  },
  {
   "cell_type": "markdown",
   "id": "61283127",
   "metadata": {},
   "source": [
    "A random variable is a function that maps outcomes in the sample space to real numbers."
   ]
  },
  {
   "cell_type": "markdown",
   "id": "a76878eb",
   "metadata": {},
   "source": [
    "**3.2.2 Markdown Exercise**\n",
    "\n",
    "What is a function?"
   ]
  },
  {
   "cell_type": "markdown",
   "id": "c634df8f",
   "metadata": {},
   "source": [
    "_Disclaimer: Do not worry about being able to speak in this way and understand all of this. If you do, great! If not, say something if you want to know. I will not test you to the depth of the below paragraph, just the general idea._\n",
    "\n",
    "Unless otherwise told, a function is a deterministic rule for translating, or transforming, or mapping items from one set to another.\n",
    "\n",
    "> 1. A function can be expressed as a formula, where you're mapping from all real numbers to all real numbers, such as $f(x)=x^2$. \n",
    "> 2. A function can be expressed in a table, where there is a rule where you cannot have two different outputs for the same input. Why? Because the definition of function prohibits that from occuring with any such pairing. It can be in a Python function, where you have arguments, sometimes many, and all \"configurations\" of arguments is in the domain of the function, and the output is what the function \"returns\". \n",
    "> 3. A function can be a dictionary object, such as `{(4,5): 9, (6,2): 8, ...}`, where the \"functional\" interpretation would be to consider all keys of the dictionary as the domain, and the values numbers. Yes, in this example there is a rule of summing the components of the tuples, but there doesn't have to be any rule. In other words, show me a dict and there is a natural function that arises, domain, range and the mapping.\n",
    "> 4. A function can be a drawing that has arrows emerging from one set to another set. It could be anyting. It could follow a \"rule\" like each student name has an arrow pointing to a description of their single most delicious dinner. (Note: In this example the function has a rule, but it doesn't need to have one.)"
   ]
  },
  {
   "cell_type": "markdown",
   "id": "89ab3732",
   "metadata": {},
   "source": [
    "**3.2.3 Coding Exercise**\n",
    "\n",
    "Above, you created a list that represents a sample space of outcomes of dice rolls. The name of this list is `dice_roll_outcomes`. In this problem, create a dictionary `dice_roll_to_sum` where the _keys_ of the dictionary are the outcomes and the _values_ of the dictionary are the sums of the dice rolls. At the bottom of your code cell, type `dice_roll_to_sum` so that it will show the dictionary for me to see.\n",
    "\n",
    "_Pro-tip: When I come up with the names of these variables, I think hard about appropriate naming so that it would make sense to the reader of my code in the future (even if the reader is my future self)._"
   ]
  },
  {
   "cell_type": "code",
   "execution_count": 24,
   "id": "b22b54a1",
   "metadata": {},
   "outputs": [
    {
     "name": "stdout",
     "output_type": "stream",
     "text": [
      "{(1, 1): 2, (1, 2): 3, (1, 3): 4, (1, 4): 5, (1, 5): 6, (1, 6): 7, (2, 1): 3, (2, 2): 4, (2, 3): 5, (2, 4): 6, (2, 5): 7, (2, 6): 8, (3, 1): 4, (3, 2): 5, (3, 3): 6, (3, 4): 7, (3, 5): 8, (3, 6): 9, (4, 1): 5, (4, 2): 6, (4, 3): 7, (4, 4): 8, (4, 5): 9, (4, 6): 10, (5, 1): 6, (5, 2): 7, (5, 3): 8, (5, 4): 9, (5, 5): 10, (5, 6): 11, (6, 1): 7, (6, 2): 8, (6, 3): 9, (6, 4): 10, (6, 5): 11, (6, 6): 12}\n"
     ]
    }
   ],
   "source": [
    "dice_roll_to_sum = {}\n",
    "for outcome in dice_roll_outcomes:\n",
    "    dice_roll_to_sum[outcome] = outcome[0] + outcome[1]\n",
    "    # As an alternative to calculating the sum, you may also use\n",
    "    # sum(outcome), as it reads easier than outcome[0] + outcome[1]\n",
    "print(dice_roll_to_sum)"
   ]
  },
  {
   "cell_type": "code",
   "execution_count": 25,
   "id": "e0570339",
   "metadata": {},
   "outputs": [
    {
     "name": "stdout",
     "output_type": "stream",
     "text": [
      "(1,2,3)   -->  6\n",
      "range(10) -->  45\n",
      "As you can see, sum iterates over item in its argument and computes a sum.\n"
     ]
    }
   ],
   "source": [
    "# an aside\n",
    "# some examples of sum\n",
    "print(\"(1,2,3)   --> \", sum((1,2,3)))\n",
    "print(\"range(10) --> \", sum(range(10)))\n",
    "print(\"As you can see, sum iterates over item in its argument and computes a sum.\")"
   ]
  },
  {
   "cell_type": "markdown",
   "id": "f92880b1",
   "metadata": {},
   "source": [
    "**3.2.4 Coding Exercise**\n",
    "\n",
    "Create a dictionary named `dice_roll_to_abs_diff` which will compute the absolute value of the difference between the numbers on each die in a given dice roll. Make sure the dictionary you created is displayed in the output of your code cell."
   ]
  },
  {
   "cell_type": "code",
   "execution_count": 26,
   "id": "4f53e6ee",
   "metadata": {},
   "outputs": [
    {
     "name": "stdout",
     "output_type": "stream",
     "text": [
      "(1, 1) points to 0 ||| (1, 2) points to 1 ||| (1, 3) points to 2 ||| (1, 4) points to 3 ||| (1, 5) points to 4 ||| (1, 6) points to 5 ||| (2, 1) points to 1 ||| (2, 2) points to 0 ||| (2, 3) points to 1 ||| (2, 4) points to 2 ||| (2, 5) points to 3 ||| (2, 6) points to 4 ||| (3, 1) points to 2 ||| (3, 2) points to 1 ||| (3, 3) points to 0 ||| (3, 4) points to 1 ||| (3, 5) points to 2 ||| (3, 6) points to 3 ||| (4, 1) points to 3 ||| (4, 2) points to 2 ||| (4, 3) points to 1 ||| (4, 4) points to 0 ||| (4, 5) points to 1 ||| (4, 6) points to 2 ||| (5, 1) points to 4 ||| (5, 2) points to 3 ||| (5, 3) points to 2 ||| (5, 4) points to 1 ||| (5, 5) points to 0 ||| (5, 6) points to 1 ||| (6, 1) points to 5 ||| (6, 2) points to 4 ||| (6, 3) points to 3 ||| (6, 4) points to 2 ||| (6, 5) points to 1 ||| (6, 6) points to 0 ||| "
     ]
    }
   ],
   "source": [
    "# In absolute value, it's larger minus smaller, so write some code that computes it\n",
    "# Then set the value at the key \"outcome\" in each iteration of the loop\n",
    "dice_roll_to_abs_diff = {}\n",
    "for outcome in dice_roll_outcomes:\n",
    "    left, right = outcome # unpacking outcome to separate die numbers\n",
    "    if right > left:\n",
    "        abs_diff = right - left\n",
    "    else:\n",
    "        abs_diff = left - right\n",
    "    dice_roll_to_abs_diff[outcome] = abs_diff\n",
    "    print(f\"{outcome} points to {abs_diff}\", end=' ||| ')"
   ]
  },
  {
   "cell_type": "markdown",
   "id": "6dff3af5",
   "metadata": {},
   "source": [
    "**3.2.5 Coding Exercise**\n",
    "\n",
    "Create a dictionary named `dice_roll_to_max` which will compute the maximum number that shows up on each die."
   ]
  },
  {
   "cell_type": "code",
   "execution_count": 27,
   "id": "715e1836",
   "metadata": {},
   "outputs": [
    {
     "name": "stdout",
     "output_type": "stream",
     "text": [
      "{(1, 1): 1, (1, 2): 2, (1, 3): 3, (1, 4): 4, (1, 5): 5, (1, 6): 6, (2, 1): 2, (2, 2): 2, (2, 3): 3, (2, 4): 4, (2, 5): 5, (2, 6): 6, (3, 1): 3, (3, 2): 3, (3, 3): 3, (3, 4): 4, (3, 5): 5, (3, 6): 6, (4, 1): 4, (4, 2): 4, (4, 3): 4, (4, 4): 4, (4, 5): 5, (4, 6): 6, (5, 1): 5, (5, 2): 5, (5, 3): 5, (5, 4): 5, (5, 5): 5, (5, 6): 6, (6, 1): 6, (6, 2): 6, (6, 3): 6, (6, 4): 6, (6, 5): 6, (6, 6): 6}\n"
     ]
    }
   ],
   "source": [
    "dice_roll_to_max = {}\n",
    "for outcome in dice_roll_outcomes:\n",
    "    left, right = outcome # unpacking outcome to separate die numbers\n",
    "    if right > left:\n",
    "        dice_roll_to_max[outcome] = right\n",
    "    else:\n",
    "        dice_roll_to_max[outcome] = left\n",
    "print(dice_roll_to_max)"
   ]
  },
  {
   "cell_type": "markdown",
   "id": "2f7040a7",
   "metadata": {},
   "source": [
    "**3.2.6 Markdown Exercise**\n",
    "\n",
    "You have created 3 dictionaries in the above exercises. All three dictionaries represent a concept, or vocabulary term from probability. Which vocabulary term does it bring to mind? Explain."
   ]
  },
  {
   "cell_type": "markdown",
   "id": "cb0df974",
   "metadata": {},
   "source": [
    "These 3 dictionaries are basically examples of functions that map from a space of all the outcomes in a random experiment, to the value of each outcome which is a number. This is exactly what a **random variable** is. Remember, when you have a random experiment, you don't know what outcome you will have. If . . . there is a score, or a number, associated to each outcome, then you have a random variable. Just a number on each outcome."
   ]
  },
  {
   "cell_type": "markdown",
   "id": "9bee49e5",
   "metadata": {},
   "source": [
    "### 3.3 Organizing outcomes by the values the random variable takes"
   ]
  },
  {
   "cell_type": "markdown",
   "id": "f0b2ced9",
   "metadata": {},
   "source": [
    "**3.3.1 Coding Exercise**\n",
    "\n",
    "Imagine in your head, or use a piece of paper, to determine what the most common sum is when rolling 2 dice. Now, create a for loop and iterate through `dice_roll_outcomes` (e.g. `for outcome in dice_roll_outcomes:`), and selectively print out the outcomes that correspond to that most common sum."
   ]
  },
  {
   "cell_type": "code",
   "execution_count": 28,
   "id": "3b4c7485",
   "metadata": {},
   "outputs": [
    {
     "name": "stdout",
     "output_type": "stream",
     "text": [
      "(1, 6)\n",
      "(2, 5)\n",
      "(3, 4)\n",
      "(4, 3)\n",
      "(5, 2)\n",
      "(6, 1)\n"
     ]
    }
   ],
   "source": [
    "# the most common sum is a 7\n",
    "# we can use the dictionary we made that already has the sums precomputed\n",
    "for outcome in dice_roll_outcomes:\n",
    "    if dice_roll_to_sum[outcome] == 7:\n",
    "        print(outcome)"
   ]
  },
  {
   "cell_type": "markdown",
   "id": "04fc67bf",
   "metadata": {},
   "source": [
    "**3.3.2 Coding Exercise**\n",
    "\n",
    "Make a list of the first 50 numbers in one line, like this: `first_50_nums = list(range(1, 51))`."
   ]
  },
  {
   "cell_type": "code",
   "execution_count": 29,
   "id": "6a9e0278",
   "metadata": {},
   "outputs": [],
   "source": [
    "first_50_nums = list(range(1, 51))"
   ]
  },
  {
   "cell_type": "markdown",
   "id": "3d88bf8a",
   "metadata": {},
   "source": [
    "**3.3.3 Coding Exercise**\n",
    "\n",
    "Now make a function named `is_it_in_the_list` that takes two arguments named `it` and `list_`. This function should return a boolean that checks whether `it` is in the list named `list_`.\n",
    "\n",
    "_Note that the reason I have chosen `list_` as the variable name is because `list` is a reserved word in Python. Any questions on this can be answered over slack or in class, time permitting. You are also encouraged to google such things._ "
   ]
  },
  {
   "cell_type": "code",
   "execution_count": 30,
   "id": "ecb0a5bf",
   "metadata": {},
   "outputs": [],
   "source": [
    "def is_it_in_the_list(it, list_):\n",
    "    if it in list_:\n",
    "        return True\n",
    "    return False\n",
    "\n",
    "# There is nothing wrong with either the above or below\n",
    "# If curious about why both work, ask me in Slack or in class.\n",
    "# def is_it_in_the_list(it, list_):\n",
    "#    if it in list_:\n",
    "#        return True\n",
    "#    else:\n",
    "#        return False"
   ]
  },
  {
   "cell_type": "markdown",
   "id": "276ed2f4",
   "metadata": {},
   "source": [
    "**3.3.4 Coding Exercise**\n",
    "\n",
    "Use `is_it_in_the_list` to determine whether `0` is in `first_50_nums`. This should be one line of code."
   ]
  },
  {
   "cell_type": "code",
   "execution_count": 31,
   "id": "acc2b530",
   "metadata": {},
   "outputs": [
    {
     "data": {
      "text/plain": [
       "False"
      ]
     },
     "execution_count": 31,
     "metadata": {},
     "output_type": "execute_result"
    }
   ],
   "source": [
    "is_it_in_the_list(0, first_50_nums)"
   ]
  },
  {
   "cell_type": "markdown",
   "id": "36f0fd0d",
   "metadata": {},
   "source": [
    "**3.3.5 Coding Exercise**\n",
    "\n",
    "Iterate through the _values_ of `dice_roll_to_sum` and put them in an appropriately named list."
   ]
  },
  {
   "cell_type": "code",
   "execution_count": 32,
   "id": "0b2251e7",
   "metadata": {},
   "outputs": [
    {
     "name": "stdout",
     "output_type": "stream",
     "text": [
      "[2, 3, 4, 5, 6, 7, 3, 4, 5, 6, 7, 8, 4, 5, 6, 7, 8, 9, 5, 6, 7, 8, 9, 10, 6, 7, 8, 9, 10, 11, 7, 8, 9, 10, 11, 12]\n"
     ]
    }
   ],
   "source": [
    "outcome_sums = []\n",
    "# option 1\n",
    "# Because the word `sum` is a built-in word in Python,\n",
    "# we will use the variable name `outcome_sum` instead.\n",
    "# We will now iterate through the values of the dictionary.\n",
    "for outcome_sum in dice_roll_to_sum.values():\n",
    "    outcome_sums.append(outcome_sum)\n",
    "print(outcome_sums)"
   ]
  },
  {
   "cell_type": "code",
   "execution_count": 33,
   "id": "29779bf3",
   "metadata": {},
   "outputs": [
    {
     "name": "stdout",
     "output_type": "stream",
     "text": [
      "[2, 3, 4, 5, 6, 7, 3, 4, 5, 6, 7, 8, 4, 5, 6, 7, 8, 9, 5, 6, 7, 8, 9, 10, 6, 7, 8, 9, 10, 11, 7, 8, 9, 10, 11, 12]\n"
     ]
    }
   ],
   "source": [
    "# option 2\n",
    "# dice_roll_to_sum.values() is not a list object\n",
    "# so in this option, we use the list function to turn it into a list object (aka., a list)\n",
    "outcome_sums = list(dice_roll_to_sum.values())\n",
    "print(outcome_sums)"
   ]
  },
  {
   "cell_type": "markdown",
   "id": "e84bb111",
   "metadata": {},
   "source": [
    "**3.3.6 Coding Exercise**\n",
    "\n",
    "Now do the same thing you did above, but this time check to see, if the number already exists. If it does skip it, do not add it to a list. Of course, when picking a list name for this exercise, give it a name that is different from the previous exercise. This list should not have duplicates."
   ]
  },
  {
   "cell_type": "code",
   "execution_count": 34,
   "id": "13c7a4f7",
   "metadata": {},
   "outputs": [
    {
     "data": {
      "text/plain": [
       "[2, 3, 4, 5, 6, 7, 8, 9, 10, 11, 12]"
      ]
     },
     "execution_count": 34,
     "metadata": {},
     "output_type": "execute_result"
    }
   ],
   "source": [
    "# option 1\n",
    "# `continue` will move to the next outcome_sum in the for loop\n",
    "# As such, it will not execute line 7\n",
    "distinct_outcome_sums = []\n",
    "for outcome_sum in outcome_sums:\n",
    "    if is_it_in_the_list(outcome_sum, distinct_outcome_sums):\n",
    "        continue\n",
    "    distinct_outcome_sums.append(outcome_sum)\n",
    "distinct_outcome_sums"
   ]
  },
  {
   "cell_type": "code",
   "execution_count": 35,
   "id": "899d6be0",
   "metadata": {},
   "outputs": [
    {
     "data": {
      "text/plain": [
       "[2, 3, 4, 5, 6, 7, 8, 9, 10, 11, 12]"
      ]
     },
     "execution_count": 35,
     "metadata": {},
     "output_type": "execute_result"
    }
   ],
   "source": [
    "# option 2\n",
    "# `continue` is not required, so here is another way\n",
    "distinct_outcome_sums = []\n",
    "for outcome_sum in outcome_sums:\n",
    "    if not is_it_in_the_list(outcome_sum, distinct_outcome_sums):\n",
    "        distinct_outcome_sums.append(outcome_sum)\n",
    "distinct_outcome_sums"
   ]
  },
  {
   "cell_type": "code",
   "execution_count": 36,
   "id": "c20fd694",
   "metadata": {},
   "outputs": [
    {
     "data": {
      "text/plain": [
       "[2, 3, 4, 5, 6, 7, 8, 9, 10, 11, 12]"
      ]
     },
     "execution_count": 36,
     "metadata": {},
     "output_type": "execute_result"
    }
   ],
   "source": [
    "# A little more about `is_it_in_the_list` . . . \n",
    "# It was just an exercise. It is built into Python. \n",
    "# Here is option 3 above, it reads a little cleaner\n",
    "distinct_outcome_sums = []\n",
    "for outcome_sum in outcome_sums:\n",
    "    if outcome_sum not in distinct_outcome_sums: # <-- this is using `not in`\n",
    "        distinct_outcome_sums.append(outcome_sum)\n",
    "distinct_outcome_sums"
   ]
  },
  {
   "cell_type": "code",
   "execution_count": 37,
   "id": "b2c6fbe8",
   "metadata": {},
   "outputs": [
    {
     "data": {
      "text/plain": [
       "[2, 3, 4, 5, 6, 7, 8, 9, 10, 11, 12]"
      ]
     },
     "execution_count": 37,
     "metadata": {},
     "output_type": "execute_result"
    }
   ],
   "source": [
    "# And for completion, an option 4\n",
    "# I think the previous one, option 3, is the most expressive\n",
    "distinct_outcome_sums = []\n",
    "for outcome_sum in outcome_sums:\n",
    "    if outcome_sum in distinct_outcome_sums:\n",
    "        continue\n",
    "    distinct_outcome_sums.append(outcome_sum)\n",
    "distinct_outcome_sums"
   ]
  },
  {
   "cell_type": "markdown",
   "id": "8846949d",
   "metadata": {},
   "source": [
    "**3.3.7 Coding Exercise**\n",
    "\n",
    "In the Python documentation, a `set` is another kind of object you may not have heard of before, or maybe you don't remember. The documentation states, roughtly, that \"A set object is an unordered collection of distinct objects.\" Try it out for yourself. Evaluate the following code in the next cell: `set(dice_roll_to_sum.values())`"
   ]
  },
  {
   "cell_type": "code",
   "execution_count": 38,
   "id": "9bb4e8a8",
   "metadata": {},
   "outputs": [
    {
     "data": {
      "text/plain": [
       "{2, 3, 4, 5, 6, 7, 8, 9, 10, 11, 12}"
      ]
     },
     "execution_count": 38,
     "metadata": {},
     "output_type": "execute_result"
    }
   ],
   "source": [
    "set(dice_roll_to_sum.values())"
   ]
  },
  {
   "cell_type": "code",
   "execution_count": 39,
   "id": "a4f2d8f8",
   "metadata": {},
   "outputs": [
    {
     "data": {
      "text/plain": [
       "[2, 3, 4, 5, 6, 7, 8, 9, 10, 11, 12]"
      ]
     },
     "execution_count": 39,
     "metadata": {},
     "output_type": "execute_result"
    }
   ],
   "source": [
    "# and to get a list like above, apply the list function\n",
    "distinct_outcome_sums = list(set(dice_roll_to_sum.values()))\n",
    "distinct_outcome_sums"
   ]
  },
  {
   "cell_type": "markdown",
   "id": "b3e4c33a",
   "metadata": {},
   "source": [
    "**3.3.8 Markdown Exercise**\n",
    "\n",
    "The outputs of the above two exercises (i.e. 3.3.6 and 3.3.7) should be similar. Are they? How are they similar and how are they different?"
   ]
  },
  {
   "cell_type": "markdown",
   "id": "606a889a",
   "metadata": {},
   "source": [
    "They are similar in that they contain the exact same numbers. They are different in two ways. In one of them you have a \"set\" object which you can tell because of the curly brackets. The other one is that it is a \"one-liner\" that just reads cleanly. Sets contain no duplicates, by definition.\n",
    "\n",
    "_Note: Literally the \"type\" of object it is in Python is called a set._"
   ]
  },
  {
   "cell_type": "markdown",
   "id": "c0e0f196",
   "metadata": {},
   "source": [
    "**3.3.9 Coding Exercise**\n",
    "\n",
    "Count how many outcomes are associated to a particular sum and organize your results in a dictionary. For example, there are exactly 2 ways to get the sum to equal 3; they are (1,2) and (2,1). So . . . in your dictionary the number 3 should be mapped to 2. Give your dictionary an appropriate naming (it is a little challenging to come up with appropriate variable names and this skill comes with practice)."
   ]
  },
  {
   "cell_type": "code",
   "execution_count": 40,
   "id": "47bd61dc",
   "metadata": {},
   "outputs": [
    {
     "name": "stdout",
     "output_type": "stream",
     "text": [
      "{2: 1, 3: 2, 4: 3, 5: 4, 6: 5, 7: 6, 8: 5, 9: 4, 10: 3, 11: 2, 12: 1}\n",
      "... in other words ...\n",
      "The number of ways to get 2 is 1\n",
      "The number of ways to get 3 is 2\n",
      "The number of ways to get 4 is 3\n",
      "The number of ways to get 5 is 4\n",
      "The number of ways to get 6 is 5\n",
      "The number of ways to get 7 is 6\n",
      "The number of ways to get 8 is 5\n",
      "The number of ways to get 9 is 4\n",
      "The number of ways to get 10 is 3\n",
      "The number of ways to get 11 is 2\n",
      "The number of ways to get 12 is 1\n"
     ]
    }
   ],
   "source": [
    "# There are multiple ways to do this exercise\n",
    "# We will do it in 2 steps\n",
    "# Step 1:\n",
    "# Create a dictionary where the keys are all possible sums,\n",
    "# and the values are 0\n",
    "sums_to_num_outcomes = {}\n",
    "for sum_ in distinct_outcome_sums:\n",
    "    sums_to_num_outcomes[sum_] = 0\n",
    "\n",
    "# Step 2:\n",
    "# Iterate through outcome_sums and add 1 for every time we have a sum\n",
    "for sum_ in outcome_sums:\n",
    "    sums_to_num_outcomes[sum_] += 1 #this is shorthand for adding one to a value\n",
    "print(sums_to_num_outcomes)\n",
    "print(\"... in other words ...\")\n",
    "for sum_, num_dice_rolls in sums_to_num_outcomes.items():\n",
    "    print(\"The number of ways to get \" + str(sum_) + \" is \" + str(num_dice_rolls))"
   ]
  },
  {
   "cell_type": "markdown",
   "id": "d0c326b8",
   "metadata": {},
   "source": [
    "**3.3.10 Coding Exercise**\n",
    "\n",
    "So . . . in the previous exercise you have a sequence of numbers (sums) and you made a dictionary which mapped each sum to the number times it appeared in the sequence. Didn't you do something like this in the previous homework assignment? (Rhetorical) In fact, I am pretty sure I demonstrated how you might do something like this with the `collections` module. You may not remember this module, but it is built into the standard Python library. In it, you can find `Counter`. Use `Counter` to produce the results you achieved in the previous exercise. Also, go back to your previous assignment to see how you used it, or look it up as needed. "
   ]
  },
  {
   "cell_type": "code",
   "execution_count": 41,
   "id": "3ee1d1f0",
   "metadata": {},
   "outputs": [
    {
     "data": {
      "text/plain": [
       "Counter({2: 1, 3: 2, 4: 3, 5: 4, 6: 5, 7: 6, 8: 5, 9: 4, 10: 3, 11: 2, 12: 1})"
      ]
     },
     "execution_count": 41,
     "metadata": {},
     "output_type": "execute_result"
    }
   ],
   "source": [
    "# Option 1, you can use `outcome_sums`\n",
    "# The same dictionary as above can be generated in this one line\n",
    "import collections\n",
    "\n",
    "collections.Counter(outcome_sums)"
   ]
  },
  {
   "cell_type": "code",
   "execution_count": 42,
   "id": "ca657b41",
   "metadata": {},
   "outputs": [
    {
     "data": {
      "text/plain": [
       "Counter({2: 1, 3: 2, 4: 3, 5: 4, 6: 5, 7: 6, 8: 5, 9: 4, 10: 3, 11: 2, 12: 1})"
      ]
     },
     "execution_count": 42,
     "metadata": {},
     "output_type": "execute_result"
    }
   ],
   "source": [
    "# Option 2, you can just use the original `dice_roll_to_sum` dictionary\n",
    "# This is the cleanest way to do this\n",
    "collections.Counter(dice_roll_to_sum.values())"
   ]
  },
  {
   "cell_type": "markdown",
   "id": "2cbe6bbc",
   "metadata": {},
   "source": [
    "**3.3.11 Coding Exercise** \n",
    "\n",
    "In this problem, create a dictionary `sum_to_outcomes` mapping every possible sum in a dice roll to the outcomes that result in that sum. You should only need `dice_roll_to_sum` to accomplish this goal. What we want to do is have a visual grouping. For example, one key-value pair in this dictionary would be `3 -> [(1,2), (2,1)]` (the `->` symbol is intended to be an arrow). The keys of your dictionary will be of the type `int` while the values will be of type `list`."
   ]
  },
  {
   "cell_type": "code",
   "execution_count": 43,
   "id": "d6cffe70",
   "metadata": {},
   "outputs": [
    {
     "data": {
      "text/plain": [
       "{2: [(1, 1)],\n",
       " 3: [(1, 2), (2, 1)],\n",
       " 4: [(1, 3), (2, 2), (3, 1)],\n",
       " 5: [(1, 4), (2, 3), (3, 2), (4, 1)],\n",
       " 6: [(1, 5), (2, 4), (3, 3), (4, 2), (5, 1)],\n",
       " 7: [(1, 6), (2, 5), (3, 4), (4, 3), (5, 2), (6, 1)],\n",
       " 8: [(2, 6), (3, 5), (4, 4), (5, 3), (6, 2)],\n",
       " 9: [(3, 6), (4, 5), (5, 4), (6, 3)],\n",
       " 10: [(4, 6), (5, 5), (6, 4)],\n",
       " 11: [(5, 6), (6, 5)],\n",
       " 12: [(6, 6)]}"
      ]
     },
     "execution_count": 43,
     "metadata": {},
     "output_type": "execute_result"
    }
   ],
   "source": [
    "# In this answer, we will iterate through the keys and values of `dice_roll_to_sum`\n",
    "# Step 1\n",
    "# Create an empty list for each value of the dictionary.\n",
    "sum_to_outcomes = {}\n",
    "for sum_ in distinct_outcome_sums:\n",
    "    sum_to_outcomes[sum_] = []\n",
    "\n",
    "# Step 2\n",
    "for outcome, sum_ in dice_roll_to_sum.items():\n",
    "    sum_to_outcomes[sum_].append(outcome)\n",
    "\n",
    "sum_to_outcomes"
   ]
  },
  {
   "cell_type": "markdown",
   "id": "af429b9c",
   "metadata": {},
   "source": [
    "### 3.4 Compute the probability of each value the random variable takes\n",
    "\n",
    "This section should be straightforward. The bulk of the work is behind us now."
   ]
  },
  {
   "cell_type": "markdown",
   "id": "172f5ee9",
   "metadata": {},
   "source": [
    "**3.4.1 Markdown Exercise**\n",
    "\n",
    "Is each dice roll equally likely?"
   ]
  },
  {
   "cell_type": "markdown",
   "id": "bc80469e",
   "metadata": {},
   "source": [
    "**3.4.2 Coding Exercise**\n",
    "\n",
    "What is the probability of each of the possible 36 dice roll outcomes? This is a coding exercise. You can do it in one line, without typing the number 36."
   ]
  },
  {
   "cell_type": "markdown",
   "id": "dd491d7b",
   "metadata": {},
   "source": [
    "**3.4.3 Coding Exercise**\n",
    "\n",
    "If the dice rolls sum to 3, that can be thought of as an event. It is the event that is equal to the set A = {(1,2), (2,1)}. What is the probability of A? Or, without using \"A\", what is the probability that the sum of the dice is 3. Use code to solve this question. You may use any of the dictionaries created in the last few questions of the previous section."
   ]
  },
  {
   "cell_type": "markdown",
   "id": "8ab69a46",
   "metadata": {},
   "source": [
    "**3.4.4 Coding Exercise**\n",
    "\n",
    "What is the probability of rolling two fair dice where they sum up to 5?"
   ]
  },
  {
   "cell_type": "markdown",
   "id": "893d5b48",
   "metadata": {},
   "source": [
    "**3.4.5 Coding Exercise**\n",
    "\n",
    "What is the probability of rolling two fair dice where they sum up to 5 or 7?"
   ]
  },
  {
   "cell_type": "markdown",
   "id": "1d0407fb",
   "metadata": {},
   "source": [
    "**3.4.6 Coding Exercise**\n",
    "\n",
    "What is the probability of rolling at most a 10?"
   ]
  },
  {
   "cell_type": "markdown",
   "id": "d36c7249",
   "metadata": {},
   "source": [
    "**3.4.7 Coding Exercise**\n",
    "\n",
    "Make a dictionary that shows up in the coding output which maps each sum to its respective probability. Name the dictionary `sum_to_probability`. One way to construct this dictionary is to iterate through the keys and values of one of the dictionaries you created in the last few sections of the previous exercise."
   ]
  },
  {
   "cell_type": "markdown",
   "id": "a0e48f99",
   "metadata": {},
   "source": [
    "**3.4.8 Coding Exercise**\n",
    "\n",
    "I really hope that `sum_to_probability` is a construct that makes sense to you. In this construct you can look at the individual values in the range of the _sum_ random variable (remember that a random variable is a function). Notice how `sum_to_probability` doesn't even include the individual outcomes in the first place. What is the sum of all the values of the dictionary `sum_to_probability`? Before writing the code to this answer, what do you think it will be?"
   ]
  },
  {
   "cell_type": "markdown",
   "id": "cd6bc9bd",
   "metadata": {},
   "source": [
    "### 3.5 Graph the probability distribution\n",
    "\n",
    "The final bit of this homework assignment."
   ]
  },
  {
   "cell_type": "markdown",
   "id": "3d9ef64b",
   "metadata": {},
   "source": [
    "**3.5.1 Markdown Exercise**\n",
    "\n",
    "I may not have used this language before, but in exercise 3.4.7 above, you have created the _probability distribution_ associated to the random variable that computes the sum of dice rolls. Take a moment and reflect on everything you've done so far. Put your reflections in writing below."
   ]
  },
  {
   "cell_type": "markdown",
   "id": "add6af3c",
   "metadata": {},
   "source": [
    "**3.5.2 Coding Exercise**\n",
    "\n",
    "We are almost done. Plot the probability distribution. Put a title on it. Label your axes and create something you feel proud of, that is a good visual representation of the probability distribution of the _sum_ random variable.\n",
    "\n",
    "Hint: Use `matplotlib` unless you want to use some other graphing library we haven't discussed in class. I am going to leave the challenge of this last exercise to you, and not break it down into simpler blocks. Remember you can try as many different codes as you want. It's part of the learning process since this stuff computes quickly. So just try and see what works."
   ]
  }
 ],
 "metadata": {
  "kernelspec": {
   "display_name": "Python 3 (ipykernel)",
   "language": "python",
   "name": "python3"
  },
  "language_info": {
   "codemirror_mode": {
    "name": "ipython",
    "version": 3
   },
   "file_extension": ".py",
   "mimetype": "text/x-python",
   "name": "python",
   "nbconvert_exporter": "python",
   "pygments_lexer": "ipython3",
   "version": "3.7.13"
  }
 },
 "nbformat": 4,
 "nbformat_minor": 5
}
