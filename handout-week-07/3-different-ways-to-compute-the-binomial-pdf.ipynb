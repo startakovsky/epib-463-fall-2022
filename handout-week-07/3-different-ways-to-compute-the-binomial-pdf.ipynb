{
 "cells": [
  {
   "cell_type": "markdown",
   "metadata": {},
   "source": [
    "# Examples of the possible outcomes of 4 [Bernoulli Trials](https://en.wikipedia.org/wiki/Bernoulli_trial)\n",
    " - [0,1,1,0]\n",
    " - [0,1,0,0]\n",
    " - [1,0,0,1]\n",
    "\n",
    "This is the same thing, just using proper terminology. Remember that each coin has the same probability that it will land on heads, and different outcomes are possible."
   ]
  },
  {
   "cell_type": "markdown",
   "metadata": {},
   "source": [
    "# Analogy 1: Pulling red stones in a bag\n",
    "\n",
    "This situation is analagous to, the following random experiment. Let's say there is a bag of red stones and green stones, and you sample 4 stones from this bag (with replacement). Let's say the proportion of red stones in the bag is 'p'. \n",
    "\n",
    "In that case, you will get outcomes like this something like:\n",
    " - [red, green, green, red]\n",
    " - [red, green, red, red]\n",
    " - [green, red, red, green]"
   ]
  },
  {
   "cell_type": "markdown",
   "metadata": {},
   "source": [
    "## Imagine a _random experiment_ using the random variable that counts reds.\n",
    "\n",
    "Imagine the red stones make up .37 of the population, and you do the following 4 times:\n",
    " 0. Create a tally named `num_reds` and set it to zero.\n",
    " 1. Take a stone, uniformly at random from the bag\n",
    " 2. If it's red, increment `num_reds`: `num_reds += 1`.\n",
    " 3. Go back and repeat steps 1 and 2 until you've done this for 4 stones.\n",
    "\n",
    "`num_reds` is the number of red stones in your outcome."
   ]
  },
  {
   "cell_type": "code",
   "execution_count": 1,
   "metadata": {},
   "outputs": [],
   "source": [
    "# Set up `n` and `p`.\n",
    "# notice that there is a natural \"unpacking\" behavior \n",
    "# that allows one to create two variables in one line\n",
    "\n",
    "n, p = 4, .37 "
   ]
  },
  {
   "cell_type": "markdown",
   "metadata": {},
   "source": [
    "### Exercise: The Old School Way\n",
    "\n",
    "What is the probability distribution of `num_reds` in this random experiment? Graph it as well."
   ]
  },
  {
   "cell_type": "code",
   "execution_count": 2,
   "metadata": {},
   "outputs": [],
   "source": [
    "import itertools\n",
    "\n",
    "outcomes = list(itertools.product(('red', 'green'), repeat=n))"
   ]
  },
  {
   "cell_type": "code",
   "execution_count": 3,
   "metadata": {},
   "outputs": [],
   "source": [
    "def get_num_reds_from_outcome(outcome):\n",
    "    \"\"\"Return the number of red stones in the outcome\"\"\"\n",
    "    num_reds = 0\n",
    "    for stone_color in outcome:\n",
    "        if stone_color == 'red':\n",
    "            num_reds += 1\n",
    "    return num_reds"
   ]
  },
  {
   "cell_type": "code",
   "execution_count": 4,
   "metadata": {},
   "outputs": [
    {
     "name": "stdout",
     "output_type": "stream",
     "text": [
      "Examples:\n",
      "The following outcome has 4 reds and has probability 0.0187 chance of occuring: ('red', 'red', 'red', 'red')\n",
      "The following outcome has 3 reds and has probability 0.0319 chance of occuring: ('red', 'red', 'red', 'green')\n",
      "The following outcome has 3 reds and has probability 0.0319 chance of occuring: ('red', 'red', 'green', 'red')\n",
      "The following outcome has 2 reds and has probability 0.0543 chance of occuring: ('red', 'red', 'green', 'green')\n",
      "The following outcome has 3 reds and has probability 0.0319 chance of occuring: ('red', 'green', 'red', 'red')\n",
      "The following outcome has 2 reds and has probability 0.0543 chance of occuring: ('red', 'green', 'red', 'green')\n",
      "The following outcome has 2 reds and has probability 0.0543 chance of occuring: ('red', 'green', 'green', 'red')\n",
      "The following outcome has 1 reds and has probability 0.0925 chance of occuring: ('red', 'green', 'green', 'green')\n",
      "The following outcome has 3 reds and has probability 0.0319 chance of occuring: ('green', 'red', 'red', 'red')\n",
      "The following outcome has 2 reds and has probability 0.0543 chance of occuring: ('green', 'red', 'red', 'green')\n"
     ]
    }
   ],
   "source": [
    "def get_probability_from_outcome(outcome, red_probability=p):\n",
    "    \"\"\"Return probability of outcome.\n",
    "    \n",
    "    Since the probability of reds is the same each time, because we're sampling\n",
    "    \"\"\"\n",
    "    total_probability = 1\n",
    "    for stone_color in outcome:\n",
    "        if stone_color == 'red':\n",
    "            multiplier = red_probability\n",
    "        else:\n",
    "            multiplier = 1-red_probability\n",
    "        total_probability *= multiplier\n",
    "    return total_probability\n",
    "\n",
    "print(\"Examples:\")\n",
    "for outcome in outcomes[:10]:\n",
    "    print(\"The following outcome has\", get_num_reds_from_outcome(outcome), \"reds\",\n",
    "          \"and has probability\", f'{get_probability_from_outcome(outcome):.4f}',\n",
    "          \"chance of occuring:\", outcome)"
   ]
  },
  {
   "cell_type": "code",
   "execution_count": 5,
   "metadata": {},
   "outputs": [
    {
     "name": "stdout",
     "output_type": "stream",
     "text": [
      "Probability Distribution, n=4, p=0.37:\n",
      " --> There is a 0.1575 chance of seeing 0 reds.\n",
      " --> There is a 0.3701 chance of seeing 1 reds.\n",
      " --> There is a 0.3260 chance of seeing 2 reds.\n",
      " --> There is a 0.1276 chance of seeing 3 reds.\n",
      " --> There is a 0.0187 chance of seeing 4 reds.\n"
     ]
    }
   ],
   "source": [
    "# Produce probability distribution without a Pandas DataFrame\n",
    "num_reds_to_probability = {num:0 for num in range(n + 1)}\n",
    "for outcome in outcomes:\n",
    "    num_reds = get_num_reds_from_outcome(outcome)\n",
    "    probability = get_probability_from_outcome(outcome)\n",
    "    num_reds_to_probability[num_reds] += probability\n",
    "print(f\"Probability Distribution, n={n}, p={p}:\")\n",
    "for num_reds, probability in num_reds_to_probability.items():\n",
    "    print(f\" --> There is a {probability:.4f} chance of seeing {num_reds} reds.\")"
   ]
  },
  {
   "cell_type": "code",
   "execution_count": 6,
   "metadata": {},
   "outputs": [
    {
     "data": {
      "image/png": "[encoded data removed]",
      "text/plain": [
       "<Figure size 432x288 with 1 Axes>"
      ]
     },
     "metadata": {
      "needs_background": "light"
     },
     "output_type": "display_data"
    }
   ],
   "source": [
    "# Graph\n",
    "import matplotlib.pyplot as plt\n",
    "\n",
    "plt.bar(num_reds_to_probability.keys(), num_reds_to_probability.values())\n",
    "plt.title(f\"Probability Distribution of Number of Red Stones when choosing {n} with\\n\"\n",
    "          f\"replacement from a population with a {p} proportion of red stones.\")\n",
    "plt.xlabel(\"Number of Red Stones\")\n",
    "plt.ylabel(\"Probability\")\n",
    "plt.show()"
   ]
  },
  {
   "cell_type": "markdown",
   "metadata": {},
   "source": [
    "### Exercise: With Pandas, the power of tabular data manipulation\n",
    "\n",
    "What is the probability distribution of `num_reds` in this random experiment? Graph it as well."
   ]
  },
  {
   "cell_type": "code",
   "execution_count": 7,
   "metadata": {},
   "outputs": [
    {
     "data": {
      "text/html": [
       "<div>\n",
       "<style scoped>\n",
       "    .dataframe tbody tr th:only-of-type {\n",
       "        vertical-align: middle;\n",
       "    }\n",
       "\n",
       "    .dataframe tbody tr th {\n",
       "        vertical-align: top;\n",
       "    }\n",
       "\n",
       "    .dataframe thead th {\n",
       "        text-align: right;\n",
       "    }\n",
       "</style>\n",
       "<table border=\"1\" class=\"dataframe\">\n",
       "  <thead>\n",
       "    <tr style=\"text-align: right;\">\n",
       "      <th></th>\n",
       "      <th>color_1</th>\n",
       "      <th>color_2</th>\n",
       "      <th>color_3</th>\n",
       "      <th>color_4</th>\n",
       "    </tr>\n",
       "  </thead>\n",
       "  <tbody>\n",
       "    <tr>\n",
       "      <th>0</th>\n",
       "      <td>red</td>\n",
       "      <td>red</td>\n",
       "      <td>red</td>\n",
       "      <td>red</td>\n",
       "    </tr>\n",
       "    <tr>\n",
       "      <th>1</th>\n",
       "      <td>red</td>\n",
       "      <td>red</td>\n",
       "      <td>red</td>\n",
       "      <td>green</td>\n",
       "    </tr>\n",
       "    <tr>\n",
       "      <th>2</th>\n",
       "      <td>red</td>\n",
       "      <td>red</td>\n",
       "      <td>green</td>\n",
       "      <td>red</td>\n",
       "    </tr>\n",
       "    <tr>\n",
       "      <th>3</th>\n",
       "      <td>red</td>\n",
       "      <td>red</td>\n",
       "      <td>green</td>\n",
       "      <td>green</td>\n",
       "    </tr>\n",
       "    <tr>\n",
       "      <th>4</th>\n",
       "      <td>red</td>\n",
       "      <td>green</td>\n",
       "      <td>red</td>\n",
       "      <td>red</td>\n",
       "    </tr>\n",
       "  </tbody>\n",
       "</table>\n",
       "</div>"
      ],
      "text/plain": [
       "  color_1 color_2 color_3 color_4\n",
       "0     red     red     red     red\n",
       "1     red     red     red   green\n",
       "2     red     red   green     red\n",
       "3     red     red   green   green\n",
       "4     red   green     red     red"
      ]
     },
     "execution_count": 7,
     "metadata": {},
     "output_type": "execute_result"
    }
   ],
   "source": [
    "# Put outcomes in a DataFrame\n",
    "import pandas as pd\n",
    "\n",
    "outcomes = itertools.product(('red', 'green'), repeat=n)\n",
    "\n",
    "outcomes_df = pd.DataFrame(data=outcomes, columns=(f'color_{num}' for num in range(1, n + 1)))\n",
    "outcomes_df.head()"
   ]
  },
  {
   "cell_type": "code",
   "execution_count": 8,
   "metadata": {},
   "outputs": [
    {
     "data": {
      "text/html": [
       "<div>\n",
       "<style scoped>\n",
       "    .dataframe tbody tr th:only-of-type {\n",
       "        vertical-align: middle;\n",
       "    }\n",
       "\n",
       "    .dataframe tbody tr th {\n",
       "        vertical-align: top;\n",
       "    }\n",
       "\n",
       "    .dataframe thead th {\n",
       "        text-align: right;\n",
       "    }\n",
       "</style>\n",
       "<table border=\"1\" class=\"dataframe\">\n",
       "  <thead>\n",
       "    <tr style=\"text-align: right;\">\n",
       "      <th></th>\n",
       "      <th>color_1</th>\n",
       "      <th>color_2</th>\n",
       "      <th>color_3</th>\n",
       "      <th>color_4</th>\n",
       "    </tr>\n",
       "  </thead>\n",
       "  <tbody>\n",
       "    <tr>\n",
       "      <th>0</th>\n",
       "      <td>True</td>\n",
       "      <td>True</td>\n",
       "      <td>True</td>\n",
       "      <td>True</td>\n",
       "    </tr>\n",
       "    <tr>\n",
       "      <th>1</th>\n",
       "      <td>True</td>\n",
       "      <td>True</td>\n",
       "      <td>True</td>\n",
       "      <td>False</td>\n",
       "    </tr>\n",
       "    <tr>\n",
       "      <th>2</th>\n",
       "      <td>True</td>\n",
       "      <td>True</td>\n",
       "      <td>False</td>\n",
       "      <td>True</td>\n",
       "    </tr>\n",
       "    <tr>\n",
       "      <th>3</th>\n",
       "      <td>True</td>\n",
       "      <td>True</td>\n",
       "      <td>False</td>\n",
       "      <td>False</td>\n",
       "    </tr>\n",
       "    <tr>\n",
       "      <th>4</th>\n",
       "      <td>True</td>\n",
       "      <td>False</td>\n",
       "      <td>True</td>\n",
       "      <td>True</td>\n",
       "    </tr>\n",
       "  </tbody>\n",
       "</table>\n",
       "</div>"
      ],
      "text/plain": [
       "   color_1  color_2  color_3  color_4\n",
       "0     True     True     True     True\n",
       "1     True     True     True    False\n",
       "2     True     True    False     True\n",
       "3     True     True    False    False\n",
       "4     True    False     True     True"
      ]
     },
     "execution_count": 8,
     "metadata": {},
     "output_type": "execute_result"
    }
   ],
   "source": [
    "red_mask = outcomes_df == 'red'\n",
    "red_mask.head()"
   ]
  },
  {
   "cell_type": "code",
   "execution_count": 9,
   "metadata": {},
   "outputs": [
    {
     "data": {
      "text/html": [
       "<div>\n",
       "<style scoped>\n",
       "    .dataframe tbody tr th:only-of-type {\n",
       "        vertical-align: middle;\n",
       "    }\n",
       "\n",
       "    .dataframe tbody tr th {\n",
       "        vertical-align: top;\n",
       "    }\n",
       "\n",
       "    .dataframe thead th {\n",
       "        text-align: right;\n",
       "    }\n",
       "</style>\n",
       "<table border=\"1\" class=\"dataframe\">\n",
       "  <thead>\n",
       "    <tr style=\"text-align: right;\">\n",
       "      <th></th>\n",
       "      <th>color_1</th>\n",
       "      <th>color_2</th>\n",
       "      <th>color_3</th>\n",
       "      <th>color_4</th>\n",
       "      <th>num_reds</th>\n",
       "    </tr>\n",
       "  </thead>\n",
       "  <tbody>\n",
       "    <tr>\n",
       "      <th>0</th>\n",
       "      <td>red</td>\n",
       "      <td>red</td>\n",
       "      <td>red</td>\n",
       "      <td>red</td>\n",
       "      <td>4</td>\n",
       "    </tr>\n",
       "    <tr>\n",
       "      <th>1</th>\n",
       "      <td>red</td>\n",
       "      <td>red</td>\n",
       "      <td>red</td>\n",
       "      <td>green</td>\n",
       "      <td>3</td>\n",
       "    </tr>\n",
       "    <tr>\n",
       "      <th>2</th>\n",
       "      <td>red</td>\n",
       "      <td>red</td>\n",
       "      <td>green</td>\n",
       "      <td>red</td>\n",
       "      <td>3</td>\n",
       "    </tr>\n",
       "    <tr>\n",
       "      <th>3</th>\n",
       "      <td>red</td>\n",
       "      <td>red</td>\n",
       "      <td>green</td>\n",
       "      <td>green</td>\n",
       "      <td>2</td>\n",
       "    </tr>\n",
       "    <tr>\n",
       "      <th>4</th>\n",
       "      <td>red</td>\n",
       "      <td>green</td>\n",
       "      <td>red</td>\n",
       "      <td>red</td>\n",
       "      <td>3</td>\n",
       "    </tr>\n",
       "  </tbody>\n",
       "</table>\n",
       "</div>"
      ],
      "text/plain": [
       "  color_1 color_2 color_3 color_4  num_reds\n",
       "0     red     red     red     red         4\n",
       "1     red     red     red   green         3\n",
       "2     red     red   green     red         3\n",
       "3     red     red   green   green         2\n",
       "4     red   green     red     red         3"
      ]
     },
     "execution_count": 9,
     "metadata": {},
     "output_type": "execute_result"
    }
   ],
   "source": [
    "# note axis 1, and that we are summing booleans\n",
    "outcomes_df['num_reds'] = red_mask.sum(axis=1)\n",
    "outcomes_df.head()"
   ]
  },
  {
   "cell_type": "code",
   "execution_count": 10,
   "metadata": {},
   "outputs": [
    {
     "data": {
      "text/html": [
       "<div>\n",
       "<style scoped>\n",
       "    .dataframe tbody tr th:only-of-type {\n",
       "        vertical-align: middle;\n",
       "    }\n",
       "\n",
       "    .dataframe tbody tr th {\n",
       "        vertical-align: top;\n",
       "    }\n",
       "\n",
       "    .dataframe thead th {\n",
       "        text-align: right;\n",
       "    }\n",
       "</style>\n",
       "<table border=\"1\" class=\"dataframe\">\n",
       "  <thead>\n",
       "    <tr style=\"text-align: right;\">\n",
       "      <th></th>\n",
       "      <th>color_1</th>\n",
       "      <th>color_2</th>\n",
       "      <th>color_3</th>\n",
       "      <th>color_4</th>\n",
       "      <th>num_reds</th>\n",
       "      <th>probability</th>\n",
       "    </tr>\n",
       "  </thead>\n",
       "  <tbody>\n",
       "    <tr>\n",
       "      <th>0</th>\n",
       "      <td>red</td>\n",
       "      <td>red</td>\n",
       "      <td>red</td>\n",
       "      <td>red</td>\n",
       "      <td>4</td>\n",
       "      <td>0.018742</td>\n",
       "    </tr>\n",
       "    <tr>\n",
       "      <th>1</th>\n",
       "      <td>red</td>\n",
       "      <td>red</td>\n",
       "      <td>red</td>\n",
       "      <td>green</td>\n",
       "      <td>3</td>\n",
       "      <td>0.031911</td>\n",
       "    </tr>\n",
       "    <tr>\n",
       "      <th>2</th>\n",
       "      <td>red</td>\n",
       "      <td>red</td>\n",
       "      <td>green</td>\n",
       "      <td>red</td>\n",
       "      <td>3</td>\n",
       "      <td>0.031911</td>\n",
       "    </tr>\n",
       "    <tr>\n",
       "      <th>3</th>\n",
       "      <td>red</td>\n",
       "      <td>red</td>\n",
       "      <td>green</td>\n",
       "      <td>green</td>\n",
       "      <td>2</td>\n",
       "      <td>0.054336</td>\n",
       "    </tr>\n",
       "    <tr>\n",
       "      <th>4</th>\n",
       "      <td>red</td>\n",
       "      <td>green</td>\n",
       "      <td>red</td>\n",
       "      <td>red</td>\n",
       "      <td>3</td>\n",
       "      <td>0.031911</td>\n",
       "    </tr>\n",
       "  </tbody>\n",
       "</table>\n",
       "</div>"
      ],
      "text/plain": [
       "  color_1 color_2 color_3 color_4  num_reds  probability\n",
       "0     red     red     red     red         4     0.018742\n",
       "1     red     red     red   green         3     0.031911\n",
       "2     red     red   green     red         3     0.031911\n",
       "3     red     red   green   green         2     0.054336\n",
       "4     red   green     red     red         3     0.031911"
      ]
     },
     "execution_count": 10,
     "metadata": {},
     "output_type": "execute_result"
    }
   ],
   "source": [
    "# So if we have 3 reds, we do p * p * p * (1-p)\n",
    "# If we have 2 reds, we do p * p * (1-p) * (1-p)\n",
    "# The order that we are applying these muliplications doesn't matter\n",
    "# Because multiplication is commutative\n",
    "outcomes_df['probability'] = p**outcomes_df['num_reds']*(1-p)**(n-outcomes_df['num_reds'])\n",
    "outcomes_df.head()"
   ]
  },
  {
   "cell_type": "code",
   "execution_count": 11,
   "metadata": {},
   "outputs": [
    {
     "data": {
      "text/html": [
       "<div>\n",
       "<style scoped>\n",
       "    .dataframe tbody tr th:only-of-type {\n",
       "        vertical-align: middle;\n",
       "    }\n",
       "\n",
       "    .dataframe tbody tr th {\n",
       "        vertical-align: top;\n",
       "    }\n",
       "\n",
       "    .dataframe thead th {\n",
       "        text-align: right;\n",
       "    }\n",
       "</style>\n",
       "<table border=\"1\" class=\"dataframe\">\n",
       "  <thead>\n",
       "    <tr style=\"text-align: right;\">\n",
       "      <th></th>\n",
       "      <th>probability</th>\n",
       "    </tr>\n",
       "    <tr>\n",
       "      <th>num_reds</th>\n",
       "      <th></th>\n",
       "    </tr>\n",
       "  </thead>\n",
       "  <tbody>\n",
       "    <tr>\n",
       "      <th>0</th>\n",
       "      <td>0.157530</td>\n",
       "    </tr>\n",
       "    <tr>\n",
       "      <th>1</th>\n",
       "      <td>0.370070</td>\n",
       "    </tr>\n",
       "    <tr>\n",
       "      <th>2</th>\n",
       "      <td>0.326014</td>\n",
       "    </tr>\n",
       "    <tr>\n",
       "      <th>3</th>\n",
       "      <td>0.127646</td>\n",
       "    </tr>\n",
       "    <tr>\n",
       "      <th>4</th>\n",
       "      <td>0.018742</td>\n",
       "    </tr>\n",
       "  </tbody>\n",
       "</table>\n",
       "</div>"
      ],
      "text/plain": [
       "          probability\n",
       "num_reds             \n",
       "0            0.157530\n",
       "1            0.370070\n",
       "2            0.326014\n",
       "3            0.127646\n",
       "4            0.018742"
      ]
     },
     "execution_count": 11,
     "metadata": {},
     "output_type": "execute_result"
    }
   ],
   "source": [
    "# Group by num_reds\n",
    "probability_distribution_df = outcomes_df.groupby('num_reds')[['probability']].sum()\n",
    "probability_distribution_df"
   ]
  },
  {
   "cell_type": "code",
   "execution_count": 12,
   "metadata": {
    "scrolled": true
   },
   "outputs": [
    {
     "data": {
      "image/png": "[encoded data removed]",
      "text/plain": [
       "<Figure size 432x288 with 1 Axes>"
      ]
     },
     "metadata": {
      "needs_background": "light"
     },
     "output_type": "display_data"
    }
   ],
   "source": [
    "# Graph\n",
    "probability_distribution_df.plot.bar()\n",
    "plt.show()"
   ]
  },
  {
   "cell_type": "markdown",
   "metadata": {},
   "source": [
    "### Exercise: With SciPy, even more straightforward\n",
    "\n",
    "What is the probability distribution of `num_reds` in this random experiment? Graph it as well."
   ]
  },
  {
   "cell_type": "code",
   "execution_count": 13,
   "metadata": {},
   "outputs": [
    {
     "name": "stdout",
     "output_type": "stream",
     "text": [
      "The probability of getting 0 red stones is 0.1575\n",
      "The probability of getting 1 red stones is 0.3701\n",
      "The probability of getting 2 red stones is 0.3260\n",
      "The probability of getting 3 red stones is 0.1276\n",
      "The probability of getting 4 red stones is 0.0187\n"
     ]
    },
    {
     "data": {
      "image/png": "[encoded data removed]",
      "text/plain": [
       "<Figure size 432x288 with 1 Axes>"
      ]
     },
     "metadata": {
      "needs_background": "light"
     },
     "output_type": "display_data"
    }
   ],
   "source": [
    "from scipy.stats import binom\n",
    "import numpy as np\n",
    "\n",
    "rv = binom(n, p)\n",
    "nums = np.arange(n+1)\n",
    "\n",
    "for num in nums:\n",
    "    print(f\"The probability of getting {num} red stones is \"\n",
    "          f\"{rv.pmf(num):.4f}\")\n",
    "\n",
    "plt.bar(nums, rv.pmf(nums))\n",
    "plt.title(f\"Probability Distribution of Number of Red Stones when choosing {n} with\\n\"\n",
    "          f\"replacement from a population with a {p} proportion of red stones.\")\n",
    "plt.xlabel(\"Number of Red Stones\")\n",
    "plt.ylabel(\"Probability\")\n",
    "plt.show()"
   ]
  }
 ],
 "metadata": {
  "kernelspec": {
   "display_name": "Python 3 (ipykernel)",
   "language": "python",
   "name": "python3"
  },
  "language_info": {
   "codemirror_mode": {
    "name": "ipython",
    "version": 3
   },
   "file_extension": ".py",
   "mimetype": "text/x-python",
   "name": "python",
   "nbconvert_exporter": "python",
   "pygments_lexer": "ipython3",
   "version": "3.10.1"
  }
 },
 "nbformat": 4,
 "nbformat_minor": 2
}
