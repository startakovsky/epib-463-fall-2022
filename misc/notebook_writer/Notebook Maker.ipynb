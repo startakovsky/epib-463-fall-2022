{
 "cells": [
  {
   "cell_type": "code",
   "execution_count": 2,
   "id": "d5ee75f3",
   "metadata": {},
   "outputs": [
    {
     "name": "stdout",
     "output_type": "stream",
     "text": [
      "Writing to coding-assignment-week-09.ipynb.\n"
     ]
    }
   ],
   "source": [
    "import textwrap\n",
    "\n",
    "from ipynb_helper import get_whole_json\n",
    "\n",
    "def main(filename, text, is_interleave=False):\n",
    "    with open(filename, 'w') as f:\n",
    "        print(f\"Writing to {filename}.\")\n",
    "        f.write(get_whole_json(text, is_interleave=is_interleave))\n",
    "\n",
    "text = textwrap.dedent(\"\"\"\\\n",
    "    # Questions on Probability Distributions\n",
    "    ## Sample 1000 Poisson(5) and store in numpy array `samples`\n",
    "    ## Compute sample mean, define `get_mean` function.\n",
    "\"\"\")\n",
    "\n",
    "main('coding-assignmentnjkjkjkj-week-09.ipynb', text, is_interleave=True)"
   ]
  },
  {
   "cell_type": "code",
   "execution_count": null,
   "id": "58c357c6",
   "metadata": {},
   "outputs": [],
   "source": []
  }
 ],
 "metadata": {
  "kernelspec": {
   "display_name": "Python 3 (ipykernel)",
   "language": "python",
   "name": "python3"
  },
  "language_info": {
   "codemirror_mode": {
    "name": "ipython",
    "version": 3
   },
   "file_extension": ".py",
   "mimetype": "text/x-python",
   "name": "python",
   "nbconvert_exporter": "python",
   "pygments_lexer": "ipython3",
   "version": "3.10.6"
  }
 },
 "nbformat": 4,
 "nbformat_minor": 5
}
