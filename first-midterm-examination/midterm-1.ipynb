{
 "cells": [
  {
   "cell_type": "markdown",
   "metadata": {
    "collapsed": false
   },
   "source": [
    "### Question 1\n",
    "\n",
    "Load the data file in this assignment folder as a pandas DataFrame named `df`. You can do this the standard way, even though it is not a csv file. The delimiter between columns is the string `'\\s+'`. Read the official Pandas documentation on the function you want to use to load this DataFrame and figure out how to incorporate this delimiter when calling the function."
   ]
  },
  {
   "cell_type": "code",
   "execution_count": 1,
   "metadata": {
    "collapsed": false
   },
   "outputs": [
   ],
   "source": [
    "# Answer 1\n",
    "# write code here"
   ]
  },
  {
   "cell_type": "markdown",
   "metadata": {
    "collapsed": false
   },
   "source": [
    "### Question 2\n",
    "\n",
    "From the table, how many departments are there? (You can obviously count the number of departments in your head. This question is not asking you to do that, it's asking you to write code.)"
   ]
  },
  {
   "cell_type": "code",
   "execution_count": 2,
   "metadata": {
    "collapsed": false
   },
   "outputs": [
   ],
   "source": [
    "# Answer 2\n",
    "# write code here"
   ]
  },
  {
   "cell_type": "markdown",
   "metadata": {
    "collapsed": false
   },
   "source": [
    "### Question 3\n",
    "\n",
    "Let's simplify this dataframe. Create a new dataframe named `df_simplified` that has one row for each department, and ignores gender. \n",
    "  - The columns in `df_simplified` should be just [`department`, `yes`, `no`].\n",
    "  - The index of `df_simplified` should be the department names."
   ]
  },
  {
   "cell_type": "code",
   "execution_count": 3,
   "metadata": {
    "collapsed": false
   },
   "outputs": [
   ],
   "source": [
    "# Answer 3\n",
    "# write code here"
   ]
  },
  {
   "cell_type": "markdown",
   "metadata": {
    "collapsed": false
   },
   "source": [
    "### Question 4\n",
    "\n",
    "Create a new column in `df_simplified` indicating the acceptance rate. Name the column `acceptance_rate`. \n",
    " - For example, if you have 10 yes's and 40 no's, then the acceptance rate would be 0.2 because 50 people applied and 10 got in and 10/50 is 0.2."
   ]
  },
  {
   "cell_type": "code",
   "execution_count": 4,
   "metadata": {
    "collapsed": false
   },
   "outputs": [
   ],
   "source": [
    "# Answer 4\n",
    "# write code here"
   ]
  },
  {
   "cell_type": "markdown",
   "metadata": {
    "collapsed": false
   },
   "source": [
    "### Question 5\n",
    "\n",
    "Using `df_simplified`, graph the acceptance rates for each department in a bar chart."
   ]
  },
  {
   "cell_type": "code",
   "execution_count": 5,
   "metadata": {
    "collapsed": false
   },
   "outputs": [
   ],
   "source": [
    "# Answer 5\n",
    "# write code here"
   ]
  },
  {
   "cell_type": "markdown",
   "metadata": {
    "collapsed": false
   },
   "source": [
    "### Question 6\n",
    "\n",
    "Suppose you had a 52 card deck. The deck has 13 different card numbers and 4 different suits. Create a list of tuples, where each tuple is one card. Name the list `cards`.\n",
    " - I don't care what you call the 13 cards. You can use real names like \"two\" and \"Ace\", or you can use the numbers zero through 13.\n",
    " - I don't care what you call the suits.\n",
    " - The important thing is that you create a list named cards, and it has tuples that you can distinguish from one another."
   ]
  },
  {
   "cell_type": "code",
   "execution_count": 6,
   "metadata": {
    "collapsed": false
   },
   "outputs": [
   ],
   "source": [
    "# Answer 6\n",
    "# write code here"
   ]
  },
  {
   "cell_type": "markdown",
   "metadata": {
    "collapsed": false
   },
   "source": [
    "### Question 7\n",
    "\n",
    "Create a list named `triplets` of all the ways you can select 3 cards. How many triplets are there?"
   ]
  },
  {
   "cell_type": "code",
   "execution_count": 7,
   "metadata": {
    "collapsed": false
   },
   "outputs": [
   ],
   "source": [
    "# Answer 7\n",
    "# write code here"
   ]
  },
  {
   "cell_type": "markdown",
   "metadata": {
    "collapsed": false
   },
   "source": [
    "### Question 8\n",
    "\n",
    "Pretend that you have a sample space made up of all the triplets and they are all equally likely. Come up with an example of a random variable using this sample space."
   ]
  },
  {
   "cell_type": "markdown",
   "metadata": {
    "collapsed": false
   },
   "source": [
    "write your answer here"
   ]
  }
 ],
 "metadata": {
  "kernelspec": {
   "display_name": "Python 3 (system-wide)",
   "language": "python",
   "metadata": {
    "cocalc": {
     "description": "Python 3 programming language",
     "priority": 100,
     "url": "https://www.python.org/"
    }
   },
   "name": "python3",
   "resource_dir": "/ext/jupyter/kernels/python3"
  },
  "language_info": {
   "codemirror_mode": {
    "name": "ipython",
    "version": 3
   },
   "file_extension": ".py",
   "mimetype": "text/x-python",
   "name": "python",
   "nbconvert_exporter": "python",
   "pygments_lexer": "ipython3",
   "version": "3.8.10"
  }
 },
 "nbformat": 4,
 "nbformat_minor": 4
}