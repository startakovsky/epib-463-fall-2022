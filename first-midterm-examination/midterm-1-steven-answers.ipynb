{
 "cells": [
  {
   "cell_type": "markdown",
   "metadata": {},
   "source": [
    "# First Midterm, Answers, EPIB-463, Fall 2022"
   ]
  },
  {
   "cell_type": "markdown",
   "metadata": {},
   "source": [
    "### Question 1\n",
    "\n",
    "Load the data file in this assignment folder as a pandas DataFrame named `df`. You can do this the standard way, even though it is not a csv file. The delimiter between columns is the string `'\\s+'`. Read the official Pandas documentation on the function you want to use to load this DataFrame and figure out how to incorporate this delimiter when calling the function."
   ]
  },
  {
   "cell_type": "code",
   "execution_count": 1,
   "metadata": {},
   "outputs": [
    {
     "data": {
      "text/html": [
       "<div>\n",
       "<style scoped>\n",
       "    .dataframe tbody tr th:only-of-type {\n",
       "        vertical-align: middle;\n",
       "    }\n",
       "\n",
       "    .dataframe tbody tr th {\n",
       "        vertical-align: top;\n",
       "    }\n",
       "\n",
       "    .dataframe thead th {\n",
       "        text-align: right;\n",
       "    }\n",
       "</style>\n",
       "<table border=\"1\" class=\"dataframe\">\n",
       "  <thead>\n",
       "    <tr style=\"text-align: right;\">\n",
       "      <th></th>\n",
       "      <th>department</th>\n",
       "      <th>gender</th>\n",
       "      <th>yes</th>\n",
       "      <th>no</th>\n",
       "    </tr>\n",
       "  </thead>\n",
       "  <tbody>\n",
       "    <tr>\n",
       "      <th>0</th>\n",
       "      <td>anthropol</td>\n",
       "      <td>0</td>\n",
       "      <td>21</td>\n",
       "      <td>41</td>\n",
       "    </tr>\n",
       "    <tr>\n",
       "      <th>1</th>\n",
       "      <td>anthropol</td>\n",
       "      <td>1</td>\n",
       "      <td>32</td>\n",
       "      <td>81</td>\n",
       "    </tr>\n",
       "    <tr>\n",
       "      <th>2</th>\n",
       "      <td>astronomy</td>\n",
       "      <td>0</td>\n",
       "      <td>3</td>\n",
       "      <td>8</td>\n",
       "    </tr>\n",
       "    <tr>\n",
       "      <th>3</th>\n",
       "      <td>astronomy</td>\n",
       "      <td>1</td>\n",
       "      <td>6</td>\n",
       "      <td>0</td>\n",
       "    </tr>\n",
       "    <tr>\n",
       "      <th>4</th>\n",
       "      <td>chemistry</td>\n",
       "      <td>0</td>\n",
       "      <td>34</td>\n",
       "      <td>110</td>\n",
       "    </tr>\n",
       "  </tbody>\n",
       "</table>\n",
       "</div>"
      ],
      "text/plain": [
       "  department  gender  yes   no\n",
       "0  anthropol       0   21   41\n",
       "1  anthropol       1   32   81\n",
       "2  astronomy       0    3    8\n",
       "3  astronomy       1    6    0\n",
       "4  chemistry       0   34  110"
      ]
     },
     "execution_count": 1,
     "metadata": {},
     "output_type": "execute_result"
    }
   ],
   "source": [
    "# Answer 1: The hard part about this question was reading the directions and looking at the pandas documentation.\n",
    "import pandas as pd\n",
    "df = pd.read_csv('Admissions.dat', sep='\\s+')\n",
    "df.head()"
   ]
  },
  {
   "cell_type": "markdown",
   "metadata": {},
   "source": [
    "### Question 2\n",
    "\n",
    "From the table, how many departments are there? (You can obviously count the number of departments in your head. This question is not asking you to do that, it's asking you to write code.)"
   ]
  },
  {
   "cell_type": "code",
   "execution_count": 2,
   "metadata": {},
   "outputs": [
    {
     "name": "stdout",
     "output_type": "stream",
     "text": [
      "There are 23 departments.\n"
     ]
    }
   ],
   "source": [
    "# Answer 2: Option 1 nunique is a dataframe method, you may not have known this existed\n",
    "num_unique_departments = df.department.nunique()\n",
    "print(\"There are\", num_unique_departments, \"departments.\")"
   ]
  },
  {
   "cell_type": "code",
   "execution_count": 3,
   "metadata": {},
   "outputs": [
    {
     "name": "stdout",
     "output_type": "stream",
     "text": [
      "There are 23 departments.\n"
     ]
    }
   ],
   "source": [
    "# Answer 2: Option 2, unique is another dataframe method\n",
    "unique_departments = df.department.unique()\n",
    "num_unique_departments = len(unique_departments)\n",
    "print(\"There are\", num_unique_departments, \"departments.\")"
   ]
  },
  {
   "cell_type": "code",
   "execution_count": 4,
   "metadata": {},
   "outputs": [
    {
     "name": "stdout",
     "output_type": "stream",
     "text": [
      "There are 23 departments.\n"
     ]
    }
   ],
   "source": [
    "# Answer 2: Option 3, here is a way we have practiced that involves a for loop and a list that conditionally grows\n",
    "unique_departments = []\n",
    "for department in df.department:\n",
    "    if department not in unique_departments:\n",
    "        unique_departments.append(department)\n",
    "\n",
    "num_unique_departments = len(unique_departments)\n",
    "print(\"There are\", num_unique_departments, \"departments.\")"
   ]
  },
  {
   "cell_type": "code",
   "execution_count": 5,
   "metadata": {},
   "outputs": [
    {
     "name": "stdout",
     "output_type": "stream",
     "text": [
      "There are 23 departments.\n"
     ]
    }
   ],
   "source": [
    "# Answer 2: Option 4, here it is with Counter.\n",
    "import collections\n",
    "counter = collections.Counter(df.department)\n",
    "num_unique_departments = len(counter)\n",
    "print(\"There are\", num_unique_departments, \"departments.\")"
   ]
  },
  {
   "cell_type": "markdown",
   "metadata": {},
   "source": [
    "### Question 3\n",
    "\n",
    "Let's simplify this dataframe. Create a new dataframe named `df_simplified` that has one row for each department, and ignores gender. \n",
    "  - The columns in `df_simplified` should be just [`yes`, `no`].\n",
    "  - The index of `df_simplified` should be the department names."
   ]
  },
  {
   "cell_type": "code",
   "execution_count": 6,
   "metadata": {},
   "outputs": [
    {
     "data": {
      "text/html": [
       "<div>\n",
       "<style scoped>\n",
       "    .dataframe tbody tr th:only-of-type {\n",
       "        vertical-align: middle;\n",
       "    }\n",
       "\n",
       "    .dataframe tbody tr th {\n",
       "        vertical-align: top;\n",
       "    }\n",
       "\n",
       "    .dataframe thead th {\n",
       "        text-align: right;\n",
       "    }\n",
       "</style>\n",
       "<table border=\"1\" class=\"dataframe\">\n",
       "  <thead>\n",
       "    <tr style=\"text-align: right;\">\n",
       "      <th></th>\n",
       "      <th>yes</th>\n",
       "      <th>no</th>\n",
       "    </tr>\n",
       "    <tr>\n",
       "      <th>department</th>\n",
       "      <th></th>\n",
       "      <th></th>\n",
       "    </tr>\n",
       "  </thead>\n",
       "  <tbody>\n",
       "    <tr>\n",
       "      <th>anthropol</th>\n",
       "      <td>53</td>\n",
       "      <td>122</td>\n",
       "    </tr>\n",
       "    <tr>\n",
       "      <th>astronomy</th>\n",
       "      <td>9</td>\n",
       "      <td>8</td>\n",
       "    </tr>\n",
       "    <tr>\n",
       "      <th>chemistry</th>\n",
       "      <td>46</td>\n",
       "      <td>153</td>\n",
       "    </tr>\n",
       "    <tr>\n",
       "      <th>classics</th>\n",
       "      <td>7</td>\n",
       "      <td>1</td>\n",
       "    </tr>\n",
       "    <tr>\n",
       "      <th>communicat</th>\n",
       "      <td>57</td>\n",
       "      <td>159</td>\n",
       "    </tr>\n",
       "  </tbody>\n",
       "</table>\n",
       "</div>"
      ],
      "text/plain": [
       "            yes   no\n",
       "department          \n",
       "anthropol    53  122\n",
       "astronomy     9    8\n",
       "chemistry    46  153\n",
       "classics      7    1\n",
       "communicat   57  159"
      ]
     },
     "execution_count": 6,
     "metadata": {},
     "output_type": "execute_result"
    }
   ],
   "source": [
    "# Answer 3: Option 1, aggregate the yes and no's by summing them up.\n",
    "df_simplified = df.groupby('department')[['yes', 'no']].sum()\n",
    "df_simplified.head()"
   ]
  },
  {
   "cell_type": "code",
   "execution_count": 7,
   "metadata": {},
   "outputs": [
    {
     "data": {
      "text/html": [
       "<div>\n",
       "<style scoped>\n",
       "    .dataframe tbody tr th:only-of-type {\n",
       "        vertical-align: middle;\n",
       "    }\n",
       "\n",
       "    .dataframe tbody tr th {\n",
       "        vertical-align: top;\n",
       "    }\n",
       "\n",
       "    .dataframe thead th {\n",
       "        text-align: right;\n",
       "    }\n",
       "</style>\n",
       "<table border=\"1\" class=\"dataframe\">\n",
       "  <thead>\n",
       "    <tr style=\"text-align: right;\">\n",
       "      <th></th>\n",
       "      <th>yes</th>\n",
       "      <th>no</th>\n",
       "    </tr>\n",
       "    <tr>\n",
       "      <th>department</th>\n",
       "      <th></th>\n",
       "      <th></th>\n",
       "    </tr>\n",
       "  </thead>\n",
       "  <tbody>\n",
       "    <tr>\n",
       "      <th>anthropol</th>\n",
       "      <td>21</td>\n",
       "      <td>41</td>\n",
       "    </tr>\n",
       "    <tr>\n",
       "      <th>astronomy</th>\n",
       "      <td>3</td>\n",
       "      <td>8</td>\n",
       "    </tr>\n",
       "    <tr>\n",
       "      <th>chemistry</th>\n",
       "      <td>34</td>\n",
       "      <td>110</td>\n",
       "    </tr>\n",
       "    <tr>\n",
       "      <th>classics</th>\n",
       "      <td>4</td>\n",
       "      <td>0</td>\n",
       "    </tr>\n",
       "    <tr>\n",
       "      <th>communicat</th>\n",
       "      <td>5</td>\n",
       "      <td>10</td>\n",
       "    </tr>\n",
       "  </tbody>\n",
       "</table>\n",
       "</div>"
      ],
      "text/plain": [
       "            yes   no\n",
       "department          \n",
       "anthropol    21   41\n",
       "astronomy     3    8\n",
       "chemistry    34  110\n",
       "classics      4    0\n",
       "communicat    5   10"
      ]
     },
     "execution_count": 7,
     "metadata": {},
     "output_type": "execute_result"
    }
   ],
   "source": [
    "# Answer 3: Option 2 while we do not take the sum, we just use data from one gender.\n",
    "rows_for_gender_0 = []\n",
    "for idx, row in df.iterrows():\n",
    "    if idx % 2 == 0:\n",
    "        rows_for_gender_0.append(row)\n",
    "df_simplified = pd.DataFrame(rows_for_gender_0, columns=df.columns)\n",
    "df_simplified.index = df_simplified.pop('department')\n",
    "df_simplified = df_simplified.drop('gender', axis=1)\n",
    "df_simplified.head()"
   ]
  },
  {
   "cell_type": "markdown",
   "metadata": {},
   "source": [
    "### Question 4\n",
    "\n",
    "Create a new column in `df_simplified` indicating the acceptance rate. Name the column `acceptance_rate`. \n",
    " - For example, if you have 10 yes's and 40 no's, then the acceptance rate would be 0.2 because 50 people applied and 10 got in and 10/50 is 0.2."
   ]
  },
  {
   "cell_type": "code",
   "execution_count": 8,
   "metadata": {},
   "outputs": [
    {
     "data": {
      "text/html": [
       "<div>\n",
       "<style scoped>\n",
       "    .dataframe tbody tr th:only-of-type {\n",
       "        vertical-align: middle;\n",
       "    }\n",
       "\n",
       "    .dataframe tbody tr th {\n",
       "        vertical-align: top;\n",
       "    }\n",
       "\n",
       "    .dataframe thead th {\n",
       "        text-align: right;\n",
       "    }\n",
       "</style>\n",
       "<table border=\"1\" class=\"dataframe\">\n",
       "  <thead>\n",
       "    <tr style=\"text-align: right;\">\n",
       "      <th></th>\n",
       "      <th>yes</th>\n",
       "      <th>no</th>\n",
       "      <th>acceptance_rate</th>\n",
       "    </tr>\n",
       "    <tr>\n",
       "      <th>department</th>\n",
       "      <th></th>\n",
       "      <th></th>\n",
       "      <th></th>\n",
       "    </tr>\n",
       "  </thead>\n",
       "  <tbody>\n",
       "    <tr>\n",
       "      <th>anthropol</th>\n",
       "      <td>21</td>\n",
       "      <td>41</td>\n",
       "      <td>0.338710</td>\n",
       "    </tr>\n",
       "    <tr>\n",
       "      <th>astronomy</th>\n",
       "      <td>3</td>\n",
       "      <td>8</td>\n",
       "      <td>0.272727</td>\n",
       "    </tr>\n",
       "    <tr>\n",
       "      <th>chemistry</th>\n",
       "      <td>34</td>\n",
       "      <td>110</td>\n",
       "      <td>0.236111</td>\n",
       "    </tr>\n",
       "    <tr>\n",
       "      <th>classics</th>\n",
       "      <td>4</td>\n",
       "      <td>0</td>\n",
       "      <td>1.000000</td>\n",
       "    </tr>\n",
       "    <tr>\n",
       "      <th>communicat</th>\n",
       "      <td>5</td>\n",
       "      <td>10</td>\n",
       "      <td>0.333333</td>\n",
       "    </tr>\n",
       "  </tbody>\n",
       "</table>\n",
       "</div>"
      ],
      "text/plain": [
       "            yes   no  acceptance_rate\n",
       "department                           \n",
       "anthropol    21   41         0.338710\n",
       "astronomy     3    8         0.272727\n",
       "chemistry    34  110         0.236111\n",
       "classics      4    0         1.000000\n",
       "communicat    5   10         0.333333"
      ]
     },
     "execution_count": 8,
     "metadata": {},
     "output_type": "execute_result"
    }
   ],
   "source": [
    "# Answer 4 This exact scenario was covered in the first section of the recent DataCamp course on data manipulation.\n",
    "df_simplified['acceptance_rate'] = df_simplified['yes'] / (df_simplified['yes'] + df_simplified['no'])\n",
    "df_simplified.head()"
   ]
  },
  {
   "cell_type": "markdown",
   "metadata": {},
   "source": [
    "### Question 5\n",
    "\n",
    "Using `df_simplified`, graph the acceptance rates for each department in a bar chart."
   ]
  },
  {
   "cell_type": "code",
   "execution_count": 9,
   "metadata": {},
   "outputs": [
    {
     "data": {
      "text/plain": [
       "<AxesSubplot:xlabel='department'>"
      ]
     },
     "execution_count": 9,
     "metadata": {},
     "output_type": "execute_result"
    },
    {
     "data": {
      "image/png": "[encoded data removed]",
      "text/plain": [
       "<Figure size 864x504 with 1 Axes>"
      ]
     },
     "execution_count": 9,
     "metadata": {
      "image/png": {
       "height": 481,
       "width": 706
      },
      "needs_background": "light"
     },
     "output_type": "execute_result"
    }
   ],
   "source": [
    "# Answer 5 Multiple possibilities would be accepted here, the main idea is to visualize the data\n",
    "df_simplified.acceptance_rate.plot(kind='bar')"
   ]
  },
  {
   "cell_type": "markdown",
   "metadata": {},
   "source": [
    "### Question 6\n",
    "\n",
    "Suppose you had a 52 card deck. The deck has 13 different card numbers and 4 different suits. Create a list of tuples, where each tuple is one card. Name the list `cards`.\n",
    " - I don't care what you call the 13 cards. You can use real names like \"two\" and \"Ace\", or you can use the numbers zero through 13.\n",
    " - I don't care what you call the suits.\n",
    " - The important thing is that you create a list named `cards`, and it has tuples that you can distinguish from one another."
   ]
  },
  {
   "cell_type": "code",
   "execution_count": 10,
   "metadata": {},
   "outputs": [
    {
     "name": "stdout",
     "output_type": "stream",
     "text": [
      "[(1, 'hearts'), (1, 'diamonds'), (1, 'clubs'), (1, 'spades'), (2, 'hearts'), (2, 'diamonds'), (2, 'clubs'), (2, 'spades'), (3, 'hearts'), (3, 'diamonds'), (3, 'clubs'), (3, 'spades'), (4, 'hearts'), (4, 'diamonds'), (4, 'clubs'), (4, 'spades'), (5, 'hearts'), (5, 'diamonds'), (5, 'clubs'), (5, 'spades'), (6, 'hearts'), (6, 'diamonds'), (6, 'clubs'), (6, 'spades'), (7, 'hearts'), (7, 'diamonds'), (7, 'clubs'), (7, 'spades'), (8, 'hearts'), (8, 'diamonds'), (8, 'clubs'), (8, 'spades'), (9, 'hearts'), (9, 'diamonds'), (9, 'clubs'), (9, 'spades'), (10, 'hearts'), (10, 'diamonds'), (10, 'clubs'), (10, 'spades'), (11, 'hearts'), (11, 'diamonds'), (11, 'clubs'), (11, 'spades'), (12, 'hearts'), (12, 'diamonds'), (12, 'clubs'), (12, 'spades'), (13, 'hearts'), (13, 'diamonds'), (13, 'clubs'), (13, 'spades')]\n"
     ]
    }
   ],
   "source": [
    "# Answer 6: Option 1 Using itertools\n",
    "import itertools\n",
    "\n",
    "card_numbers = range(1, 14)\n",
    "suits = ['hearts', 'diamonds', 'clubs', 'spades']\n",
    "cards = list(itertools.product(card_numbers, suits))\n",
    "print(cards)"
   ]
  },
  {
   "cell_type": "code",
   "execution_count": 11,
   "metadata": {},
   "outputs": [
    {
     "name": "stdout",
     "output_type": "stream",
     "text": [
      "[(1, 'hearts'), (1, 'diamonds'), (1, 'clubs'), (1, 'spades'), (2, 'hearts'), (2, 'diamonds'), (2, 'clubs'), (2, 'spades'), (3, 'hearts'), (3, 'diamonds'), (3, 'clubs'), (3, 'spades'), (4, 'hearts'), (4, 'diamonds'), (4, 'clubs'), (4, 'spades'), (5, 'hearts'), (5, 'diamonds'), (5, 'clubs'), (5, 'spades'), (6, 'hearts'), (6, 'diamonds'), (6, 'clubs'), (6, 'spades'), (7, 'hearts'), (7, 'diamonds'), (7, 'clubs'), (7, 'spades'), (8, 'hearts'), (8, 'diamonds'), (8, 'clubs'), (8, 'spades'), (9, 'hearts'), (9, 'diamonds'), (9, 'clubs'), (9, 'spades'), (10, 'hearts'), (10, 'diamonds'), (10, 'clubs'), (10, 'spades'), (11, 'hearts'), (11, 'diamonds'), (11, 'clubs'), (11, 'spades'), (12, 'hearts'), (12, 'diamonds'), (12, 'clubs'), (12, 'spades'), (13, 'hearts'), (13, 'diamonds'), (13, 'clubs'), (13, 'spades')]\n"
     ]
    }
   ],
   "source": [
    "# Answer 6: Option 2 Using a nested for loop\n",
    "card_numbers = range(1, 14)\n",
    "suits = ['hearts', 'diamonds', 'clubs', 'spades']\n",
    "cards = []\n",
    "for num in card_numbers:\n",
    "    for suit in suits:\n",
    "        card = num, suit # or card = (num, suit)\n",
    "        cards.append(card)\n",
    "print(cards)"
   ]
  },
  {
   "cell_type": "markdown",
   "metadata": {},
   "source": [
    "### Question 7\n",
    "\n",
    "Create a list named `triplets` of all the ways you can select 3 cards. How many triplets are there?"
   ]
  },
  {
   "cell_type": "code",
   "execution_count": 12,
   "metadata": {},
   "outputs": [
    {
     "name": "stdout",
     "output_type": "stream",
     "text": [
      "((1, 'hearts'), (1, 'diamonds'), (1, 'clubs'))\n",
      "((1, 'hearts'), (1, 'diamonds'), (1, 'spades'))\n",
      "((1, 'hearts'), (1, 'diamonds'), (2, 'hearts'))\n",
      "((1, 'hearts'), (1, 'diamonds'), (2, 'diamonds'))\n",
      "((1, 'hearts'), (1, 'diamonds'), (2, 'clubs'))\n",
      "There are 22100 triplets.\n"
     ]
    }
   ],
   "source": [
    "# Answer 7 Option 1 Here we use combinations. And while this is possible with some \n",
    "# for loops, that would be unreasonable for me to expect you to write that during the midterm.\n",
    "import itertools\n",
    "triplets = list(itertools.combinations(cards, r=3))\n",
    "num_triplets = len(triplets)\n",
    "print(*triplets[:5], sep='\\n')\n",
    "print(\"There are\", num_triplets, \"triplets.\")"
   ]
  },
  {
   "cell_type": "markdown",
   "metadata": {},
   "source": [
    "### Question 8\n",
    "\n",
    "Pretend that you have a sample space made up of all the triplets and they are all equally likely. Come up with an example of a random variable using this sample space."
   ]
  },
  {
   "cell_type": "markdown",
   "metadata": {},
   "source": [
    "A random variable is a function mapping from the sample space of triplets (there are 22,100 of them), to the set of continuous numbers.\n",
    "\n",
    "The random variable I am making up works like this:\n",
    " 1. If there are exactly two diamonds and one heart in a triplet, it's worth 10.\n",
    " 2. If there is at least 1 card with number 1, it's worth 1.\n",
    " 3. Anything else is worth 0.\n",
    " 4. If conditions 1 and 2 are satisfied, it's worth -1000."
   ]
  },
  {
   "cell_type": "markdown",
   "metadata": {},
   "source": [
    "## Bonus\n",
    "\n",
    "Yes, the above is indeed a function and I intentionally made it sort of complicated but that is not necessary at all for this problem. What's important is that the computation of the function's output is unambiguous. Below, I've written a function named `score` that takes one triplet as an argument and returns the value provided by the random variable.\n",
    " - This function is your random variable."
   ]
  },
  {
   "cell_type": "code",
   "execution_count": 16,
   "metadata": {},
   "outputs": [],
   "source": [
    "def score(triplet):\n",
    "    num_diamonds, num_hearts = 0, 0\n",
    "    is_ace = False\n",
    "    for num, suit in triplet:\n",
    "        if suit == 'diamonds':\n",
    "            num_diamonds += 1\n",
    "        elif suit == 'hearts':\n",
    "            num_hearts += 1\n",
    "        if num == 1:\n",
    "            is_ace = True\n",
    "    cond_2 = is_ace\n",
    "    cond_1 = True if num_diamonds == 2 and num_hearts == 1 else False\n",
    "    if cond_1 and not cond_2:\n",
    "        return 10\n",
    "    if cond_2 and not cond_1:\n",
    "        return 1\n",
    "    if cond_1 and cond_2:\n",
    "        return -1000\n",
    "    else:\n",
    "        return 0"
   ]
  },
  {
   "cell_type": "code",
   "execution_count": 17,
   "metadata": {},
   "outputs": [
    {
     "data": {
      "text/plain": [
       "-1000"
      ]
     },
     "execution_count": 17,
     "metadata": {},
     "output_type": "execute_result"
    }
   ],
   "source": [
    "score(((1, 'hearts'), (1, 'diamonds'), (2, 'diamonds')))"
   ]
  },
  {
   "cell_type": "code",
   "execution_count": 18,
   "metadata": {},
   "outputs": [
    {
     "data": {
      "text/plain": [
       "1"
      ]
     },
     "execution_count": 18,
     "metadata": {},
     "output_type": "execute_result"
    }
   ],
   "source": [
    "score(((1, 'diamonds'), (1, 'diamonds'), (2, 'diamonds')))"
   ]
  },
  {
   "cell_type": "code",
   "execution_count": 19,
   "metadata": {},
   "outputs": [
    {
     "data": {
      "text/plain": [
       "0"
      ]
     },
     "execution_count": 19,
     "metadata": {},
     "output_type": "execute_result"
    }
   ],
   "source": [
    "score(((10, 'diamonds'), (4, 'diamonds'), (2, 'clubs')))"
   ]
  },
  {
   "cell_type": "code",
   "execution_count": 20,
   "metadata": {},
   "outputs": [
    {
     "data": {
      "text/plain": [
       "10"
      ]
     },
     "execution_count": 20,
     "metadata": {},
     "output_type": "execute_result"
    }
   ],
   "source": [
    "score(((7, 'hearts'), (9, 'diamonds'), (2, 'diamonds')))"
   ]
  }
 ],
 "metadata": {
  "kernelspec": {
   "display_name": "Python 3 (ipykernel)",
   "language": "python",
   "name": "python3"
  },
  "language_info": {
   "codemirror_mode": {
    "name": "ipython",
    "version": 3
   },
   "file_extension": ".py",
   "mimetype": "text/x-python",
   "name": "python",
   "nbconvert_exporter": "python",
   "pygments_lexer": "ipython3",
   "version": "3.10.1"
  }
 },
 "nbformat": 4,
 "nbformat_minor": 4
}
