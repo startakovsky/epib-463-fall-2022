{
 "cells": [
  {
   "cell_type": "markdown",
   "metadata": {
    "collapsed": false
   },
   "source": [
    "# Welcome to coding beyond Datacamp."
   ]
  },
  {
   "cell_type": "markdown",
   "metadata": {
    "collapsed": false
   },
   "source": [
    "I have considered future DataCamp courses this semester, but for now, let's see how you do outside of DataCamp.\n",
    "\n"
   ]
  },
  {
   "cell_type": "markdown",
   "metadata": {
    "collapsed": false
   },
   "source": [
    "## You will write answers to questions here.\n",
    "\n",
    "I will put specific questions or tasks **bold** when writing our notebooks.\n",
    "\n"
   ]
  },
  {
   "cell_type": "markdown",
   "metadata": {
    "collapsed": false
   },
   "source": [
    "## Usage\n",
    "\n",
    "To **evaluate a cell**, select the input cell (click on it, or put the cursor inside of it), and either press the play-button in the button row or press the `Shift`+`Return` keys.\n",
    "Usually, you should be able to go through a full notebook by pressing `Shift`+`Return` for evaluating one cell after another."
   ]
  },
  {
   "cell_type": "markdown",
   "metadata": {
    "collapsed": false
   },
   "source": [
    "## This is a Jupyter Notebook – `*.ipynb`\n",
    "\n",
    "[Jupyter Notebooks](http://jupyter.org/) are an emerging format for sharing scientific calculations in a standardized document.\n",
    "It is made up of a list of input-cells (usually containing code) and corresponding output cells (containing text and/or graphics).\n",
    "There are also \"Markdown\" cells, like the one you're reading right now, containing formatted text to explain the content.\n",
    "a\n",
    "\n"
   ]
  },
  {
   "cell_type": "markdown",
   "metadata": {
    "collapsed": false
   },
   "source": [
    "## CoCalc Jupyter Notebooks\n",
    "\n",
    "CoCalc's Jupyter notebooks are an enhanced version of the legacy implementation.\n",
    "In addition to the standard features, CoCalc offer concurrent editing \\(Google Docs style\\), integrated chat, detailed revision history, and a faster more scalable interface.\n"
   ]
  },
  {
   "cell_type": "markdown",
   "metadata": {
    "collapsed": false
   },
   "source": [
    "# Exercises"
   ]
  },
  {
   "cell_type": "markdown",
   "metadata": {
    "collapsed": false
   },
   "source": [
    "## 1. Basics"
   ]
  },
  {
   "cell_type": "markdown",
   "metadata": {
    "collapsed": false
   },
   "source": [
    "**1.1 Exercise:** Create a markdown cell below this one and put your name in it. There should be a button with a \"+\" on it to create a cell. It may not be a markdown cell however, you'll need to convert it."
   ]
  },
  {
   "cell_type": "markdown",
   "metadata": {
    "collapsed": false
   },
   "source": [
    "**1.2 Exercise:** Create a code cell below this one and evaluate what is 300 divided by 4.2. Converting a cell between markdown and code should be straightfoward. One way to do it is with the help of the _Cell_ menu."
   ]
  },
  {
   "cell_type": "markdown",
   "metadata": {
    "collapsed": false
   },
   "source": [
    "**1.3 Exercise**: Determine what Python version you're running by creating a new cell and typing the code here in that cell and evaluating the cell.\n",
    "```python\n",
    "import sys\n",
    "sys.version\n",
    "```"
   ]
  },
  {
   "cell_type": "markdown",
   "metadata": {
    "collapsed": false
   },
   "source": [
    "**1.3 Exercise:** There is a file _students.csv_ located in the same directory as this notebook. Load it as a pandas dataframe and assign the dataframe to the variable `students_df`. (Create a new cell below this one. Creating at least one cell is what is required for each exercise in this notebook, but sometimes I will help by creating a cell.)"
   ]
  },
  {
   "cell_type": "markdown",
   "metadata": {
    "collapsed": false
   },
   "source": [
    "**1.4 Exercise:** Create a list `sorted_names` that contains just the first names of the students, sorted in alphabetical order. Hint: Start with an empty list named `sorted_names` and iterate through the dataframe, extracting the first names of each student. A _first name_ is considered the name of the student until the space occurs, not including the space."
   ]
  },
  {
   "cell_type": "markdown",
   "metadata": {
    "collapsed": false
   },
   "source": [
    "**1.5 Exercise:** Create a new variable named `sorted_names_abridged` which contains only the first 5 names alphabetically."
   ]
  },
  {
   "cell_type": "markdown",
   "metadata": {
    "collapsed": false
   },
   "source": [
    "**1.6 Exercise:** Create a function named `get_first_n_names` that takes two _arguments_: `num_names` a positive integer, and a sorted list of names."
   ]
  },
  {
   "cell_type": "code",
   "execution_count": 0,
   "metadata": {
    "collapsed": false
   },
   "outputs": [
   ],
   "source": [
    "def get_first_n_names(num_names, sorted_list_of_names):\n",
    "    # Replace \"pass\" below with the appropriate code that returns the first `num_names` names from `sorted_list_of_names`\n",
    "    pass"
   ]
  },
  {
   "cell_type": "markdown",
   "metadata": {
    "collapsed": false
   },
   "source": [
    "**1.7 Exercise:** Use `get_first_n_names` to test different numbers for `num_names`. In fact, I have done it for you below, just uncomment my `print` statements. So if your function is correct, then you will see a few different lists printed out of varying lengths."
   ]
  },
  {
   "cell_type": "code",
   "execution_count": 0,
   "metadata": {
    "collapsed": false
   },
   "outputs": [
   ],
   "source": [
    "# print(\"4 names: \", get_first_n_names(5, sorted_names))\n",
    "# print(\"8 names: \", get_first_n_names(5, sorted_names))"
   ]
  },
  {
   "cell_type": "markdown",
   "metadata": {
    "collapsed": false
   },
   "source": [
    "## 2. Medium Hard Problem\n",
    "\n",
    "> I spoke about this at the end of class on Monday. Imagine you want to determine all of the possible ways to separate everyone into breakout rooms of two people. Write some code to try to make headway on this problem."
   ]
  },
  {
   "cell_type": "markdown",
   "metadata": {
    "collapsed": false
   },
   "source": [
    "**2.1 Exercise:** Generate a list of tuples, where each tuple is of length 1, containing every name from `sorted_names`."
   ]
  },
  {
   "cell_type": "markdown",
   "metadata": {
    "collapsed": false
   },
   "source": [
    "**2.2 Exercise:** Print a list of tuples, where each tuple is of length 2, containing two names from the above list. We want to put every single possible pair, without duplicates, in this list. (In my opinion, this is the most logically taxing problem of this assignment.)"
   ]
  },
  {
   "cell_type": "markdown",
   "metadata": {
    "collapsed": false
   },
   "source": [
    "**2.3 Exercise:** Try to do the same as the previous exercise but this time read the [itertools page](https://docs.python.org/3/library/itertools.html) (hint: are these permutations?). It should be much easier to solve the previous exercise with the help of something from the web page I just gave you. You are not allowed to use `itertools` in the last question."
   ]
  },
  {
   "cell_type": "markdown",
   "metadata": {
    "collapsed": false
   },
   "source": [
    "**2.4 Exercise:** Hopefully the previous two answers gave the same answer. Do a spot check and see if the number of pairs generated by your answer and the answer given by using the appropriate `itertools` function are the same."
   ]
  },
  {
   "cell_type": "markdown",
   "metadata": {
    "collapsed": false
   },
   "source": [
    "## 3. Random Module and Counting"
   ]
  },
  {
   "cell_type": "markdown",
   "metadata": {
    "collapsed": false
   },
   "source": [
    "**3.1 Exercise:** Read about the `random` module [here](https://docs.python.org/3.7/library/random.html) and skim the page to read about random choice (i.e. find \"choice\" in the web page). Create a markdown cell and describe in your own words what `random.choice` does."
   ]
  },
  {
   "cell_type": "markdown",
   "metadata": {
    "collapsed": false
   },
   "source": [
    "**3.2 Exercise:** Use the `random` module to randomly choose one of the first five names, alphabetically, and print that name. Use the function `get_first_n_names` to create a variable `sorted_first_five_names`."
   ]
  },
  {
   "cell_type": "markdown",
   "metadata": {
    "collapsed": false
   },
   "source": [
    "**3.3 Exercise:** Now use the random module to randomly generate a list `named list_of_random_duplicates` of length 100,000."
   ]
  },
  {
   "cell_type": "markdown",
   "metadata": {
    "collapsed": false
   },
   "source": [
    "**3.4 Exercise**: Generate a `dict` named `name_counts` where the _keys_ are the names and the _values_ are the number of times the name appears in the list."
   ]
  },
  {
   "cell_type": "markdown",
   "metadata": {
    "collapsed": false
   },
   "source": [
    "**3.5 Exercise**: Now read about [Counters](https://docs.python.org/3/library/collections.html#collections.Counter) to repeat the last exercise."
   ]
  }
 ],
 "metadata": {
  "kernelspec": {
   "display_name": "Python 3 (system-wide)",
   "language": "python",
   "metadata": {
    "cocalc": {
     "description": "Python 3 programming language",
     "priority": 100,
     "url": "https://www.python.org/"
    }
   },
   "name": "python3",
   "resource_dir": "/ext/jupyter/kernels/python3"
  },
  "language_info": {
   "codemirror_mode": {
    "name": "ipython",
    "version": 3
   },
   "file_extension": ".py",
   "mimetype": "text/x-python",
   "name": "python",
   "nbconvert_exporter": "python",
   "pygments_lexer": "ipython3",
   "version": "3.8.10"
  }
 },
 "nbformat": 4,
 "nbformat_minor": 4
}