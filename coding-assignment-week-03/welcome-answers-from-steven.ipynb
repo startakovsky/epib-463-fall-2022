{
 "cells": [
  {
   "cell_type": "markdown",
   "metadata": {
    "collapsed": false
   },
   "source": [
    "# Welcome to coding beyond Datacamp."
   ]
  },
  {
   "cell_type": "markdown",
   "metadata": {
    "collapsed": false
   },
   "source": [
    "I have considered future DataCamp courses this semester, but for now, let's see how you do outside of DataCamp.\n",
    "\n"
   ]
  },
  {
   "cell_type": "markdown",
   "metadata": {
    "collapsed": false
   },
   "source": [
    "## You will write answers to questions here.\n",
    "\n",
    "I will put specific questions or tasks **bold** when writing our notebooks.\n",
    "\n"
   ]
  },
  {
   "cell_type": "markdown",
   "metadata": {
    "collapsed": false
   },
   "source": [
    "## Usage\n",
    "\n",
    "To **evaluate a cell**, select the input cell (click on it, or put the cursor inside of it), and either press the play-button in the button row or press the `Shift`+`Return` keys.\n",
    "Usually, you should be able to go through a full notebook by pressing `Shift`+`Return` for evaluating one cell after another."
   ]
  },
  {
   "cell_type": "markdown",
   "metadata": {
    "collapsed": false
   },
   "source": [
    "## This is a Jupyter Notebook – `*.ipynb`\n",
    "\n",
    "[Jupyter Notebooks](http://jupyter.org/) are an emerging format for sharing scientific calculations in a standardized document.\n",
    "It is made up of a list of input-cells (usually containing code) and corresponding output cells (containing text and/or graphics).\n",
    "There are also \"Markdown\" cells, like the one you're reading right now, containing formatted text to explain the content.\n",
    "a\n",
    "\n"
   ]
  },
  {
   "cell_type": "markdown",
   "metadata": {
    "collapsed": false
   },
   "source": [
    "## CoCalc Jupyter Notebooks\n",
    "\n",
    "CoCalc's Jupyter notebooks are an enhanced version of the legacy implementation.\n",
    "In addition to the standard features, CoCalc offer concurrent editing \\(Google Docs style\\), integrated chat, detailed revision history, and a faster more scalable interface.\n"
   ]
  },
  {
   "cell_type": "markdown",
   "metadata": {
    "collapsed": false
   },
   "source": [
    "# Exercises"
   ]
  },
  {
   "cell_type": "markdown",
   "metadata": {
    "collapsed": false
   },
   "source": [
    "## 1. Basics"
   ]
  },
  {
   "cell_type": "markdown",
   "metadata": {
    "collapsed": false
   },
   "source": [
    "**1.1 Exercise:** Create a markdown cell below this one and put your name in it. There should be a button with a \"+\" on it to create a cell. It may not be a markdown cell however, you'll need to convert it."
   ]
  },
  {
   "cell_type": "markdown",
   "metadata": {
    "collapsed": false
   },
   "source": [
    "Steven Tartakovsky"
   ]
  },
  {
   "cell_type": "markdown",
   "metadata": {
    "collapsed": false
   },
   "source": [
    "**1.2 Exercise:** Create a code cell below this one and evaluate what is 300 divided by 4.2. Converting a cell between markdown and code should be straightfoward. One way to do it is with the help of the _Cell_ menu."
   ]
  },
  {
   "cell_type": "code",
   "execution_count": 1,
   "metadata": {
    "collapsed": false
   },
   "outputs": [
    {
     "data": {
      "text/plain": [
       "71.42857142857143"
      ]
     },
     "execution_count": 1,
     "metadata": {
     },
     "output_type": "execute_result"
    }
   ],
   "source": [
    "300/4.2"
   ]
  },
  {
   "cell_type": "markdown",
   "metadata": {
    "collapsed": false
   },
   "source": [
    "**1.3 Exercise**: Determine what Python version you're running by creating a new cell and typing the code here in that cell and evaluating the cell.\n",
    "```python\n",
    "import sys\n",
    "sys.version\n",
    "```"
   ]
  },
  {
   "cell_type": "code",
   "execution_count": 2,
   "metadata": {
    "collapsed": false
   },
   "outputs": [
    {
     "data": {
      "text/plain": [
       "'3.8.10 (default, Jun 22 2022, 20:18:18) \\n[GCC 9.4.0]'"
      ]
     },
     "execution_count": 2,
     "metadata": {
     },
     "output_type": "execute_result"
    }
   ],
   "source": [
    "import sys\n",
    "sys.version"
   ]
  },
  {
   "cell_type": "markdown",
   "metadata": {
    "collapsed": false
   },
   "source": [
    "**1.3 Exercise:** There is a file _students.csv_ located in the same directory as this notebook. Load it as a pandas dataframe and assign the dataframe to the variable `students_df`. (Create a new cell below this one. Creating at least one cell is what is required for each exercise in this notebook, but sometimes I will help by creating a cell.)"
   ]
  },
  {
   "cell_type": "code",
   "execution_count": 3,
   "metadata": {
    "collapsed": false
   },
   "outputs": [
    {
     "data": {
      "text/html": [
       "<div>\n",
       "<style scoped>\n",
       "    .dataframe tbody tr th:only-of-type {\n",
       "        vertical-align: middle;\n",
       "    }\n",
       "\n",
       "    .dataframe tbody tr th {\n",
       "        vertical-align: top;\n",
       "    }\n",
       "\n",
       "    .dataframe thead th {\n",
       "        text-align: right;\n",
       "    }\n",
       "</style>\n",
       "<table border=\"1\" class=\"dataframe\">\n",
       "  <thead>\n",
       "    <tr style=\"text-align: right;\">\n",
       "      <th></th>\n",
       "      <th>full_name</th>\n",
       "    </tr>\n",
       "  </thead>\n",
       "  <tbody>\n",
       "    <tr>\n",
       "      <th>0</th>\n",
       "      <td>Michael Ferguson</td>\n",
       "    </tr>\n",
       "    <tr>\n",
       "      <th>1</th>\n",
       "      <td>Kyrone De Los Santos</td>\n",
       "    </tr>\n",
       "    <tr>\n",
       "      <th>2</th>\n",
       "      <td>Abenezer Tadesse</td>\n",
       "    </tr>\n",
       "    <tr>\n",
       "      <th>3</th>\n",
       "      <td>Brian Rhim</td>\n",
       "    </tr>\n",
       "    <tr>\n",
       "      <th>4</th>\n",
       "      <td>Alan Zhang</td>\n",
       "    </tr>\n",
       "  </tbody>\n",
       "</table>\n",
       "</div>"
      ],
      "text/plain": [
       "              full_name\n",
       "0      Michael Ferguson\n",
       "1  Kyrone De Los Santos\n",
       "2      Abenezer Tadesse\n",
       "3            Brian Rhim\n",
       "4            Alan Zhang"
      ]
     },
     "execution_count": 3,
     "metadata": {
     },
     "output_type": "execute_result"
    }
   ],
   "source": [
    "import pandas as pd\n",
    "students_df = pd.read_csv('students.csv')\n",
    "students_df.head()"
   ]
  },
  {
   "cell_type": "markdown",
   "metadata": {
    "collapsed": false
   },
   "source": [
    "**1.4 Exercise:** Create a list `sorted_names` that contains just the first names of the students, sorted in alphabetical order. Hint: Start with an empty list named `sorted_names` and iterate through the dataframe, extracting the first names of each student. A _first name_ is considered the name of the student until the space occurs, not including the space."
   ]
  },
  {
   "cell_type": "code",
   "execution_count": 12,
   "metadata": {
    "collapsed": false
   },
   "outputs": [
    {
     "name": "stdout",
     "output_type": "stream",
     "text": [
      "['Abenezer', 'Alan', 'Alexander', 'Brian', 'Chukwuemeka', 'Emily', 'Hillary', 'Isabella', 'Jacob', 'Jalen', 'Janet', 'Kelsey', 'Kristen', 'Kyrone', 'Maximiliano', 'Michael', 'Mitchell', 'Noela', 'Olivia', 'Rabia', 'Ruth', 'Sonia', 'Zachary']\n"
     ]
    }
   ],
   "source": [
    "#create an empty list\n",
    "first_names = []\n",
    "for full_name in students_df.full_name:\n",
    "    split_name = full_name.split()\n",
    "    first_name = split_name[0]\n",
    "    first_names.append(first_name)\n",
    "\n",
    "sorted_names = sorted(first_names)\n",
    "print(sorted_names)"
   ]
  },
  {
   "cell_type": "markdown",
   "metadata": {
    "collapsed": false
   },
   "source": [
    "**1.5 Exercise:** Create a new variable named `sorted_names_abridged` which contains only the first 5 names alphabetically."
   ]
  },
  {
   "cell_type": "code",
   "execution_count": 14,
   "metadata": {
    "collapsed": false
   },
   "outputs": [
   ],
   "source": [
    "sorted_names_abridged = sorted_names[:5]"
   ]
  },
  {
   "cell_type": "markdown",
   "metadata": {
    "collapsed": false
   },
   "source": [
    "**1.6 Exercise:** Create a function named `get_first_n_names` that takes two _arguments_: `num_names` a positive integer, and a sorted list of names."
   ]
  },
  {
   "cell_type": "code",
   "execution_count": 15,
   "metadata": {
    "collapsed": false
   },
   "outputs": [
   ],
   "source": [
    "def get_first_n_names(num_names, sorted_list_of_names):\n",
    "    # Replace \"pass\" below with the appropriate code that returns the first `num_names` names from `sorted_list_of_names`\n",
    "    return sorted_list_of_names[:num_names]"
   ]
  },
  {
   "cell_type": "markdown",
   "metadata": {
    "collapsed": false
   },
   "source": [
    "**1.7 Exercise:** Use `get_first_n_names` to test different numbers for `num_names`. In fact, I have done it for you below, just uncomment my `print` statements. So if your function is correct, then you will see a few different lists printed out of varying lengths."
   ]
  },
  {
   "cell_type": "code",
   "execution_count": 17,
   "metadata": {
    "collapsed": false
   },
   "outputs": [
    {
     "name": "stdout",
     "output_type": "stream",
     "text": [
      "4 names:  ['Abenezer', 'Alan', 'Alexander', 'Brian']\n",
      "8 names:  ['Abenezer', 'Alan', 'Alexander', 'Brian', 'Chukwuemeka', 'Emily', 'Hillary', 'Isabella']\n"
     ]
    }
   ],
   "source": [
    "print(\"4 names: \", get_first_n_names(4, sorted_names))\n",
    "print(\"8 names: \", get_first_n_names(8, sorted_names))"
   ]
  },
  {
   "cell_type": "markdown",
   "metadata": {
    "collapsed": false
   },
   "source": [
    "## 2. Medium Hard Problem\n",
    "\n",
    "> I spoke about this at the end of class on Monday. Imagine you want to determine all of the possible ways to separate everyone into breakout rooms of two people. Write some code to try to make headway on this problem."
   ]
  },
  {
   "cell_type": "markdown",
   "metadata": {
    "collapsed": false
   },
   "source": [
    "**2.1 Exercise:** Generate a list of tuples, where each tuple is of length 1, containing every name from `sorted_names`."
   ]
  },
  {
   "cell_type": "code",
   "execution_count": 27,
   "metadata": {
    "collapsed": false
   },
   "outputs": [
    {
     "name": "stdout",
     "output_type": "stream",
     "text": [
      "[('Abenezer',), ('Alan',), ('Alexander',), ('Brian',), ('Chukwuemeka',), ('Emily',), ('Hillary',), ('Isabella',), ('Jacob',), ('Jalen',), ('Janet',), ('Kelsey',), ('Kristen',), ('Kyrone',), ('Maximiliano',), ('Michael',), ('Mitchell',), ('Noela',), ('Olivia',), ('Rabia',), ('Ruth',), ('Sonia',), ('Zachary',)]\n"
     ]
    }
   ],
   "source": [
    "list_of_1_tuples = []\n",
    "for name in sorted_names:\n",
    "    name_tuple = (name, )\n",
    "    list_of_1_tuples.append(name_tuple)\n",
    "print(list_of_1_tuples)"
   ]
  },
  {
   "cell_type": "markdown",
   "metadata": {
    "collapsed": false
   },
   "source": [
    "**2.2 Exercise:** Print a list of tuples, where each tuple is of length 2, containing two names from the above list. We want to put every single possible pair, without duplicates, in this list. (In my opinion, this is the most logically taxing problem of this assignment.)"
   ]
  },
  {
   "cell_type": "code",
   "execution_count": 76,
   "metadata": {
    "collapsed": false
   },
   "outputs": [
    {
     "name": "stdout",
     "output_type": "stream",
     "text": [
      "['Abenezer', 'Alan', 'Alexander', 'Brian', 'Chukwuemeka', 'Emily', 'Hillary', 'Isabella', 'Jacob', 'Jalen', 'Janet', 'Kelsey', 'Kristen', 'Kyrone', 'Maximiliano', 'Michael', 'Mitchell', 'Noela', 'Olivia', 'Rabia', 'Ruth', 'Sonia', 'Zachary']\n"
     ]
    }
   ],
   "source": [
    "print(sorted_names)"
   ]
  },
  {
   "cell_type": "code",
   "execution_count": 85,
   "metadata": {
    "collapsed": false
   },
   "outputs": [
    {
     "name": "stdout",
     "output_type": "stream",
     "text": [
      "[('Abenezer', 'Alan'), ('Abenezer', 'Alexander'), ('Abenezer', 'Brian'), ('Abenezer', 'Chukwuemeka'), ('Abenezer', 'Emily'), ('Abenezer', 'Hillary'), ('Abenezer', 'Isabella'), ('Abenezer', 'Jacob'), ('Abenezer', 'Jalen'), ('Abenezer', 'Janet'), ('Abenezer', 'Kelsey'), ('Abenezer', 'Kristen'), ('Abenezer', 'Kyrone'), ('Abenezer', 'Maximiliano'), ('Abenezer', 'Michael'), ('Abenezer', 'Mitchell'), ('Abenezer', 'Noela'), ('Abenezer', 'Olivia'), ('Abenezer', 'Rabia'), ('Abenezer', 'Ruth'), ('Abenezer', 'Sonia'), ('Abenezer', 'Zachary'), ('Alan', 'Alexander'), ('Alan', 'Brian'), ('Alan', 'Chukwuemeka'), ('Alan', 'Emily'), ('Alan', 'Hillary'), ('Alan', 'Isabella'), ('Alan', 'Jacob'), ('Alan', 'Jalen'), ('Alan', 'Janet'), ('Alan', 'Kelsey'), ('Alan', 'Kristen'), ('Alan', 'Kyrone'), ('Alan', 'Maximiliano'), ('Alan', 'Michael'), ('Alan', 'Mitchell'), ('Alan', 'Noela'), ('Alan', 'Olivia'), ('Alan', 'Rabia'), ('Alan', 'Ruth'), ('Alan', 'Sonia'), ('Alan', 'Zachary'), ('Alexander', 'Brian'), ('Alexander', 'Chukwuemeka'), ('Alexander', 'Emily'), ('Alexander', 'Hillary'), ('Alexander', 'Isabella'), ('Alexander', 'Jacob'), ('Alexander', 'Jalen'), ('Alexander', 'Janet'), ('Alexander', 'Kelsey'), ('Alexander', 'Kristen'), ('Alexander', 'Kyrone'), ('Alexander', 'Maximiliano'), ('Alexander', 'Michael'), ('Alexander', 'Mitchell'), ('Alexander', 'Noela'), ('Alexander', 'Olivia'), ('Alexander', 'Rabia'), ('Alexander', 'Ruth'), ('Alexander', 'Sonia'), ('Alexander', 'Zachary'), ('Brian', 'Chukwuemeka'), ('Brian', 'Emily'), ('Brian', 'Hillary'), ('Brian', 'Isabella'), ('Brian', 'Jacob'), ('Brian', 'Jalen'), ('Brian', 'Janet'), ('Brian', 'Kelsey'), ('Brian', 'Kristen'), ('Brian', 'Kyrone'), ('Brian', 'Maximiliano'), ('Brian', 'Michael'), ('Brian', 'Mitchell'), ('Brian', 'Noela'), ('Brian', 'Olivia'), ('Brian', 'Rabia'), ('Brian', 'Ruth'), ('Brian', 'Sonia'), ('Brian', 'Zachary'), ('Chukwuemeka', 'Emily'), ('Chukwuemeka', 'Hillary'), ('Chukwuemeka', 'Isabella'), ('Chukwuemeka', 'Jacob'), ('Chukwuemeka', 'Jalen'), ('Chukwuemeka', 'Janet'), ('Chukwuemeka', 'Kelsey'), ('Chukwuemeka', 'Kristen'), ('Chukwuemeka', 'Kyrone'), ('Chukwuemeka', 'Maximiliano'), ('Chukwuemeka', 'Michael'), ('Chukwuemeka', 'Mitchell'), ('Chukwuemeka', 'Noela'), ('Chukwuemeka', 'Olivia'), ('Chukwuemeka', 'Rabia'), ('Chukwuemeka', 'Ruth'), ('Chukwuemeka', 'Sonia'), ('Chukwuemeka', 'Zachary'), ('Emily', 'Hillary'), ('Emily', 'Isabella'), ('Emily', 'Jacob'), ('Emily', 'Jalen'), ('Emily', 'Janet'), ('Emily', 'Kelsey'), ('Emily', 'Kristen'), ('Emily', 'Kyrone'), ('Emily', 'Maximiliano'), ('Emily', 'Michael'), ('Emily', 'Mitchell'), ('Emily', 'Noela'), ('Emily', 'Olivia'), ('Emily', 'Rabia'), ('Emily', 'Ruth'), ('Emily', 'Sonia'), ('Emily', 'Zachary'), ('Hillary', 'Isabella'), ('Hillary', 'Jacob'), ('Hillary', 'Jalen'), ('Hillary', 'Janet'), ('Hillary', 'Kelsey'), ('Hillary', 'Kristen'), ('Hillary', 'Kyrone'), ('Hillary', 'Maximiliano'), ('Hillary', 'Michael'), ('Hillary', 'Mitchell'), ('Hillary', 'Noela'), ('Hillary', 'Olivia'), ('Hillary', 'Rabia'), ('Hillary', 'Ruth'), ('Hillary', 'Sonia'), ('Hillary', 'Zachary'), ('Isabella', 'Jacob'), ('Isabella', 'Jalen'), ('Isabella', 'Janet'), ('Isabella', 'Kelsey'), ('Isabella', 'Kristen'), ('Isabella', 'Kyrone'), ('Isabella', 'Maximiliano'), ('Isabella', 'Michael'), ('Isabella', 'Mitchell'), ('Isabella', 'Noela'), ('Isabella', 'Olivia'), ('Isabella', 'Rabia'), ('Isabella', 'Ruth'), ('Isabella', 'Sonia'), ('Isabella', 'Zachary'), ('Jacob', 'Jalen'), ('Jacob', 'Janet'), ('Jacob', 'Kelsey'), ('Jacob', 'Kristen'), ('Jacob', 'Kyrone'), ('Jacob', 'Maximiliano'), ('Jacob', 'Michael'), ('Jacob', 'Mitchell'), ('Jacob', 'Noela'), ('Jacob', 'Olivia'), ('Jacob', 'Rabia'), ('Jacob', 'Ruth'), ('Jacob', 'Sonia'), ('Jacob', 'Zachary'), ('Jalen', 'Janet'), ('Jalen', 'Kelsey'), ('Jalen', 'Kristen'), ('Jalen', 'Kyrone'), ('Jalen', 'Maximiliano'), ('Jalen', 'Michael'), ('Jalen', 'Mitchell'), ('Jalen', 'Noela'), ('Jalen', 'Olivia'), ('Jalen', 'Rabia'), ('Jalen', 'Ruth'), ('Jalen', 'Sonia'), ('Jalen', 'Zachary'), ('Janet', 'Kelsey'), ('Janet', 'Kristen'), ('Janet', 'Kyrone'), ('Janet', 'Maximiliano'), ('Janet', 'Michael'), ('Janet', 'Mitchell'), ('Janet', 'Noela'), ('Janet', 'Olivia'), ('Janet', 'Rabia'), ('Janet', 'Ruth'), ('Janet', 'Sonia'), ('Janet', 'Zachary'), ('Kelsey', 'Kristen'), ('Kelsey', 'Kyrone'), ('Kelsey', 'Maximiliano'), ('Kelsey', 'Michael'), ('Kelsey', 'Mitchell'), ('Kelsey', 'Noela'), ('Kelsey', 'Olivia'), ('Kelsey', 'Rabia'), ('Kelsey', 'Ruth'), ('Kelsey', 'Sonia'), ('Kelsey', 'Zachary'), ('Kristen', 'Kyrone'), ('Kristen', 'Maximiliano'), ('Kristen', 'Michael'), ('Kristen', 'Mitchell'), ('Kristen', 'Noela'), ('Kristen', 'Olivia'), ('Kristen', 'Rabia'), ('Kristen', 'Ruth'), ('Kristen', 'Sonia'), ('Kristen', 'Zachary'), ('Kyrone', 'Maximiliano'), ('Kyrone', 'Michael'), ('Kyrone', 'Mitchell'), ('Kyrone', 'Noela'), ('Kyrone', 'Olivia'), ('Kyrone', 'Rabia'), ('Kyrone', 'Ruth'), ('Kyrone', 'Sonia'), ('Kyrone', 'Zachary'), ('Maximiliano', 'Michael'), ('Maximiliano', 'Mitchell'), ('Maximiliano', 'Noela'), ('Maximiliano', 'Olivia'), ('Maximiliano', 'Rabia'), ('Maximiliano', 'Ruth'), ('Maximiliano', 'Sonia'), ('Maximiliano', 'Zachary'), ('Michael', 'Mitchell'), ('Michael', 'Noela'), ('Michael', 'Olivia'), ('Michael', 'Rabia'), ('Michael', 'Ruth'), ('Michael', 'Sonia'), ('Michael', 'Zachary'), ('Mitchell', 'Noela'), ('Mitchell', 'Olivia'), ('Mitchell', 'Rabia'), ('Mitchell', 'Ruth'), ('Mitchell', 'Sonia'), ('Mitchell', 'Zachary'), ('Noela', 'Olivia'), ('Noela', 'Rabia'), ('Noela', 'Ruth'), ('Noela', 'Sonia'), ('Noela', 'Zachary'), ('Olivia', 'Rabia'), ('Olivia', 'Ruth'), ('Olivia', 'Sonia'), ('Olivia', 'Zachary'), ('Rabia', 'Ruth'), ('Rabia', 'Sonia'), ('Rabia', 'Zachary'), ('Ruth', 'Sonia'), ('Ruth', 'Zachary'), ('Sonia', 'Zachary')]\n"
     ]
    }
   ],
   "source": [
    "list_of_2_tuples = []\n",
    "for index, left_name in enumerate(sorted_names):\n",
    "    for right_name in sorted_names[index + 1:]:\n",
    "        list_of_2_tuples.append((left_name, right_name))\n",
    "print(list_of_2_tuples)"
   ]
  },
  {
   "cell_type": "markdown",
   "metadata": {
    "collapsed": false
   },
   "source": [
    "**2.3 Exercise:** Try to do the same as the previous exercise but this time read the [itertools page](https://docs.python.org/3/library/itertools.html) (hint: are these permutations?). It should be much easier to solve the previous exercise with the help of something from the web page I just gave you. You are not allowed to use `itertools` in the last question."
   ]
  },
  {
   "cell_type": "code",
   "execution_count": 89,
   "metadata": {
    "collapsed": false
   },
   "outputs": [
   ],
   "source": [
    "import itertools\n",
    "list_of_combinations_from_itertools = list(itertools.combinations(sorted_names, 2))"
   ]
  },
  {
   "cell_type": "markdown",
   "metadata": {
    "collapsed": false
   },
   "source": [
    "**2.4 Exercise:** Hopefully the previous two answers gave the same answer. Do a spot check and see if the number of pairs generated by your answer and the answer given by using the appropriate `itertools` function are the same."
   ]
  },
  {
   "cell_type": "code",
   "execution_count": 90,
   "metadata": {
    "collapsed": false
   },
   "outputs": [
    {
     "name": "stdout",
     "output_type": "stream",
     "text": [
      "from itertools: 253\n",
      "list we manually generated: 253\n"
     ]
    }
   ],
   "source": [
    "print('from itertools:', len(list_of_combinations_from_itertools))\n",
    "print('list we manually generated:', len(list_of_2_tuples))"
   ]
  },
  {
   "cell_type": "markdown",
   "metadata": {
    "collapsed": false
   },
   "source": [
    "## 3. Random Module and Counting"
   ]
  },
  {
   "cell_type": "markdown",
   "metadata": {
    "collapsed": false
   },
   "source": [
    "**3.1 Exercise:** Read about the `random` module [here](https://docs.python.org/3.7/library/random.html) and skim the page to read about random choice (i.e. find \"choice\" in the web page). Create a markdown cell and describe in your own words what `random.choice` does."
   ]
  },
  {
   "cell_type": "markdown",
   "metadata": {
    "collapsed": false
   },
   "source": [
    "`random` is a built-in module in the Python language. It has different functions to allow for some random/stochastic functions. `choice` is a function in the `random` module that allows one to select a _random_ item from a sequence."
   ]
  },
  {
   "cell_type": "markdown",
   "metadata": {
    "collapsed": false
   },
   "source": [
    "**3.2 Exercise:** Use the `random` module to randomly choose one of the first five names, alphabetically, and print that name. Use the function `get_first_n_names` to create a variable `sorted_first_five_names`."
   ]
  },
  {
   "cell_type": "code",
   "execution_count": 28,
   "metadata": {
    "collapsed": false
   },
   "outputs": [
    {
     "name": "stdout",
     "output_type": "stream",
     "text": [
      "['Abenezer', 'Alan', 'Alexander', 'Brian', 'Chukwuemeka']\n"
     ]
    }
   ],
   "source": [
    "sorted_first_five_names = get_first_n_names(5, sorted_names)\n",
    "print(sorted_first_five_names)"
   ]
  },
  {
   "cell_type": "code",
   "execution_count": 30,
   "metadata": {
    "collapsed": false
   },
   "outputs": [
    {
     "data": {
      "text/plain": [
       "'Chukwuemeka'"
      ]
     },
     "execution_count": 30,
     "metadata": {
     },
     "output_type": "execute_result"
    }
   ],
   "source": [
    "import random\n",
    "\n",
    "random.choice(sorted_first_five_names)"
   ]
  },
  {
   "cell_type": "markdown",
   "metadata": {
    "collapsed": false
   },
   "source": [
    "**3.3 Exercise:** Now use the random module to randomly generate a list `named list_of_random_duplicates` of length 100,000."
   ]
  },
  {
   "cell_type": "code",
   "execution_count": 53,
   "metadata": {
    "collapsed": false
   },
   "outputs": [
   ],
   "source": [
    "list_of_random_duplicates = [] # optionally list()\n",
    "for _ in range(100000):\n",
    "    random_name = random.choice(sorted_first_five_names)\n",
    "    list_of_random_duplicates.append(random_name)"
   ]
  },
  {
   "cell_type": "markdown",
   "metadata": {
    "collapsed": false
   },
   "source": [
    "**3.4 Exercise**: Generate a `dict` named `name_counts` where the _keys_ are the names and the _values_ are the number of times the name appears in the list."
   ]
  },
  {
   "cell_type": "code",
   "execution_count": 58,
   "metadata": {
    "collapsed": false
   },
   "outputs": [
   ],
   "source": [
    "name_counts = {} # optionally dict()\n",
    "for name in list_of_random_duplicates:\n",
    "    if name in name_counts:\n",
    "        name_counts[name] = name_counts[name] + 1\n",
    "    else:\n",
    "        name_counts[name] = 1"
   ]
  },
  {
   "cell_type": "code",
   "execution_count": 59,
   "metadata": {
    "collapsed": false,
    "scrolled": true
   },
   "outputs": [
    {
     "data": {
      "text/plain": [
       "{'Brian': 19887,\n",
       " 'Alan': 20193,\n",
       " 'Alexander': 19933,\n",
       " 'Chukwuemeka': 20131,\n",
       " 'Abenezer': 19856}"
      ]
     },
     "execution_count": 59,
     "metadata": {
     },
     "output_type": "execute_result"
    }
   ],
   "source": [
    "name_counts"
   ]
  },
  {
   "cell_type": "markdown",
   "metadata": {
    "collapsed": false
   },
   "source": [
    "**3.5 Exercise**: Now read about [Counters](https://docs.python.org/3/library/collections.html#collections.Counter) to repeat the last exercise."
   ]
  },
  {
   "cell_type": "code",
   "execution_count": 61,
   "metadata": {
    "collapsed": false
   },
   "outputs": [
   ],
   "source": [
    "from collections import Counter"
   ]
  },
  {
   "cell_type": "code",
   "execution_count": 64,
   "metadata": {
    "collapsed": false
   },
   "outputs": [
    {
     "data": {
      "text/plain": [
       "Counter({'Brian': 19887,\n",
       "         'Alan': 20193,\n",
       "         'Alexander': 19933,\n",
       "         'Chukwuemeka': 20131,\n",
       "         'Abenezer': 19856})"
      ]
     },
     "execution_count": 64,
     "metadata": {
     },
     "output_type": "execute_result"
    }
   ],
   "source": [
    "Counter(list_of_random_duplicates)"
   ]
  }
 ],
 "metadata": {
  "kernelspec": {
   "display_name": "Python 3 (system-wide)",
   "language": "python",
   "metadata": {
    "cocalc": {
     "description": "Python 3 programming language",
     "priority": 100,
     "url": "https://www.python.org/"
    }
   },
   "name": "python3",
   "resource_dir": "/ext/jupyter/kernels/python3"
  },
  "language_info": {
   "codemirror_mode": {
    "name": "ipython",
    "version": 3
   },
   "file_extension": ".py",
   "mimetype": "text/x-python",
   "name": "python",
   "nbconvert_exporter": "python",
   "pygments_lexer": "ipython3",
   "version": "3.8.10"
  }
 },
 "nbformat": 4,
 "nbformat_minor": 4
}