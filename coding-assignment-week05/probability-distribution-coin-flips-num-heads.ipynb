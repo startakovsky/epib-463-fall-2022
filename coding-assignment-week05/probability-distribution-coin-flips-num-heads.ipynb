{
 "cells": [
  {
   "cell_type": "markdown",
   "id": "64986a5c",
   "metadata": {},
   "source": [
    "# Assignment Description\n",
    "\n",
    "In the last homework assignment, you learned about the probability distribution of the \"dice roll --> sum\" random variable. You did at least the following steps.\n",
    " 1. Created all 36 dice roll outcomes (the domain of the random variable)\n",
    " 2. Created a dictionary that mapped from dice roll outcomes to sums of each outcome (the random variable)\n",
    " 3. Created a grouping of sums. _For each sum, counting all outcomes that map to that sum._\n",
    " 4. Created a probability distribution of the random variable.\n",
    " 5. Graphed the probability distribution.\n",
    " 6. Computing the expectation\n",
    " 7. Simulations of dice rolls\n",
    " 8. Graphing empirical distribution variants\n",
    " 9. Additional questions probing understanding\n",
    "\n",
    "In this assignment, I want you to do exactly what was covered in section 3 of week 4's homework and the dice roll part 2 Jupyter notebook to count the number of heads after n independent coin flips with probability p of heads.\n",
    "\n",
    "## 2 Choices\n",
    "\n",
    "You can choose either one for this assignment.\n",
    "\n",
    "### Choice 1:\n",
    "\n",
    "Create a notebook in CoCalc called `analyzing-coin-flips-num-heads.ipynb`. Organize it according to the 9 steps and show me that you understand how to use Python to manipulate data structures such as lists, dicts, sets, standard libraries, whatever you need, and demonstrate that you can create the the exact same sort of set of assignments we did on dice rolls except on coin flips instead. You will be responsible for using a mixture of Markdown and Coding cells in order to properly structure your document like a report. Please use `n=10` and `p=.37` when thinking of your random experiment.\n",
    "\n",
    "\n",
    "### Choice 2:\n",
    "\n",
    "Take on a meatier project where you can significantly increase your midterm 1 percentage by creating a coding assignment on the binomial distribution, covering not just one but multiple values for `n` and `p`.  where you submit two notebooks `binomial-distribution-questions.ipynb` and `binomial-distribution-questions-answers.ipynb` in similar fashion to the sorts of coding assignment notebooks I've created for you. The guidance is simply that the notebook could qualify as a coding assignment for if I taught the class in the future and wanted students to study the random variable associated with a binomial process. \n",
    "\n",
    "**If I get a strong submission for Choice 2 then I will either awared up to a 5% increase to your total score for midterm 1 or use your exact questions on a portion of the midterm.**\n",
    "\n",
    "#### Requirements for a strong Choice 2 Submission\n",
    " - Demonstrate mastery of the material\n",
    " - Introduce topics, educates reader, and asks clear questions\n",
    " - Test for understanding frequently and reasonably\n",
    " - Markdown answers should be clear\n",
    " - Coding Answers are accurate with clean and readable code\n",
    " - Ensure Answers are numbered and come with original coded questions\n",
    " - Sections are numbered, organized how you see fit, etc."
   ]
  },
  {
   "cell_type": "markdown",
   "id": "6ee1f883",
   "metadata": {},
   "source": [
    "## Binomial Distribution and Coding Recommendations\n",
    "\n",
    "You have learned about the Binomial Distribution before this class, and watched a video in this class. Now we are going to code this somehow.\n",
    "\n",
    "**1 Tip**\n",
    "\n",
    "Use strings of 'H' and 'T' of length `n` to create outcomes."
   ]
  },
  {
   "cell_type": "code",
   "execution_count": 1,
   "id": "648d0abf",
   "metadata": {},
   "outputs": [
    {
     "data": {
      "text/plain": [
       "'HTTTHTHTTT'"
      ]
     },
     "execution_count": 1,
     "metadata": {},
     "output_type": "execute_result"
    }
   ],
   "source": [
    "example_outcome = 'HTTTHTHTTT'\n",
    "example_outcome"
   ]
  },
  {
   "cell_type": "markdown",
   "id": "4822b24b",
   "metadata": {},
   "source": [
    "**2 Tip**\n",
    "\n",
    "Try to figure out how to enumerate, or list out, every possible outcome of coin flips. I have done it for you here, but if you have been finding this class easy, then you don't have to use my code to generate every coin flip of size `n`."
   ]
  },
  {
   "cell_type": "code",
   "execution_count": 2,
   "id": "0956b597",
   "metadata": {},
   "outputs": [
    {
     "data": {
      "text/plain": [
       "['HHH', 'THH', 'HTH', 'TTH', 'HHT', 'THT', 'HTT', 'TTT']"
      ]
     },
     "execution_count": 2,
     "metadata": {},
     "output_type": "execute_result"
    }
   ],
   "source": [
    "n=3\n",
    "outcomes = ['']\n",
    "for _ in range(n):\n",
    "    for i in range(len(outcomes)):\n",
    "        outcomes.append(outcomes[i] + 'T')\n",
    "        outcomes[i] = outcomes[i] + 'H'\n",
    "outcomes"
   ]
  },
  {
   "cell_type": "markdown",
   "id": "5ee65df4",
   "metadata": {},
   "source": [
    "**3 Tip**\n",
    "\n",
    "Remember that strings are just sequences you can iterate over. You can use either `collections.Counter` or iterate over the strings."
   ]
  },
  {
   "cell_type": "markdown",
   "id": "a0bf6375",
   "metadata": {},
   "source": [
    "**4 Tip**\n",
    "\n",
    "In general, if the probability of a heads is .37, like it is for Choice 1 above, then in order to address the probability of, for example, `THH` you would have to do something that computes `.63 * .37 * .37`. I am imaging some sort of an if else statement. _Why are you going to have to worry about this?_ Because, it's different than with dice rolls. In dice roll outcomes, where they are all equally likely, and you just have to do something like 1/36 to see the probability of a particular outcome. With flipping `n` coins where the coins have a `p` probability of heads, the chances of `HHH` are different than `HTH`. To compute those, you have to multiply them."
   ]
  },
  {
   "cell_type": "markdown",
   "id": "45a3bbd8",
   "metadata": {},
   "source": [
    "**5 Tip**\n",
    "\n",
    "When you get stuck, Slack the class in some appropriate channel of your choice with @channel if you want people's attention."
   ]
  },
  {
   "cell_type": "markdown",
   "id": "627a95e0",
   "metadata": {},
   "source": [
    "**6 Tip**\n",
    "\n",
    "Be careful, using `n > 10` will lead to a combinatorial explosion in the number of possible sequences of `H` and `T`. For example, `n = 200` would lead to more possible sequences of `H` and `T` than there are atoms in the universe."
   ]
  },
  {
   "cell_type": "markdown",
   "id": "e5d1568c",
   "metadata": {},
   "source": [
    "**7 Tip**\n",
    "\n",
    "One of your end goals is to produce something like this for the probability distribution. This is what you should create before doing a simulation. "
   ]
  },
  {
   "attachments": {
    "image.png": {
     "image/png": "[encoded data removed]"
    }
   },
   "cell_type": "markdown",
   "id": "69c46e09",
   "metadata": {},
   "source": [
    "![image.png](attachment:image.png)"
   ]
  },
  {
   "cell_type": "markdown",
   "id": "ee7f5c75",
   "metadata": {},
   "source": [
    "**8 Tip**\n",
    "\n",
    "To flip a coin with probability .37, do the following. I encourage you to read about the `random.random` somewhere on this page."
   ]
  },
  {
   "cell_type": "code",
   "execution_count": 8,
   "id": "2ae3bc6e",
   "metadata": {},
   "outputs": [
    {
     "data": {
      "text/plain": [
       "False"
      ]
     },
     "execution_count": 8,
     "metadata": {},
     "output_type": "execute_result"
    }
   ],
   "source": [
    "import random\n",
    "\n",
    "random.random() < .37"
   ]
  },
  {
   "cell_type": "markdown",
   "id": "cda513c1",
   "metadata": {},
   "source": [
    "**9 Tip**\n",
    "\n",
    "When you think of how to do the simulations, you can do them at least one of two ways:\n",
    " Way 1: You can flip a coin `n` times and count the nuber of times it lands on heads.\n",
    " Way 2: You can use a list of outcomes you've created, and the function `random.choices`\n",
    " you will need to reference the explanation of the `random.choices` function here: https://docs.python.org/3/library/random.html#random.choices .. You will need to compute the probability of each outcome, and those will be your weights. This may possibly be a faster way to simulate n coin tosses."
   ]
  }
 ],
 "metadata": {
  "kernelspec": {
   "display_name": "Python 3 (ipykernel)",
   "language": "python",
   "name": "python3"
  },
  "language_info": {
   "codemirror_mode": {
    "name": "ipython",
    "version": 3
   },
   "file_extension": ".py",
   "mimetype": "text/x-python",
   "name": "python",
   "nbconvert_exporter": "python",
   "pygments_lexer": "ipython3",
   "version": "3.10.1"
  }
 },
 "nbformat": 4,
 "nbformat_minor": 5
}
