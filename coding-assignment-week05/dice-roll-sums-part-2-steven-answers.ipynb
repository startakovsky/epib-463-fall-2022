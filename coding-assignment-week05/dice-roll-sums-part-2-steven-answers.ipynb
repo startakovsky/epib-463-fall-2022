{
 "cells": [
  {
   "cell_type": "markdown",
   "id": "fa3fba09",
   "metadata": {},
   "source": [
    "# Dice Roll Sums Part 2"
   ]
  },
  {
   "cell_type": "markdown",
   "id": "a4abe6f3",
   "metadata": {},
   "source": [
    "## 1 Review of Dice Rolls Part 1"
   ]
  },
  {
   "cell_type": "markdown",
   "id": "8a3495c0",
   "metadata": {},
   "source": [
    "In the last homework assignment, you learned about the probability distribution of the \"dice roll --> sum\" random variable. You constructed this distribution with the following steps.\n",
    " 1. Created all 36 dice roll outcomes (the domain of the random variable)\n",
    " 2. Created a dictionary that mapped from dice roll outcomes to sums of each outcome (the random variable)\n",
    " 3. Created a grouping of sums. _For each sum, counting all outcomes that map to that sum._\n",
    " 4. Created a probability distribution of the random variable.\n",
    " 5. Graphed the probability distribution."
   ]
  },
  {
   "cell_type": "markdown",
   "id": "b9ebea2d",
   "metadata": {},
   "source": [
    "You should be able to do this sort of thing for the midterm. You should be able to do it without using the Python Standard Library. You should also know about the Python Standard Library and how it could help you to achieve these."
   ]
  },
  {
   "cell_type": "markdown",
   "id": "12768856",
   "metadata": {},
   "source": [
    "## 2 Coding Review Dice Rolls Part 1"
   ]
  },
  {
   "cell_type": "markdown",
   "id": "48dc9c35",
   "metadata": {},
   "source": [
    "Below, I will write some code to recreate the last assignment using the standard libraries."
   ]
  },
  {
   "cell_type": "markdown",
   "id": "50354fcb",
   "metadata": {},
   "source": [
    "#### 2.1 Random Variable Reconstruction"
   ]
  },
  {
   "cell_type": "code",
   "execution_count": 1,
   "id": "9681d227",
   "metadata": {},
   "outputs": [
    {
     "name": "stdout",
     "output_type": "stream",
     "text": [
      "Random Variable: {(1, 1): 2, (1, 2): 3, (1, 3): 4, (1, 4): 5, (1, 5): 6, (1, 6): 7, (2, 1): 3, (2, 2): 4, (2, 3): 5, (2, 4): 6, (2, 5): 7, (2, 6): 8, (3, 1): 4, (3, 2): 5, (3, 3): 6, (3, 4): 7, (3, 5): 8, (3, 6): 9, (4, 1): 5, (4, 2): 6, (4, 3): 7, (4, 4): 8, (4, 5): 9, (4, 6): 10, (5, 1): 6, (5, 2): 7, (5, 3): 8, (5, 4): 9, (5, 5): 10, (5, 6): 11, (6, 1): 7, (6, 2): 8, (6, 3): 9, (6, 4): 10, (6, 5): 11, (6, 6): 12}\n",
      "\n"
     ]
    }
   ],
   "source": [
    "import json # this module allows me to print out dictionaries \n",
    "import itertools\n",
    "import collections\n",
    "\n",
    "import matplotlib.pyplot as plt\n",
    "\n",
    "# Step 1: Create Dice Roll Outcomes\n",
    "dice_roll_outcomes = list(itertools.product(range(1,7), repeat=2))\n",
    "\n",
    "# Step 2: Create Random Variable as a Dictionary\n",
    "outcome_to_sum_map = dict()\n",
    "for outcome in dice_roll_outcomes:\n",
    "    outcome_to_sum_map[outcome] = sum(outcome)\n",
    "print(\"Random Variable:\", outcome_to_sum_map, end='\\n\\n')"
   ]
  },
  {
   "cell_type": "code",
   "execution_count": 2,
   "id": "e75ae64f",
   "metadata": {},
   "outputs": [
    {
     "name": "stdout",
     "output_type": "stream",
     "text": [
      "Counts of each output of the random variable {2: 1, 3: 2, 4: 3, 5: 4, 6: 5, 7: 6, 8: 5, 9: 4, 10: 3, 11: 2, 12: 1}\n",
      "\n"
     ]
    }
   ],
   "source": [
    "# Step 3: Create the grouping of sums.\n",
    "sum_to_num_outcomes_map = dict(collections.Counter(outcome_to_sum_map.values()))\n",
    "print(\"Counts of each output of the random variable\", sum_to_num_outcomes_map, end='\\n\\n')"
   ]
  },
  {
   "cell_type": "code",
   "execution_count": 3,
   "id": "a0408936",
   "metadata": {},
   "outputs": [
    {
     "name": "stdout",
     "output_type": "stream",
     "text": [
      "Probability Distribution of Random Variable\n",
      "{\n",
      "    \"2\": 0.027777777777777776,\n",
      "    \"3\": 0.05555555555555555,\n",
      "    \"4\": 0.08333333333333333,\n",
      "    \"5\": 0.1111111111111111,\n",
      "    \"6\": 0.1388888888888889,\n",
      "    \"7\": 0.16666666666666666,\n",
      "    \"8\": 0.1388888888888889,\n",
      "    \"9\": 0.1111111111111111,\n",
      "    \"10\": 0.08333333333333333,\n",
      "    \"11\": 0.05555555555555555,\n",
      "    \"12\": 0.027777777777777776\n",
      "}\n"
     ]
    }
   ],
   "source": [
    "# Step 4: Create the grouping \n",
    "sample_space_size = len(outcome_to_sum_map)\n",
    "sum_to_probability_map = dict()\n",
    "for sum_, num_outcomes in sum_to_num_outcomes_map.items():\n",
    "    sum_to_probability_map[sum_] = num_outcomes/sample_space_size\n",
    "print(\"Probability Distribution of Random Variable\", json.dumps(sum_to_probability_map, indent=4), sep='\\n')"
   ]
  },
  {
   "cell_type": "markdown",
   "id": "6b6a05a3",
   "metadata": {},
   "source": [
    "#### 2.2 Graphing the Probability distribution of a Random Variable"
   ]
  },
  {
   "cell_type": "code",
   "execution_count": 4,
   "id": "1c735c76",
   "metadata": {},
   "outputs": [
    {
     "data": {
      "image/png": "[encoded data removed]",
      "text/plain": [
       "<Figure size 640x480 with 1 Axes>"
      ]
     },
     "metadata": {},
     "output_type": "display_data"
    }
   ],
   "source": [
    "# Step 5\n",
    "fig = plt.figure()\n",
    "ax = fig.add_subplot()\n",
    "ax.bar(sum_to_probability_map.keys(), sum_to_probability_map.values(), color='g')\n",
    "ax.set_title(\"Probability Distribution of Random Variable\")\n",
    "ax.set_xlabel(\"Random Variable Values\")\n",
    "ax.set_ylabel(\"Probabilities\")\n",
    "plt.show()"
   ]
  },
  {
   "cell_type": "markdown",
   "id": "d2c5156e",
   "metadata": {},
   "source": [
    "## 3 The expectation of a random variable\n",
    "\n",
    "Well, now that you have a probability distribution of this random variable, you can compute its expectation."
   ]
  },
  {
   "cell_type": "markdown",
   "id": "58b9cf4e",
   "metadata": {},
   "source": [
    "**3.1 Markdown Exercise** \n",
    "\n",
    "What is the meaning of the _expectation_ of a random variable? What is the best way to interpret this word when you hear it? Be precise with your language?"
   ]
  },
  {
   "cell_type": "markdown",
   "id": "e61de66a",
   "metadata": {},
   "source": [
    "**3.1 Markdown Answer** \n",
    "\n",
    "The expectation of a random variable can be thought of as the long-running average of values. For example, in the long run, when rolling dice and computing sums, the average will become arbitrarily close to 7. So if you rolled dice a trillion times and computed the average sum the answer would be between 6.999 and 7.001.\n",
    "\n",
    "We can answer this question because we saw it was 7 when we were in class last."
   ]
  },
  {
   "cell_type": "markdown",
   "id": "fa032a40",
   "metadata": {},
   "source": [
    "**3.2 Coding Exercise** \n",
    "\n",
    "Compute the expected value of a dice roll."
   ]
  },
  {
   "cell_type": "code",
   "execution_count": 5,
   "id": "d6a196ef",
   "metadata": {},
   "outputs": [
    {
     "name": "stdout",
     "output_type": "stream",
     "text": [
      "The expectation of the sum of a dice roll is: 6.999999999999999\n"
     ]
    }
   ],
   "source": [
    "# 3.2 Coding Answer\n",
    "weighted_average_of_sums = 0\n",
    "for sum_, probability in sum_to_probability_map.items():\n",
    "    weighted_average_of_sums += sum_ * probability\n",
    "print(\"The expectation of the sum of a dice roll is:\", weighted_average_of_sums)"
   ]
  },
  {
   "cell_type": "markdown",
   "id": "0ebb095e",
   "metadata": {},
   "source": [
    "## 4 Let's simulate some dice rolls"
   ]
  },
  {
   "cell_type": "markdown",
   "id": "4c8d99f7",
   "metadata": {},
   "source": [
    "**4.1 Coding Exercise**\n",
    "\n",
    "Use the `random` module to create a list of dice 10,000 dice rolls named `random_outcomes`."
   ]
  },
  {
   "cell_type": "code",
   "execution_count": 6,
   "id": "0c9b82a4",
   "metadata": {},
   "outputs": [],
   "source": [
    "# 4.1 Coding Answer \n",
    "import random\n",
    "random_outcomes = random.choices(dice_roll_outcomes, k=1000)"
   ]
  },
  {
   "cell_type": "markdown",
   "id": "f69fdb67",
   "metadata": {},
   "source": [
    "**4.2 Coding Exercise** \n",
    "\n",
    "Create a corresponding list of sums, `random_sums`. It should be the case that the sum of the outcome `random_outcomes[i]` is `random_sums[i]`. For example, in the list `[(2,3), (1,3), (1,2), (5,6)]` you would create a list named `random_sums` which looks like `[5, 4, 3, 11]`."
   ]
  },
  {
   "cell_type": "code",
   "execution_count": 7,
   "id": "7531b890",
   "metadata": {},
   "outputs": [],
   "source": [
    "# 4.2 Coding Answer\n",
    "random_sums = []\n",
    "for outcome in random_outcomes:\n",
    "    random_sums.append(sum(outcome))"
   ]
  },
  {
   "cell_type": "markdown",
   "id": "f5d06cd0",
   "metadata": {},
   "source": [
    "**4.3 Coding Exercise** \n",
    "\n",
    "Now create a dictionary `sum_counter` which maps each sum to the number of times it appeared. Do not use `collections.Counter` to create this counter."
   ]
  },
  {
   "cell_type": "code",
   "execution_count": 8,
   "id": "4aad4c6d",
   "metadata": {},
   "outputs": [
    {
     "data": {
      "text/plain": [
       "{6: 158,\n",
       " 2: 30,\n",
       " 7: 156,\n",
       " 10: 91,\n",
       " 11: 54,\n",
       " 4: 84,\n",
       " 5: 112,\n",
       " 8: 149,\n",
       " 3: 38,\n",
       " 9: 95,\n",
       " 12: 33}"
      ]
     },
     "execution_count": 8,
     "metadata": {},
     "output_type": "execute_result"
    }
   ],
   "source": [
    "# 4.3 Coding Answer\n",
    "sum_counter = {}\n",
    "for sum_ in random_sums:\n",
    "    if sum_ not in sum_counter:\n",
    "        sum_counter[sum_] = 0\n",
    "    sum_counter[sum_] += 1\n",
    "sum_counter"
   ]
  },
  {
   "cell_type": "markdown",
   "id": "1139a02f",
   "metadata": {},
   "source": [
    "## 5 Graphing the Empirical Distribution\n",
    "\n",
    "The above counter is called the _empirical distribution_ of dice rolls. Toward the top of this notebook, you'll see a green probability distribution of dice rolls. Let's graph it."
   ]
  },
  {
   "cell_type": "markdown",
   "id": "43bf3ae2",
   "metadata": {},
   "source": [
    "**5.1 Coding Exercise** \n",
    "\n",
    "Evaluate the following: `_ = plt.bar(sum_counter.keys(), sum_counter.values())`"
   ]
  },
  {
   "cell_type": "code",
   "execution_count": 9,
   "id": "642d72d5",
   "metadata": {
    "scrolled": false
   },
   "outputs": [
    {
     "data": {
      "image/png": "[encoded data removed]",
      "text/plain": [
       "<Figure size 640x480 with 1 Axes>"
      ]
     },
     "metadata": {},
     "output_type": "display_data"
    }
   ],
   "source": [
    "# 5.1 Coding Answer\n",
    "_ = plt.bar(sum_counter.keys(), sum_counter.values())"
   ]
  },
  {
   "cell_type": "markdown",
   "id": "b670cdb6",
   "metadata": {},
   "source": [
    "**5.2 Markdown Exercise** \n",
    "\n",
    "What is that graph called that you just created?"
   ]
  },
  {
   "cell_type": "markdown",
   "id": "e50a611b",
   "metadata": {},
   "source": [
    "**5.2 Markdown Answer** \n",
    "\n",
    "This graph is called a histogram and it captures the empirical distribution of sums of dice rolls. In other words, it is charting out the number of items in `random_sums` of each distinct sum. It is answer questions such as, \"How many 2's are in in `random_sums`?\""
   ]
  },
  {
   "cell_type": "markdown",
   "id": "69252fa5",
   "metadata": {},
   "source": [
    "**5.3 Coding Exercise** \n",
    "\n",
    "Evaluate the following: `_ = plt.hist(random_sums, bins=range(2,14))`."
   ]
  },
  {
   "cell_type": "code",
   "execution_count": 10,
   "id": "d00c2493",
   "metadata": {
    "scrolled": false
   },
   "outputs": [
    {
     "data": {
      "image/png": "[encoded data removed]",
      "text/plain": [
       "<Figure size 640x480 with 1 Axes>"
      ]
     },
     "metadata": {},
     "output_type": "display_data"
    }
   ],
   "source": [
    "# 5.3 Coding Answer\n",
    "_ = plt.hist(random_sums, bins=range(2,14))"
   ]
  },
  {
   "cell_type": "markdown",
   "id": "cffcbe38",
   "metadata": {},
   "source": [
    "**5.4 Markdown Exercise** \n",
    "\n",
    "Explain why this graph is exactly like the above graph. Yes, it's without spaces between the vertical bars but the height of the bars, numbers and axes labels are exactly the same. Why?"
   ]
  },
  {
   "cell_type": "markdown",
   "id": "718e388e",
   "metadata": {},
   "source": [
    "**5.4 Markdown Answer**\n",
    "\n",
    "Well, both graphs are histogram representations of the items in `random_sums`. A histogram is a common way to evaluate a univariate distribution of data. For example, you could be looking at number of hours of screentime per week for a person, week over week. Or you could be looking at the infant mortality rate per hospital across every hospital in the nation to try to get a feel for how the rate is distributed.  As a result, the histogram is a built in function."
   ]
  },
  {
   "cell_type": "markdown",
   "id": "3d1c6a3a",
   "metadata": {},
   "source": [
    "**5.5 Coding Exercise** \n",
    "\n",
    "Graph the empirical distribution of fetal heart rates from the csv file in this assignment folder called `fetal_health.csv`. Read about the file [here](https://www.kaggle.com/datasets/andrewmvd/fetal-health-classification), it may help you to answer the question."
   ]
  },
  {
   "cell_type": "code",
   "execution_count": 11,
   "id": "0d5f189d",
   "metadata": {},
   "outputs": [
    {
     "data": {
      "image/png": "[encoded data removed]",
      "text/plain": [
       "<Figure size 640x480 with 1 Axes>"
      ]
     },
     "metadata": {},
     "output_type": "display_data"
    }
   ],
   "source": [
    "#5.5 Coding Answer\n",
    "import pandas as pd\n",
    "df = pd.read_csv('fetal_health.csv')\n",
    "_ = df['baseline value'].hist()"
   ]
  },
  {
   "cell_type": "markdown",
   "id": "55b25d71",
   "metadata": {},
   "source": [
    "**5.6 Coding Exercise** \n",
    "\n",
    "Create a graph visualizing the empirical distribution of fetal health."
   ]
  },
  {
   "cell_type": "code",
   "execution_count": 12,
   "id": "7a0db074",
   "metadata": {},
   "outputs": [
    {
     "data": {
      "image/png": "[encoded data removed]",
      "text/plain": [
       "<Figure size 640x480 with 1 Axes>"
      ]
     },
     "metadata": {},
     "output_type": "display_data"
    }
   ],
   "source": [
    "# 5.6 Coding Answer\n",
    "fig = plt.figure()\n",
    "ax = fig.add_subplot()\n",
    "ax.hist(df.fetal_health, bins=3, )\n",
    "ax.set_xticks([1, 2, 3])\n",
    "_ = ax.set_xticklabels(['Normal', 'Suspect', 'Pathological'])"
   ]
  },
  {
   "cell_type": "markdown",
   "id": "7e7508be",
   "metadata": {},
   "source": [
    "**5.7 Coding Exercise**\n",
    "\n",
    "What proportion of fetuses were classified as not \"Normal\"? Use the built-in `round` function to round your result to the nearest 4 decimal points. Look it up for yourself. Hopefully you can find [this page](https://docs.python.org/3/library/functions.html#round) by searching online appropriately."
   ]
  },
  {
   "cell_type": "code",
   "execution_count": 13,
   "id": "562433cb",
   "metadata": {},
   "outputs": [
    {
     "data": {
      "text/plain": [
       "0.2215"
      ]
     },
     "execution_count": 13,
     "metadata": {},
     "output_type": "execute_result"
    }
   ],
   "source": [
    "# 5.7 Coding Answer\n",
    "result = (len(df) - sum(df.fetal_health == 1))/len(df)\n",
    "round(result, 4)"
   ]
  },
  {
   "cell_type": "markdown",
   "id": "c0590906",
   "metadata": {},
   "source": [
    "### 6 Additional Observations "
   ]
  },
  {
   "cell_type": "markdown",
   "id": "6ce62330",
   "metadata": {},
   "source": [
    "**6.1 Markdown Exercise** \n",
    "\n",
    "Read this and write more than one sentence on what you learned: https://quickmathintuitions.org/random-variables-why-are-they-needed/"
   ]
  },
  {
   "cell_type": "markdown",
   "id": "b26e61a8",
   "metadata": {},
   "source": [
    "**6.1 Markdown Answer**\n",
    "\n",
    "I assume each student learned something different. Hopefully we are starting to get a feeling for what a random variable is and precisely what the concept of its distribution is. So far we have only been looking at discrete distributions because all the sample spaces we've looked at have been finite."
   ]
  },
  {
   "cell_type": "markdown",
   "id": "22b85da9",
   "metadata": {},
   "source": [
    "**6.2 Markdown Exercise**\n",
    "\n",
    "Above, you created the empirical distribution of sums of dice rolls. What do you notice about the shape of this distribution compared to the probability distribution of sums of dice rolls? Why are you noticing this? Is it a coincidence?"
   ]
  },
  {
   "cell_type": "markdown",
   "id": "9dd260cd",
   "metadata": {},
   "source": [
    "**6.2 Markdown Answer**\n",
    "\n",
    "It is a similar shape. This makes sense because the proportion of each outcome sum is dictated by the probability distribution, and so, as we increase the number of sums, the shape of the empirical distribution tends to \"converge\" to the shape of the probability distribution."
   ]
  },
  {
   "cell_type": "markdown",
   "id": "abc9cc9b",
   "metadata": {},
   "source": [
    "**6.3 Coding Exercise** (This sort of question is fair game for the midterm.)\n",
    "\n",
    "Create a function `graph_empirical_probability_distribution` that takes exactly one keyword argument `num_rolls=100`, so that when this function is called it will do the following behind the scenes: \n",
    "  1. create a random sample of `num_rolls` dice rolls\n",
    "  2. create a list of corresponding sums, and \n",
    "  3. graph the _empirical probability distribution_ of the sums"
   ]
  },
  {
   "cell_type": "code",
   "execution_count": 14,
   "id": "0340d9eb",
   "metadata": {},
   "outputs": [],
   "source": [
    "# 6.3 Coding Answer\n",
    "def graph_empirical_probability_distribution(num_rolls=100):\n",
    "    random_outcomes = random.choices(dice_roll_outcomes, k=num_rolls)\n",
    "    random_sums = [sum(outcome) for outcome in random_outcomes]\n",
    "    sums_to_num_outcomes = collections.Counter(random_sums)\n",
    "    sums_to_sample_proportions = {sum_:n_outcomes/num_rolls for sum_,n_outcomes in sums_to_num_outcomes.items()}\n",
    "    fig = plt.figure()\n",
    "    ax = fig.add_subplot()\n",
    "    ax.bar(sums_to_sample_proportions.keys(), sums_to_sample_proportions.values())\n",
    "    ax.set_title('empirical probability distribution of dice roll sums')\n",
    "    ax.set_xlabel('empirical sums')\n",
    "    ax.set_ylabel('empirical proportions')"
   ]
  },
  {
   "cell_type": "markdown",
   "id": "ee4944ac",
   "metadata": {},
   "source": [
    "**6.4 Coding Exercise**\n",
    "\n",
    "Evaluate, by pressing `ctrl` and `Return` the function multiple times in a row to see how the distribution changes in less extreme ways the higher num_rolls. Start with `num_rolls=50`, then try `100`, then `1000`, and finally `20000`."
   ]
  },
  {
   "cell_type": "code",
   "execution_count": 15,
   "id": "9cb260a4",
   "metadata": {},
   "outputs": [
    {
     "data": {
      "image/png": "[encoded data removed]",
      "text/plain": [
       "<Figure size 640x480 with 1 Axes>"
      ]
     },
     "metadata": {},
     "output_type": "display_data"
    }
   ],
   "source": [
    "# 6.4 Coding Answer\n",
    "\n",
    "graph_empirical_probability_distribution(num_rolls=20000)"
   ]
  },
  {
   "cell_type": "markdown",
   "id": "8685576f",
   "metadata": {},
   "source": [
    "**6.5 Markdown Exercise**\n",
    "\n",
    "Try to explain what you see happening in the above exercise, visually, with respects to the bars, both if you keep `num_rolls` the same and as you start to increase or decrease `num_rolls`."
   ]
  },
  {
   "cell_type": "markdown",
   "id": "85cad4fe",
   "metadata": {},
   "source": [
    "**6.5 Markdown Answer**\n",
    "\n",
    "As the number of dice outcomes increase, the emerging empirical distributions tend to look like the probability distribution of the random variable, they also seem to sort of stabilize rather than swinging more wildly like they do  "
   ]
  },
  {
   "cell_type": "markdown",
   "id": "7ceadda5",
   "metadata": {},
   "source": [
    "**6.6 Coding Exercise**\n",
    "\n",
    "Create a function `get_new_sample_mean` with keyword argument `num_rolls=1000` that generates a random sample of sums and computes the average."
   ]
  },
  {
   "cell_type": "code",
   "execution_count": 16,
   "id": "e33a0f9c",
   "metadata": {},
   "outputs": [],
   "source": [
    "# 6.6 Coding Answer\n",
    "def get_new_sample_mean(num_rolls=100):\n",
    "    random_sums = [sum(outcome) for outcome in random.choices(dice_roll_outcomes, k=num_rolls)]\n",
    "    mean = sum(random_sums)/len(random_sums)\n",
    "    return mean"
   ]
  },
  {
   "cell_type": "markdown",
   "id": "17a199dc",
   "metadata": {},
   "source": [
    "**6.7 Coding Exercise**\n",
    "\n",
    "Use `get_new_sample_mean` to print out 50 sample means sorted from least to greatest where the number of rolls was 1000 that generated each sample mean."
   ]
  },
  {
   "cell_type": "code",
   "execution_count": 17,
   "id": "efae33c9",
   "metadata": {},
   "outputs": [
    {
     "name": "stdout",
     "output_type": "stream",
     "text": [
      "[6.818, 6.86, 6.87, 6.874, 6.875, 6.892, 6.901, 6.929, 6.93, 6.94, 6.945, 6.953, 6.957, 6.958, 6.962, 6.979, 6.984, 6.987, 6.992, 6.994, 6.996, 7.003, 7.008, 7.01, 7.014, 7.014, 7.023, 7.027, 7.03, 7.034, 7.039, 7.039, 7.045, 7.055, 7.062, 7.063, 7.064, 7.069, 7.072, 7.075, 7.083, 7.086, 7.09, 7.103, 7.105, 7.134, 7.149, 7.154, 7.168, 7.281]\n"
     ]
    }
   ],
   "source": [
    "# 6.7 Coding Exercise\n",
    "\n",
    "sample_means = []\n",
    "for _ in range(50):\n",
    "    sample_means.append(get_new_sample_mean(num_rolls=1000))\n",
    "print(sorted(sample_means))"
   ]
  },
  {
   "cell_type": "markdown",
   "id": "461241cc",
   "metadata": {},
   "source": [
    "**6.8 Markdown Exercise**\n",
    "\n",
    "Notice how the sample means are close in value to the expectation of the sum random variable that you computed in exercise 3.2. That value was 7. Is this surprising to you? In statistics your job is to start to connect the dots backwards. You will never know the \"7\" in statistics. You will not know the list of 50 sample means of 1000 dice rolls. You will literally know only one of the sample means and sample empirical distributions. The whole point of the past 5 weeks of class was to firm up your understanding of probability and to introduce you to programming in Python. After the midterm, we will begin our work in data analysis and running statistics on said data. I am hoping you really spend time soaking in this paragraph. For this exercise try to restate and reflect on what is written in this paragraph."
   ]
  },
  {
   "cell_type": "markdown",
   "id": "295ce13d",
   "metadata": {},
   "source": [
    "**6.9 Markdown Answer**\n",
    "\n",
    "I, Steven, just did this in my own words. There is no right answer here. I want to see that you have digested this material in your answer."
   ]
  }
 ],
 "metadata": {
  "kernelspec": {
   "display_name": "Python 3 (ipykernel)",
   "language": "python",
   "name": "python3"
  },
  "language_info": {
   "codemirror_mode": {
    "name": "ipython",
    "version": 3
   },
   "file_extension": ".py",
   "mimetype": "text/x-python",
   "name": "python",
   "nbconvert_exporter": "python",
   "pygments_lexer": "ipython3",
   "version": "3.7.13"
  }
 },
 "nbformat": 4,
 "nbformat_minor": 5
}
