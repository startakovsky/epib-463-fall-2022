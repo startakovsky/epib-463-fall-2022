{
 "cells": [
  {
   "cell_type": "markdown",
   "id": "a5a56385",
   "metadata": {},
   "source": [
    "# Instructions\n",
    "\n",
    "For each of these exercises, create a cell underneath it. If the exercise says \"Markdown Exercise\" then the cell should be a markdown, or text cell, and if it says \"Coding Exercise\" use code to express your answer. Note: You are always welcome to use code in your markdown if you want to communicate something about the code."
   ]
  },
  {
   "cell_type": "markdown",
   "id": "bae94664",
   "metadata": {},
   "source": [
    "## Markdown Exercise\n",
    "\n",
    "In the `handout-week-07` folder, you have a notebook that achieves the same objective 3 different ways:\n",
    "  1. The Old School Way\n",
    "  2. With Pandas, the power of tabular data manipulation\n",
    "  3. With SciPy, even more straightforward\n",
    "  \n",
    "\n",
    "\n",
    "**For this exercise, do the following three things:**\n",
    " - Create a new notebook with the same name as that notebook (i.e. \"3-different-ways...\") in this folder.\n",
    " - Retype each of those 3 ways. Once you've done so, save your results and return here.\n",
    " - Name 3 specific things you have learned in doing that, which you do not want to forget. "
   ]
  },
  {
   "cell_type": "markdown",
   "id": "47c6554f",
   "metadata": {},
   "source": [
    "## Markdown Exercise\n",
    "\n",
    "### Analogy 2: Recording health intentions from UMD students\n",
    "\n",
    "Notice that the red stones example is not really that different from asking `n` random students, anonymously, at UMD, whether they are planning on getting the next COVID booster. If you asked every single student, there would be some proportion `p` that are planning to get the next COVID booster.\n",
    "\n",
    "_Note: A minor item for now, but there is one difference, which we can discuss later -- if curious feel free to ask over Slack._"
   ]
  },
  {
   "cell_type": "markdown",
   "id": "e5a13247",
   "metadata": {},
   "source": [
    "## Coding Exercise\n",
    "\n",
    "Assume n = 10 (we are going to survey 10 students), and p = .37 (just like before).\n",
    "\n",
    "Using whatever method you want, create a dictionary with an appropriate name and an associated bar chart displaying the probability distribution of the number of students who intend to get a COVID booster when randomly sampling 10 of them."
   ]
  },
  {
   "cell_type": "markdown",
   "id": "4ff5abc5",
   "metadata": {},
   "source": [
    "## Markdown Exercise\n",
    "\n",
    "What is the expected number of students that will have the intention of getting a COVID booster?"
   ]
  },
  {
   "cell_type": "markdown",
   "id": "d65cf4e3",
   "metadata": {},
   "source": [
    "## Coding Exercise\n",
    "\n",
    "What is the expected number of students that will have the intention of getting a COVID booster?"
   ]
  },
  {
   "cell_type": "markdown",
   "id": "d64b6537",
   "metadata": {},
   "source": [
    "## Markdown Exercise\n",
    "\n",
    "Using the graph above, try to mentally compute the probability that, of the 10 students surveyed, at more than half of them intend to get the COVID booster."
   ]
  },
  {
   "cell_type": "markdown",
   "id": "370ff6c0",
   "metadata": {},
   "source": [
    "## Coding Exercise\n",
    "\n",
    "Use the dictionary you created to determine the exact probability that more than half of the 10 students get the COVID booster."
   ]
  },
  {
   "cell_type": "markdown",
   "id": "f586884d",
   "metadata": {},
   "source": [
    "## Coding Exercise\n",
    "\n",
    "Run this code:\n",
    "\n",
    "```python\n",
    "n, p = 10, .37\n",
    "from scipy.stats import binom\n",
    "rv = binom(n, p)\n",
    "print(rv.cdf(5))\n",
    "```"
   ]
  },
  {
   "cell_type": "markdown",
   "id": "dd3cbf35",
   "metadata": {},
   "source": [
    "## Markdown Exercise\n",
    "\n",
    "If you compare the output from the last 3 exercises, are they similar, different; how and why? You may need to look up what you are not familiar with in the official SciPy documentation (i.e. the `cdf` method). \n",
    "\n",
    "_In this question, I want you to explain what you think is going on. (If you are confused at this point, after reading and thinking on your own, feel free to ask someone, to read some additional sources, and then ask on Slack.)_"
   ]
  },
  {
   "cell_type": "markdown",
   "id": "c962b900",
   "metadata": {},
   "source": [
    "## Coding Exercise\n",
    "\n",
    "So, it sure seems that 12% of the time I'm going to get more than half the students in my random sample that are planning to get a booster. So it's not impossible. \n",
    "\n",
    "Here's the thing . . . and this is the whole point of statistical inference: \n",
    "\n",
    "_You do not know the ground truth, the actual proportion of 0.37 students who intend to get boosted._\n",
    "\n",
    "Print the contents of a dictionary that maps from `i` to the probability that _at least i will get boosted_ for each `i in range(n + 1)`. \n",
    "\n",
    "_If possible don't just print the dictionary, but do a for loop that will print sentences that make sense for each `i`._"
   ]
  },
  {
   "cell_type": "markdown",
   "id": "ec314de2",
   "metadata": {},
   "source": [
    "## Markdown Exercise\n",
    "\n",
    "So, let's say you conducted this survey to a sample of 10 students and 6 said said they were going to get boosted. Would you believe it could be the case that .37 are actually going to get boosted? Why? What's your _percentage_ tolerance and what's your reasoning?"
   ]
  },
  {
   "cell_type": "markdown",
   "id": "ff461c67",
   "metadata": {},
   "source": [
    "## Coding Exercise\n",
    "\n",
    "**Multiverse Challenge** \n",
    "\n",
    "In this assignment so far, we just put a stake in the ground saying that .37 was the true proportion of students intending to get boosted this fall. \n",
    "\n",
    "Now I want you to imagine infinitely many multiverses, which are characterized by the true percentage of UMD students planning to get boosted this fall. So in each multiverse you have a different actual percentage of UMD students planning to get boosted.\n",
    "\n",
    "In statistics, if you'll allow me to continue with this metaphor, we do not know which multiverse we're living in!\n",
    "\n",
    "In this question, I want you to experiment by exploring different multiverse scenarios, to see what the probability of getting at least 6 boost-indending students out of 10 uniformly randomly selected students. \n",
    "\n",
    "Print out a few below, use a for loop that explores different values for `p` and print out complete sentences stating what you see. \n",
    "\n",
    "_This is exploratory and the values you explore are at your discretion._"
   ]
  },
  {
   "cell_type": "markdown",
   "id": "43f2882c",
   "metadata": {},
   "source": [
    "## Coding Exercise\n",
    "\n",
    "The previous exercise was exploratory. In this exercise, I want you to find (by trial and error) the smallest value for `p` which makes it so that there is less than a 5% chance of getting at least 6 students who want to get boosted this fall, out 10 in your sample."
   ]
  },
  {
   "cell_type": "markdown",
   "id": "845b8999",
   "metadata": {},
   "source": [
    "## Coding Exercise\n",
    "\n",
    "Create a simulation of 1000 samples of 10 students from a population with the proportion $p$ you determined in the last exercise and print out the proportion of samples that have at least 6 students that are planning to get boosted. This exercise is analagous to the previous homework assignment. \n",
    "\n",
    "_It's just that we are not flipping coins anymore._"
   ]
  }
 ],
 "metadata": {
  "kernelspec": {
   "display_name": "Python 3 (ipykernel)",
   "language": "python",
   "name": "python3"
  },
  "language_info": {
   "codemirror_mode": {
    "name": "ipython",
    "version": 3
   },
   "file_extension": ".py",
   "mimetype": "text/x-python",
   "name": "python",
   "nbconvert_exporter": "python",
   "pygments_lexer": "ipython3",
   "version": "3.10.1"
  }
 },
 "nbformat": 4,
 "nbformat_minor": 5
}
