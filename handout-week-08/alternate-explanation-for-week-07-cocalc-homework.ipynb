{
 "cells": [
  {
   "cell_type": "markdown",
   "id": "864e9547",
   "metadata": {},
   "source": [
    "# Question -3\n",
    "\n",
    "Explore various probabalities of success, and determine, for each of those, what the probability is to find at least 6 of 10 pro-boost students at UMD."
   ]
  },
  {
   "cell_type": "code",
   "execution_count": 4,
   "id": "438df5bf",
   "metadata": {},
   "outputs": [],
   "source": [
    "import itertools\n",
    "import pandas as pd\n",
    "\n",
    "n = 10\n",
    "outcomes = list(itertools.product([0, 1], repeat=n))\n",
    "\n",
    "def get_dataframe_of_outcome_probabilities(true_probability_of_success):\n",
    "    num_successes, probabilities = [], []\n",
    "    for outcome in outcomes:\n",
    "        num_success = sum(outcome)\n",
    "        num_successes.append(num_success)\n",
    "        probability = true_probability_of_success**num_success*(1-true_probability_of_success)**(n-num_success)\n",
    "        probabilities.append(probability)\n",
    "\n",
    "    df = pd.DataFrame(\n",
    "        {\n",
    "            'outcome': outcomes, \n",
    "            'num_success': num_successes, \n",
    "            'probability': probabilities\n",
    "        }\n",
    "    )\n",
    "    return df\n",
    "\n",
    "\n",
    "def get_prob_at_least_6(true_probability_of_success):\n",
    "    df = get_dataframe_of_outcome_probabilities(true_probability_of_success)\n",
    "    num_success_to_probability = df.groupby('num_success').probability.sum()\n",
    "    probability_at_least_6 = 0\n",
    "    for num_success, probability in num_success_to_probability.items():\n",
    "        if num_success >= 6:\n",
    "            probability_at_least_6 += probability\n",
    "    return probability_at_least_6"
   ]
  },
  {
   "cell_type": "code",
   "execution_count": 7,
   "id": "28adc4ba",
   "metadata": {},
   "outputs": [
    {
     "name": "stdout",
     "output_type": "stream",
     "text": [
      "The probability of at least 6 of 10 sampled students is 0.0197 when the true probability of success is 0.2500\n",
      "The probability of at least 6 of 10 sampled students is 0.1662 when the true probability of success is 0.4000\n",
      "The probability of at least 6 of 10 sampled students is 0.9672 when the true probability of success is 0.8000\n"
     ]
    }
   ],
   "source": [
    "for p in [.25, .4, .8]:\n",
    "    print(f'The probability of at least 6 of 10 sampled students is {get_prob_at_least_6(p):.4f} '\n",
    "          f'when the true probability of success is {p:.4f}')"
   ]
  },
  {
   "cell_type": "markdown",
   "id": "84ef469e",
   "metadata": {},
   "source": [
    "# Question -2"
   ]
  },
  {
   "cell_type": "code",
   "execution_count": 8,
   "id": "f159ffbf",
   "metadata": {},
   "outputs": [
    {
     "data": {
      "text/plain": [
       "0.0239147857755287"
      ]
     },
     "execution_count": 8,
     "metadata": {},
     "output_type": "execute_result"
    }
   ],
   "source": [
    "get_prob_at_least_6(.26)"
   ]
  },
  {
   "cell_type": "code",
   "execution_count": 9,
   "id": "73774a49",
   "metadata": {},
   "outputs": [
    {
     "data": {
      "text/plain": [
       "0.028722439060701044"
      ]
     },
     "execution_count": 9,
     "metadata": {},
     "output_type": "execute_result"
    }
   ],
   "source": [
    "get_prob_at_least_6(.27)"
   ]
  },
  {
   "cell_type": "code",
   "execution_count": 10,
   "id": "4f212246",
   "metadata": {},
   "outputs": [
    {
     "data": {
      "text/plain": [
       "0.03419943998847976"
      ]
     },
     "execution_count": 10,
     "metadata": {},
     "output_type": "execute_result"
    }
   ],
   "source": [
    "get_prob_at_least_6(.28)"
   ]
  },
  {
   "cell_type": "code",
   "execution_count": 11,
   "id": "bdff2b98",
   "metadata": {},
   "outputs": [
    {
     "data": {
      "text/plain": [
       "0.04039316337748609"
      ]
     },
     "execution_count": 11,
     "metadata": {},
     "output_type": "execute_result"
    }
   ],
   "source": [
    "get_prob_at_least_6(.29)"
   ]
  },
  {
   "cell_type": "code",
   "execution_count": 12,
   "id": "ec64e7f0",
   "metadata": {},
   "outputs": [
    {
     "data": {
      "text/plain": [
       "0.04734898739999998"
      ]
     },
     "execution_count": 12,
     "metadata": {},
     "output_type": "execute_result"
    }
   ],
   "source": [
    "get_prob_at_least_6(.3)"
   ]
  },
  {
   "cell_type": "code",
   "execution_count": 13,
   "id": "086f210e",
   "metadata": {},
   "outputs": [
    {
     "data": {
      "text/plain": [
       "0.05510969768059453"
      ]
     },
     "execution_count": 13,
     "metadata": {},
     "output_type": "execute_result"
    }
   ],
   "source": [
    "get_prob_at_least_6(.31)"
   ]
  },
  {
   "cell_type": "code",
   "execution_count": 14,
   "id": "35f85c72",
   "metadata": {},
   "outputs": [
    {
     "data": {
      "text/plain": [
       "0.05112617505453479"
      ]
     },
     "execution_count": 14,
     "metadata": {},
     "output_type": "execute_result"
    }
   ],
   "source": [
    "get_prob_at_least_6(.305)"
   ]
  },
  {
   "cell_type": "code",
   "execution_count": 15,
   "id": "25c3f1a0",
   "metadata": {},
   "outputs": [
    {
     "data": {
      "text/plain": [
       "0.05035438975592263"
      ]
     },
     "execution_count": 15,
     "metadata": {},
     "output_type": "execute_result"
    }
   ],
   "source": [
    "get_prob_at_least_6(.304)"
   ]
  },
  {
   "cell_type": "code",
   "execution_count": 16,
   "id": "e9925a32",
   "metadata": {},
   "outputs": [
    {
     "data": {
      "text/plain": [
       "0.049590818699766004"
      ]
     },
     "execution_count": 16,
     "metadata": {},
     "output_type": "execute_result"
    }
   ],
   "source": [
    "get_prob_at_least_6(.303)"
   ]
  },
  {
   "cell_type": "markdown",
   "id": "a23c290c",
   "metadata": {},
   "source": [
    "So . . . if I were a statistician in a multiverse where the true proportion of pro-boosted students is .303 (of course I wouldn't know I were in that multiverse), it would be the case that less than 5% of the time we get more than half our sample of 10 students that are pro-covid booster."
   ]
  },
  {
   "cell_type": "markdown",
   "id": "eac727f8",
   "metadata": {},
   "source": [
    "# Question -1"
   ]
  },
  {
   "cell_type": "code",
   "execution_count": 43,
   "id": "e218f3e1",
   "metadata": {},
   "outputs": [],
   "source": [
    "p = .303\n",
    "\n",
    "df = get_dataframe_of_outcome_probabilities(p)"
   ]
  },
  {
   "cell_type": "code",
   "execution_count": 44,
   "id": "2bbd8846",
   "metadata": {},
   "outputs": [
    {
     "data": {
      "text/html": [
       "<div>\n",
       "<style scoped>\n",
       "    .dataframe tbody tr th:only-of-type {\n",
       "        vertical-align: middle;\n",
       "    }\n",
       "\n",
       "    .dataframe tbody tr th {\n",
       "        vertical-align: top;\n",
       "    }\n",
       "\n",
       "    .dataframe thead th {\n",
       "        text-align: right;\n",
       "    }\n",
       "</style>\n",
       "<table border=\"1\" class=\"dataframe\">\n",
       "  <thead>\n",
       "    <tr style=\"text-align: right;\">\n",
       "      <th></th>\n",
       "      <th>outcome</th>\n",
       "      <th>num_success</th>\n",
       "      <th>probability</th>\n",
       "    </tr>\n",
       "  </thead>\n",
       "  <tbody>\n",
       "    <tr>\n",
       "      <th>0</th>\n",
       "      <td>(0, 0, 0, 0, 0, 0, 0, 0, 0, 0)</td>\n",
       "      <td>0</td>\n",
       "      <td>0.027060</td>\n",
       "    </tr>\n",
       "    <tr>\n",
       "      <th>1</th>\n",
       "      <td>(0, 0, 0, 0, 0, 0, 0, 0, 0, 1)</td>\n",
       "      <td>1</td>\n",
       "      <td>0.011764</td>\n",
       "    </tr>\n",
       "    <tr>\n",
       "      <th>2</th>\n",
       "      <td>(0, 0, 0, 0, 0, 0, 0, 0, 1, 0)</td>\n",
       "      <td>1</td>\n",
       "      <td>0.011764</td>\n",
       "    </tr>\n",
       "    <tr>\n",
       "      <th>3</th>\n",
       "      <td>(0, 0, 0, 0, 0, 0, 0, 0, 1, 1)</td>\n",
       "      <td>2</td>\n",
       "      <td>0.005114</td>\n",
       "    </tr>\n",
       "    <tr>\n",
       "      <th>4</th>\n",
       "      <td>(0, 0, 0, 0, 0, 0, 0, 1, 0, 0)</td>\n",
       "      <td>1</td>\n",
       "      <td>0.011764</td>\n",
       "    </tr>\n",
       "  </tbody>\n",
       "</table>\n",
       "</div>"
      ],
      "text/plain": [
       "                          outcome  num_success  probability\n",
       "0  (0, 0, 0, 0, 0, 0, 0, 0, 0, 0)            0     0.027060\n",
       "1  (0, 0, 0, 0, 0, 0, 0, 0, 0, 1)            1     0.011764\n",
       "2  (0, 0, 0, 0, 0, 0, 0, 0, 1, 0)            1     0.011764\n",
       "3  (0, 0, 0, 0, 0, 0, 0, 0, 1, 1)            2     0.005114\n",
       "4  (0, 0, 0, 0, 0, 0, 0, 1, 0, 0)            1     0.011764"
      ]
     },
     "execution_count": 44,
     "metadata": {},
     "output_type": "execute_result"
    }
   ],
   "source": [
    "df.head()"
   ]
  },
  {
   "cell_type": "code",
   "execution_count": 45,
   "id": "d4877415",
   "metadata": {},
   "outputs": [],
   "source": [
    "import random"
   ]
  },
  {
   "cell_type": "code",
   "execution_count": 46,
   "id": "c3ca8020",
   "metadata": {},
   "outputs": [
    {
     "data": {
      "text/plain": [
       "[0, 5, 0, 3, 5]"
      ]
     },
     "execution_count": 46,
     "metadata": {},
     "output_type": "execute_result"
    }
   ],
   "source": [
    "results = random.choices(df.num_success, weights=df.probability, k=1000)\n",
    "results[:5]"
   ]
  },
  {
   "cell_type": "code",
   "execution_count": 50,
   "id": "c39d2f65",
   "metadata": {},
   "outputs": [
    {
     "name": "stdout",
     "output_type": "stream",
     "text": [
      "0.052\n"
     ]
    }
   ],
   "source": [
    "count_number_greater_than_5 = 0\n",
    "for result in results:\n",
    "    if result > 5:\n",
    "        count_number_greater_than_5 += 1\n",
    "print(count_number_greater_than_5 / 1000)"
   ]
  },
  {
   "cell_type": "code",
   "execution_count": 52,
   "id": "5545bf80",
   "metadata": {},
   "outputs": [],
   "source": [
    "import collections"
   ]
  },
  {
   "cell_type": "code",
   "execution_count": 53,
   "id": "75839031",
   "metadata": {},
   "outputs": [],
   "source": [
    "counter = collections.Counter(results)"
   ]
  },
  {
   "cell_type": "code",
   "execution_count": 55,
   "id": "a9f216c0",
   "metadata": {},
   "outputs": [
    {
     "name": "stdout",
     "output_type": "stream",
     "text": [
      "44\n",
      "7\n",
      "1\n"
     ]
    }
   ],
   "source": [
    "for num_success, count in counter.items():\n",
    "    if num_success > 5:\n",
    "        print(count)"
   ]
  }
 ],
 "metadata": {
  "kernelspec": {
   "display_name": "Python 3 (ipykernel)",
   "language": "python",
   "name": "python3"
  },
  "language_info": {
   "codemirror_mode": {
    "name": "ipython",
    "version": 3
   },
   "file_extension": ".py",
   "mimetype": "text/x-python",
   "name": "python",
   "nbconvert_exporter": "python",
   "pygments_lexer": "ipython3",
   "version": "3.10.1"
  }
 },
 "nbformat": 4,
 "nbformat_minor": 5
}
